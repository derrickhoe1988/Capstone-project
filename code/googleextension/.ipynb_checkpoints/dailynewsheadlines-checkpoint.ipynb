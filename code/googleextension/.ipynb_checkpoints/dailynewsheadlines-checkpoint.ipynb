{
 "cells": [
  {
   "cell_type": "markdown",
   "metadata": {},
   "source": [
    "# News API "
   ]
  },
  {
   "cell_type": "code",
   "execution_count": 31,
   "metadata": {},
   "outputs": [],
   "source": [
    "from newsapi import NewsApiClient\n",
    "import requests\n",
    "import datetime as dt\n",
    "import pandas as pd\n",
    "newsapi= NewsApiClient(api_key = 'b92f31e6a03f4cf8a1fb120e90ef5451')"
   ]
  },
  {
   "cell_type": "markdown",
   "metadata": {},
   "source": [
    "# BBC Top 10 headlines "
   ]
  },
  {
   "cell_type": "code",
   "execution_count": 140,
   "metadata": {},
   "outputs": [],
   "source": [
    "url = ('http://newsapi.org/v2/top-headlines?sources=bbc-news&apiKey=b92f31e6a03f4cf8a1fb120e90ef5451')\n",
    "headers ={'User-agent':'Derrick'}"
   ]
  },
  {
   "cell_type": "code",
   "execution_count": 141,
   "metadata": {},
   "outputs": [],
   "source": [
    "res = requests.get(url,headers = headers)"
   ]
  },
  {
   "cell_type": "code",
   "execution_count": 142,
   "metadata": {},
   "outputs": [
    {
     "data": {
      "text/plain": [
       "200"
      ]
     },
     "execution_count": 142,
     "metadata": {},
     "output_type": "execute_result"
    }
   ],
   "source": [
    "res.status_code                                                                                                                                                                                                                                                                                                                                                                                                                                                                                                                                                                                                                                                                                                                                                                                                                                                                                                                                                                                                                                                                                                                                                                                                                                                                                                                                                                                                                                                                                                                                                                                                                                                                                                                                                                                                                                                                                                                                                                                                                                                                                                                                                                                                                                                                                                                                                                                                                                                                                                                                                                                                                                                                                                                                                                                                                                                                                                                                                                                                                                                                                                                                                                                                                                                                                                                                                                                                                                                                                                                                                                                                                                                                                                                                                                                                                                                                                                                                                                                                                                                                                                                                                                                                                                                                                                                                                                                                                                                                                                                                                                                                                                                                                                                                                                                                                                                                                                                                                                                                                                                                                                                                                                                                                                                                                                                                                                                                                                                                                                                                                                                                                                                                                                                                                                                                                                                                                                                                                                                                                                                                                                                                                                                                                                                                                                                                                                                                                                                                                                                                                                                                                                                                                                                                                                                                                                                                                                                                                                                                                                                                                                                                                                                                                                                                                                                                                                                                                                                                                                                                                                                                                                                                                                                                                                                                                                                                                                                                                                                                                                                                                                                                                                                                                                                                                                                                                                                                                                                                                                                                                                                                                                                                                                                                                                                                                                                                                                                                                                                                                                                                                                                                                                                                                                                                                                                                                                                                                                                                                                                                                                                                                                                                                                                                                                                                                                                                                                                                                                                                                                                                                                                                                                                                                                                                                                                                                                                                                                                                                                                                                                                                                                                     "
   ]
  },
  {
   "cell_type": "code",
   "execution_count": 143,
   "metadata": {},
   "outputs": [
    {
     "name": "stdout",
     "output_type": "stream",
     "text": [
      "0Coronavirus: Asian growth will grind to a 'standstill' warns IMF\n",
      "1How California kept ahead of the curve\n",
      "2Trump says virus has 'passed the peak' in US\n",
      "3The unexpected items deemed 'essential'\n",
      "4WW2 veteran's NHS fundraiser tops £10m\n",
      "5Why has NYC death toll suddenly surged?\n",
      "6Trump claims about WHO fact-checked\n",
      "7Biden denies ex-aide's sexual assault allegation\n",
      "8Trump’s name to appear on US virus relief cheques\n",
      "9Migrants throng station as India extends lockdown\n"
     ]
    }
   ],
   "source": [
    "bbcheadline=res.json()\n",
    "\n",
    "sorted(bbcheadline.keys())\n",
    "\n",
    "bbcheadline = bbcheadline['articles']\n",
    "\n",
    "for x,y in enumerate(bbcheadline):\n",
    "    print(f'{x}{y[\"title\"]}')"
   ]
  },
  {
   "cell_type": "code",
   "execution_count": 118,
   "metadata": {},
   "outputs": [],
   "source": [
    "#convert to dataframe first\n",
    "df =  pd.DataFrame(bbcheadline)"
   ]
  },
  {
   "cell_type": "markdown",
   "metadata": {},
   "source": [
    "# Google Top 10 headlines"
   ]
  },
  {
   "cell_type": "code",
   "execution_count": 183,
   "metadata": {},
   "outputs": [],
   "source": [
    "url2 = ('http://newsapi.org/v2/top-headlines?sources=google-news&apiKey=b92f31e6a03f4cf8a1fb120e90ef5451')\n",
    "headers ={'User-agent':'Derrick'}"
   ]
  },
  {
   "cell_type": "code",
   "execution_count": 184,
   "metadata": {},
   "outputs": [],
   "source": [
    "res = requests.get(url2,headers = headers)"
   ]
  },
  {
   "cell_type": "code",
   "execution_count": 185,
   "metadata": {},
   "outputs": [
    {
     "data": {
      "text/plain": [
       "200"
      ]
     },
     "execution_count": 185,
     "metadata": {},
     "output_type": "execute_result"
    }
   ],
   "source": [
    "res.status_code"
   ]
  },
  {
   "cell_type": "code",
   "execution_count": 186,
   "metadata": {},
   "outputs": [
    {
     "name": "stdout",
     "output_type": "stream",
     "text": [
      "0Trump threatens to invoke never-used constitutional authority to adjourn Congress and push nominees through\n",
      "1Trump denied he wanted his name on stimulus checks. Here’s how it happened.\n",
      "2Trump says US has 'passed the peak' of coronavirus outbreak\n",
      "3Scammers can capitalize on high school yearbook photos people are posting on social media\n",
      "4Protests heat up in Michigan in response to governor's coronavirus policy\n",
      "5Newsom announces coronavirus help for unemployed, immigrants\n",
      "6Coronavirus could halt L.A. concerts, sports into 2021\n",
      "7CDC director reacts to Trump blaming WHO and preventing second wave l ABC News\n",
      "8Nursing home facilities new epicenter for COVID-19 | WNT\n",
      "9CDC, FEMA have created a plan to reopen America. Here’s what it says.\n"
     ]
    }
   ],
   "source": [
    "googleheadline=res.json()\n",
    "\n",
    "sorted(googleheadline.keys())\n",
    "\n",
    "googleheadline = googleheadline['articles']\n",
    "\n",
    "for x,y in enumerate(googleheadline):\n",
    "    print(f'{x}{y[\"title\"]}')"
   ]
  },
  {
   "cell_type": "code",
   "execution_count": 188,
   "metadata": {},
   "outputs": [
    {
     "data": {
      "text/html": [
       "<div>\n",
       "<style scoped>\n",
       "    .dataframe tbody tr th:only-of-type {\n",
       "        vertical-align: middle;\n",
       "    }\n",
       "\n",
       "    .dataframe tbody tr th {\n",
       "        vertical-align: top;\n",
       "    }\n",
       "\n",
       "    .dataframe thead th {\n",
       "        text-align: right;\n",
       "    }\n",
       "</style>\n",
       "<table border=\"1\" class=\"dataframe\">\n",
       "  <thead>\n",
       "    <tr style=\"text-align: right;\">\n",
       "      <th></th>\n",
       "      <th>source</th>\n",
       "      <th>author</th>\n",
       "      <th>title</th>\n",
       "      <th>description</th>\n",
       "      <th>url</th>\n",
       "      <th>urlToImage</th>\n",
       "      <th>publishedAt</th>\n",
       "      <th>content</th>\n",
       "    </tr>\n",
       "  </thead>\n",
       "  <tbody>\n",
       "    <tr>\n",
       "      <th>0</th>\n",
       "      <td>{'id': 'google-news', 'name': 'Google News'}</td>\n",
       "      <td>Maegan Vazquez and Phil Mattingly, CNN</td>\n",
       "      <td>Trump threatens to invoke never-used constitut...</td>\n",
       "      <td>President Donald Trump threatened Wednesday to...</td>\n",
       "      <td>https://www.cnn.com/2020/04/15/politics/donald...</td>\n",
       "      <td>https://cdn.cnn.com/cnnnext/dam/assets/2004151...</td>\n",
       "      <td>2020-04-16T00:45:44+00:00</td>\n",
       "      <td>(CNN)President Donald Trump threatened Wednesd...</td>\n",
       "    </tr>\n",
       "    <tr>\n",
       "      <th>1</th>\n",
       "      <td>{'id': 'google-news', 'name': 'Google News'}</td>\n",
       "      <td>Toluse Olorunnipa, Lisa Rein</td>\n",
       "      <td>Trump denied he wanted his name on stimulus ch...</td>\n",
       "      <td>The effort to put Trump’s name on millions of ...</td>\n",
       "      <td>https://www.washingtonpost.com/politics/trump-...</td>\n",
       "      <td>https://www.washingtonpost.com/resizer/ckhPmOT...</td>\n",
       "      <td>2020-04-16T00:21:49+00:00</td>\n",
       "      <td>I dont know too much about it. But I understan...</td>\n",
       "    </tr>\n",
       "    <tr>\n",
       "      <th>2</th>\n",
       "      <td>{'id': 'google-news', 'name': 'Google News'}</td>\n",
       "      <td>William Feuer</td>\n",
       "      <td>Trump says US has 'passed the peak' of coronav...</td>\n",
       "      <td>\"The battle continues, but the data suggests t...</td>\n",
       "      <td>https://www.cnbc.com/2020/04/15/trump-says-us-...</td>\n",
       "      <td>https://image.cnbcfm.com/api/v1/image/10649058...</td>\n",
       "      <td>2020-04-16T00:12:32+00:00</td>\n",
       "      <td>President Donald Trump said the U.S. has \"pass...</td>\n",
       "    </tr>\n",
       "    <tr>\n",
       "      <th>3</th>\n",
       "      <td>{'id': 'google-news', 'name': 'Google News'}</td>\n",
       "      <td>Gwen Aviles</td>\n",
       "      <td>Scammers can capitalize on high school yearboo...</td>\n",
       "      <td>Scammers can use information from the #Classof...</td>\n",
       "      <td>https://www.nbcnews.com/pop-culture/pop-cultur...</td>\n",
       "      <td>https://media4.s-nbcnews.com/j/newscms/2019_01...</td>\n",
       "      <td>2020-04-15T22:10:17+00:00</td>\n",
       "      <td>People are posting their graduation photos onl...</td>\n",
       "    </tr>\n",
       "    <tr>\n",
       "      <th>4</th>\n",
       "      <td>{'id': 'google-news', 'name': 'Google News'}</td>\n",
       "      <td>None</td>\n",
       "      <td>Protests heat up in Michigan in response to go...</td>\n",
       "      <td>Citizen of Michigan protest Governor Gretchen ...</td>\n",
       "      <td>https://news.google.com/__i/rss/rd/articles/CB...</td>\n",
       "      <td>https://i.ytimg.com/vi/SC62S0-N3pI/maxresdefau...</td>\n",
       "      <td>2020-04-15T20:47:19+00:00</td>\n",
       "      <td>Citizen of Michigan protest Governor Gretchen ...</td>\n",
       "    </tr>\n",
       "    <tr>\n",
       "      <th>5</th>\n",
       "      <td>{'id': 'google-news', 'name': 'Google News'}</td>\n",
       "      <td>Taryn Luna, Patrick McGreevy, John Myers</td>\n",
       "      <td>Newsom announces coronavirus help for unemploy...</td>\n",
       "      <td>Gov. Newsom says the unemployed will get more ...</td>\n",
       "      <td>https://www.latimes.com/california/story/2020-...</td>\n",
       "      <td>https://ca-times.brightspotcdn.com/dims4/defau...</td>\n",
       "      <td>2020-04-15T20:38:28+00:00</td>\n",
       "      <td>California is expanding hours at its call cent...</td>\n",
       "    </tr>\n",
       "    <tr>\n",
       "      <th>6</th>\n",
       "      <td>{'id': 'google-news', 'name': 'Google News'}</td>\n",
       "      <td>Dakota Smith, Ben Welsh</td>\n",
       "      <td>Coronavirus could halt L.A. concerts, sports i...</td>\n",
       "      <td>Mayor Eric Garcetti has told top city staffers...</td>\n",
       "      <td>https://www.latimes.com/california/story/2020-...</td>\n",
       "      <td>https://ca-times.brightspotcdn.com/dims4/defau...</td>\n",
       "      <td>2020-04-15T17:29:33+00:00</td>\n",
       "      <td>Los Angeles may hold off on allowing big gathe...</td>\n",
       "    </tr>\n",
       "    <tr>\n",
       "      <th>7</th>\n",
       "      <td>{'id': 'google-news', 'name': 'Google News'}</td>\n",
       "      <td>None</td>\n",
       "      <td>CDC director reacts to Trump blaming WHO and p...</td>\n",
       "      <td>Dr. Robert Redfield addresses the president's ...</td>\n",
       "      <td>https://www.youtube.com/watch?v=6kAef834Sr8</td>\n",
       "      <td>https://i.ytimg.com/vi/6kAef834Sr8/maxresdefau...</td>\n",
       "      <td>2020-04-15T13:44:43+00:00</td>\n",
       "      <td>Dr. Robert Redfield addresses the president's ...</td>\n",
       "    </tr>\n",
       "    <tr>\n",
       "      <th>8</th>\n",
       "      <td>{'id': 'google-news', 'name': 'Google News'}</td>\n",
       "      <td>None</td>\n",
       "      <td>Nursing home facilities new epicenter for COVI...</td>\n",
       "      <td>They accounted for 25% of coronavirus deaths i...</td>\n",
       "      <td>https://news.google.com/__i/rss/rd/articles/CB...</td>\n",
       "      <td>https://i.ytimg.com/vi/xJ6bKaisiNE/maxresdefau...</td>\n",
       "      <td>2020-04-14T23:55:14+00:00</td>\n",
       "      <td>They accounted for 25% of coronavirus deaths i...</td>\n",
       "    </tr>\n",
       "    <tr>\n",
       "      <th>9</th>\n",
       "      <td>{'id': 'google-news', 'name': 'Google News'}</td>\n",
       "      <td>Lena H. Sun, Josh Dawsey, William Wan</td>\n",
       "      <td>CDC, FEMA have created a plan to reopen Americ...</td>\n",
       "      <td>FEMA and CDC officials worked on the plan for ...</td>\n",
       "      <td>https://www.washingtonpost.com/health/2020/04/...</td>\n",
       "      <td>https://www.washingtonpost.com/resizer/3P_3ueW...</td>\n",
       "      <td>2020-04-14T23:17:00+00:00</td>\n",
       "      <td>CDC and FEMA officials have worked on the publ...</td>\n",
       "    </tr>\n",
       "  </tbody>\n",
       "</table>\n",
       "</div>"
      ],
      "text/plain": [
       "                                         source  \\\n",
       "0  {'id': 'google-news', 'name': 'Google News'}   \n",
       "1  {'id': 'google-news', 'name': 'Google News'}   \n",
       "2  {'id': 'google-news', 'name': 'Google News'}   \n",
       "3  {'id': 'google-news', 'name': 'Google News'}   \n",
       "4  {'id': 'google-news', 'name': 'Google News'}   \n",
       "5  {'id': 'google-news', 'name': 'Google News'}   \n",
       "6  {'id': 'google-news', 'name': 'Google News'}   \n",
       "7  {'id': 'google-news', 'name': 'Google News'}   \n",
       "8  {'id': 'google-news', 'name': 'Google News'}   \n",
       "9  {'id': 'google-news', 'name': 'Google News'}   \n",
       "\n",
       "                                     author  \\\n",
       "0    Maegan Vazquez and Phil Mattingly, CNN   \n",
       "1              Toluse Olorunnipa, Lisa Rein   \n",
       "2                             William Feuer   \n",
       "3                               Gwen Aviles   \n",
       "4                                      None   \n",
       "5  Taryn Luna, Patrick McGreevy, John Myers   \n",
       "6                   Dakota Smith, Ben Welsh   \n",
       "7                                      None   \n",
       "8                                      None   \n",
       "9     Lena H. Sun, Josh Dawsey, William Wan   \n",
       "\n",
       "                                               title  \\\n",
       "0  Trump threatens to invoke never-used constitut...   \n",
       "1  Trump denied he wanted his name on stimulus ch...   \n",
       "2  Trump says US has 'passed the peak' of coronav...   \n",
       "3  Scammers can capitalize on high school yearboo...   \n",
       "4  Protests heat up in Michigan in response to go...   \n",
       "5  Newsom announces coronavirus help for unemploy...   \n",
       "6  Coronavirus could halt L.A. concerts, sports i...   \n",
       "7  CDC director reacts to Trump blaming WHO and p...   \n",
       "8  Nursing home facilities new epicenter for COVI...   \n",
       "9  CDC, FEMA have created a plan to reopen Americ...   \n",
       "\n",
       "                                         description  \\\n",
       "0  President Donald Trump threatened Wednesday to...   \n",
       "1  The effort to put Trump’s name on millions of ...   \n",
       "2  \"The battle continues, but the data suggests t...   \n",
       "3  Scammers can use information from the #Classof...   \n",
       "4  Citizen of Michigan protest Governor Gretchen ...   \n",
       "5  Gov. Newsom says the unemployed will get more ...   \n",
       "6  Mayor Eric Garcetti has told top city staffers...   \n",
       "7  Dr. Robert Redfield addresses the president's ...   \n",
       "8  They accounted for 25% of coronavirus deaths i...   \n",
       "9  FEMA and CDC officials worked on the plan for ...   \n",
       "\n",
       "                                                 url  \\\n",
       "0  https://www.cnn.com/2020/04/15/politics/donald...   \n",
       "1  https://www.washingtonpost.com/politics/trump-...   \n",
       "2  https://www.cnbc.com/2020/04/15/trump-says-us-...   \n",
       "3  https://www.nbcnews.com/pop-culture/pop-cultur...   \n",
       "4  https://news.google.com/__i/rss/rd/articles/CB...   \n",
       "5  https://www.latimes.com/california/story/2020-...   \n",
       "6  https://www.latimes.com/california/story/2020-...   \n",
       "7        https://www.youtube.com/watch?v=6kAef834Sr8   \n",
       "8  https://news.google.com/__i/rss/rd/articles/CB...   \n",
       "9  https://www.washingtonpost.com/health/2020/04/...   \n",
       "\n",
       "                                          urlToImage  \\\n",
       "0  https://cdn.cnn.com/cnnnext/dam/assets/2004151...   \n",
       "1  https://www.washingtonpost.com/resizer/ckhPmOT...   \n",
       "2  https://image.cnbcfm.com/api/v1/image/10649058...   \n",
       "3  https://media4.s-nbcnews.com/j/newscms/2019_01...   \n",
       "4  https://i.ytimg.com/vi/SC62S0-N3pI/maxresdefau...   \n",
       "5  https://ca-times.brightspotcdn.com/dims4/defau...   \n",
       "6  https://ca-times.brightspotcdn.com/dims4/defau...   \n",
       "7  https://i.ytimg.com/vi/6kAef834Sr8/maxresdefau...   \n",
       "8  https://i.ytimg.com/vi/xJ6bKaisiNE/maxresdefau...   \n",
       "9  https://www.washingtonpost.com/resizer/3P_3ueW...   \n",
       "\n",
       "                 publishedAt  \\\n",
       "0  2020-04-16T00:45:44+00:00   \n",
       "1  2020-04-16T00:21:49+00:00   \n",
       "2  2020-04-16T00:12:32+00:00   \n",
       "3  2020-04-15T22:10:17+00:00   \n",
       "4  2020-04-15T20:47:19+00:00   \n",
       "5  2020-04-15T20:38:28+00:00   \n",
       "6  2020-04-15T17:29:33+00:00   \n",
       "7  2020-04-15T13:44:43+00:00   \n",
       "8  2020-04-14T23:55:14+00:00   \n",
       "9  2020-04-14T23:17:00+00:00   \n",
       "\n",
       "                                             content  \n",
       "0  (CNN)President Donald Trump threatened Wednesd...  \n",
       "1  I dont know too much about it. But I understan...  \n",
       "2  President Donald Trump said the U.S. has \"pass...  \n",
       "3  People are posting their graduation photos onl...  \n",
       "4  Citizen of Michigan protest Governor Gretchen ...  \n",
       "5  California is expanding hours at its call cent...  \n",
       "6  Los Angeles may hold off on allowing big gathe...  \n",
       "7  Dr. Robert Redfield addresses the president's ...  \n",
       "8  They accounted for 25% of coronavirus deaths i...  \n",
       "9  CDC and FEMA officials have worked on the publ...  "
      ]
     },
     "execution_count": 188,
     "metadata": {},
     "output_type": "execute_result"
    }
   ],
   "source": [
    "#convert to dataframe first\n",
    "df2 =  pd.DataFrame(googleheadline)\n",
    "df2"
   ]
  },
  {
   "cell_type": "markdown",
   "metadata": {},
   "source": [
    "# Reuters Top 10 headlines"
   ]
  },
  {
   "cell_type": "code",
   "execution_count": 135,
   "metadata": {},
   "outputs": [],
   "source": [
    "url3 = ('http://newsapi.org/v2/top-headlines?sources=reuters&from=2020-03-16&to=2020-03-16&sortBy=popularity&apiKey=4ac92a95346643fdbdb26a7e4d0e98b1')\n",
    "headers ={'User-agent':'Derrick'}"
   ]
  },
  {
   "cell_type": "code",
   "execution_count": 133,
   "metadata": {},
   "outputs": [
    {
     "data": {
      "text/plain": [
       "200"
      ]
     },
     "execution_count": 133,
     "metadata": {},
     "output_type": "execute_result"
    }
   ],
   "source": [
    "res = requests.get(url3,headers = headers)\n",
    "res.status_code"
   ]
  },
  {
   "cell_type": "code",
   "execution_count": 134,
   "metadata": {},
   "outputs": [
    {
     "name": "stdout",
     "output_type": "stream",
     "text": [
      "0Gates ups pandemic funds to $250 million, says Trump WHO move makes 'no sense'\n",
      "1Trump says U.S. investigating whether virus came from Wuhan lab\n",
      "2Teamsters president tells Trump not to reopen economy until safe\n",
      "3WHO regrets Trump funding halt as global coronavirus cases top 2 million\n",
      "4U.S. funds that would have gone to WHO could be given to aid groups: Trump officials\n",
      "5Americans face 'new normal' of life with face masks\n",
      "6Trump to announce 'guidelines' on reopening U.S. economy Thursday\n",
      "7Best Buy to furlough 51,000 hourly U.S. store employees\n",
      "8U.S. Supreme Court to hear Trump financial records cases on May 12\n",
      "9Explainer: What the U.S. funds freeze could mean for WHO and its work\n"
     ]
    }
   ],
   "source": [
    "reuters =res.json()\n",
    "\n",
    "sorted(reuters.keys())\n",
    "\n",
    "reuters = reuters['articles']\n",
    "\n",
    "for x,y in enumerate(reuters):\n",
    "    print(f'{x}{y[\"title\"]}')"
   ]
  },
  {
   "cell_type": "code",
   "execution_count": 130,
   "metadata": {},
   "outputs": [],
   "source": [
    "#create a new dataframe\n",
    "df3 =  pd.DataFrame(reuters)"
   ]
  },
  {
   "cell_type": "markdown",
   "metadata": {},
   "source": [
    "# Tech Crunch Top 10 Headlines"
   ]
  },
  {
   "cell_type": "code",
   "execution_count": 144,
   "metadata": {},
   "outputs": [],
   "source": [
    "url4 = ('http://newsapi.org/v2/top-headlines?sources=techcrunch&apiKey=b92f31e6a03f4cf8a1fb120e90ef5451')\n",
    "headers ={'User-agent':'Derrick'}"
   ]
  },
  {
   "cell_type": "code",
   "execution_count": 145,
   "metadata": {},
   "outputs": [
    {
     "data": {
      "text/plain": [
       "200"
      ]
     },
     "execution_count": 145,
     "metadata": {},
     "output_type": "execute_result"
    }
   ],
   "source": [
    "res = requests.get(url4,headers = headers)\n",
    "res.status_code"
   ]
  },
  {
   "cell_type": "code",
   "execution_count": 146,
   "metadata": {},
   "outputs": [
    {
     "name": "stdout",
     "output_type": "stream",
     "text": [
      "0Financial tech startup Previse raises $11 million to help suppliers get paid faster\n",
      "1Mayfield raises $750 million across two funds\n",
      "2Medopad rebrands as Huma, acquires BioBeats and TLT to expand its biomarker platform\n",
      "3Developer platform Glitch debuts $10/mo tier for power users\n",
      "4Extra Crunch members save money with Partner Perks and event discounts\n",
      "5Coronavirus rattles NASA, but Commercial Crew and Mars Perseverance rover are on track\n",
      "6Original Content: Netflix's 'Tigertail' tells a melancholy immigrant story\n",
      "7Airwallex gets $160 million Series D to launch more cross-border financial products\n",
      "8Markets dragged down by abysmal retail sales and factory output\n",
      "9Houseparty reports 50M sign-ups in past month amid COVID-19 lockdowns\n"
     ]
    }
   ],
   "source": [
    "techcrunchheadlines=res.json()\n",
    "\n",
    "sorted(techcrunchheadlines.keys())\n",
    "\n",
    "techcrunchheadlines = techcrunchheadlines['articles']\n",
    "\n",
    "for x,y in enumerate(techcrunchheadlines):\n",
    "    print(f'{x}{y[\"title\"]}')"
   ]
  },
  {
   "cell_type": "code",
   "execution_count": 147,
   "metadata": {},
   "outputs": [],
   "source": [
    "df4 =  pd.DataFrame(techcrunchheadlines)"
   ]
  },
  {
   "cell_type": "markdown",
   "metadata": {},
   "source": [
    "# Trump Top 20 headlines"
   ]
  },
  {
   "cell_type": "code",
   "execution_count": 148,
   "metadata": {},
   "outputs": [],
   "source": [
    "url5 = ('http://newsapi.org/v2/top-headlines?q=trump&apiKey=b92f31e6a03f4cf8a1fb120e90ef5451')\n",
    "headers ={'User-agent':'Derrick'}"
   ]
  },
  {
   "cell_type": "code",
   "execution_count": 149,
   "metadata": {},
   "outputs": [],
   "source": [
    "res = requests.get(url5,headers = headers)"
   ]
  },
  {
   "cell_type": "code",
   "execution_count": 150,
   "metadata": {},
   "outputs": [
    {
     "data": {
      "text/plain": [
       "200"
      ]
     },
     "execution_count": 150,
     "metadata": {},
     "output_type": "execute_result"
    }
   ],
   "source": [
    "res.status_code"
   ]
  },
  {
   "cell_type": "code",
   "execution_count": 151,
   "metadata": {},
   "outputs": [
    {
     "name": "stdout",
     "output_type": "stream",
     "text": [
      "0Australia coronavirus live updates: Rudd slams Trump's 'lunatic' WHO decision as national cabinet meets – latest news\n",
      "1Trump Threatens To Adjourn Congress For Not Confirming His Judicial Nominees\n",
      "2Donald Trump to announce guidelines on reopening US economy\n",
      "3Gates ups pandemic funds to $250 million, says Trump WHO move makes 'no sense'\n",
      "4Coronavirus Task Force Plans Release of Guidelines to Reopen Country\n",
      "5Coronavirus latest: Trump to reveal guidelines on Thursday for reopening economy\n",
      "6Trump threatens to invoke never-used constitutional authority to adjourn Congress and push nominees through\n",
      "7Trump says U.S. investigating whether virus came from Wuhan lab\n",
      "8Teamsters president tells Trump not to reopen economy until safe\n",
      "9WHO regrets Trump funding halt as global coronavirus cases top 2 million\n",
      "10U.S. funds that would have gone to WHO could be given to aid groups: Trump officials\n",
      "11Trump says he may forcefully adjourn Congress, use recess to appoint nominees\n",
      "12Trump says virus has 'passed the peak' in US\n",
      "13Michigan protesters demonstrate against Governor Whitmer's stay-at-homer order in Lansing\n",
      "14Stop trying to make normal happen\n",
      "15Trump threatens to invoke constitutional power to adjourn Congress because of hold-up over nominees\n",
      "16Trump’s move against the World Health Organization is latest twist in a shifting policy on China\n",
      "17Trump droht Kongress mit Zwangspause\n",
      "18USA: Trump droht Kongress mit Zwangspause\n",
      "19Trump: Folks Will Be Happy to Get Big Fat Beautiful Checks with My Name\n"
     ]
    }
   ],
   "source": [
    "trumpheadlines=res.json()\n",
    "\n",
    "sorted(trumpheadlines.keys())\n",
    "\n",
    "trumpheadlines = trumpheadlines['articles']\n",
    "\n",
    "for x,y in enumerate(trumpheadlines):\n",
    "    print(f'{x}{y[\"title\"]}')"
   ]
  },
  {
   "cell_type": "code",
   "execution_count": 159,
   "metadata": {},
   "outputs": [],
   "source": [
    "df5 =  pd.DataFrame(trumpheadlines)"
   ]
  },
  {
   "cell_type": "markdown",
   "metadata": {},
   "source": [
    "# UK HEADLINE 20 headlines"
   ]
  },
  {
   "cell_type": "code",
   "execution_count": 123,
   "metadata": {},
   "outputs": [],
   "source": [
    "url6 = ('http://newsapi.org/v2/top-headlines?country=gb&apiKey=4ac92a95346643fdbdb26a7e4d0e98b1')\n",
    "headers ={'User-agent':'Derrick'}"
   ]
  },
  {
   "cell_type": "code",
   "execution_count": 124,
   "metadata": {},
   "outputs": [
    {
     "data": {
      "text/plain": [
       "200"
      ]
     },
     "execution_count": 124,
     "metadata": {},
     "output_type": "execute_result"
    }
   ],
   "source": [
    "res = requests.get(url6,headers = headers)\n",
    "res.status_code"
   ]
  },
  {
   "cell_type": "code",
   "execution_count": 125,
   "metadata": {},
   "outputs": [
    {
     "name": "stdout",
     "output_type": "stream",
     "text": [
      "0Quiz fans are left reeling as finale hints that 'coughing Major' Charles Ingram is innocent - Daily Mail\n",
      "1Health experts condemn Trump's halting of funding to WHO - The Guardian\n",
      "2Crawley likely to be worst affected by UK coronavirus job losses - The Guardian\n",
      "3Donald Trump says US has 'passed the peak' of coronavirus crisis - Metro.co.uk\n",
      "4Discharging coronavirus patients into care homes is 'madness', Government told - Telegraph.co.uk\n",
      "5Deontay Wilder hints that he could RETIRE if he loses Tyson Fury trilogy fight after Las Vegas loss - Daily Mail\n",
      "6EU bars bailed-out companies from paying dividends and bonuses - Financial Times\n",
      "7Coronavirus: Carer says 'day after day we are losing people to this virus - each shift is getting worse' - Sky News\n",
      "8Every Premier League club's most disappointing player in 2019-20 season - Mirror Online\n",
      "9Coronavirus: Captain Tom Moore's NHS fundraiser tops £10m - BBC News\n",
      "10Pregnant nurse's death adds to concern among expecting health workers - The Guardian\n",
      "11Coronavirus: Germany slowly eases lockdown measures - BBC News\n",
      "12Scientists closer to unlocking mystery behind how neutrinos helped spread matter after Big Bang - Daily Mail\n",
      "13Tour de France going ahead could be recipe for disaster, says global public health expert - Cyclingnews.com\n",
      "14Matt Hancock warns UK lockdown is likely to be extended by three weeks - Daily Mail\n",
      "15Four waves of coronavirus could sweep Europe and US once killer bug takes hold in Africa, expert warns - The Sun\n",
      "16Arsenal players reject pay cut to aid club and demand wage deferral or bust - The Guardian\n",
      "17Pregnant nurse who tested positive for Covid-19 dies after doctors saved her baby - Telegraph.co.uk\n",
      "18Matt Damon self-isolating in small Irish town as lockdown traps him - Metro.co.uk\n",
      "19Why the UK's coronavirus bailout plan isn't working - The Guardian\n"
     ]
    }
   ],
   "source": [
    "ukheadlines=res.json()\n",
    "\n",
    "sorted(ukheadlines.keys())\n",
    "\n",
    "ukheadlines = ukheadlines['articles']\n",
    "\n",
    "for x,y in enumerate(ukheadlines):\n",
    "    print(f'{x}{y[\"title\"]}')"
   ]
  },
  {
   "cell_type": "code",
   "execution_count": 126,
   "metadata": {},
   "outputs": [],
   "source": [
    "df6 =  pd.DataFrame(trumpheadlines)"
   ]
  },
  {
   "cell_type": "markdown",
   "metadata": {},
   "source": [
    "# Top 20 Headlines in US"
   ]
  },
  {
   "cell_type": "code",
   "execution_count": 153,
   "metadata": {},
   "outputs": [],
   "source": [
    "url7 = ('http://newsapi.org/v2/top-headlines?country=us&apiKey=b92f31e6a03f4cf8a1fb120e90ef5451')\n",
    "headers ={'User-agent':'Derrick'}"
   ]
  },
  {
   "cell_type": "code",
   "execution_count": 154,
   "metadata": {},
   "outputs": [
    {
     "data": {
      "text/plain": [
       "200"
      ]
     },
     "execution_count": 154,
     "metadata": {},
     "output_type": "execute_result"
    }
   ],
   "source": [
    "res = requests.get(url7,headers = headers)\n",
    "res.status_code"
   ]
  },
  {
   "cell_type": "code",
   "execution_count": 156,
   "metadata": {},
   "outputs": [
    {
     "name": "stdout",
     "output_type": "stream",
     "text": [
      "0Roy Halladay did stunts and had amphetamines in system prior to fatal plane crash, NTSB report says - CBS Sports\n",
      "1Buccaneers tight end O.J. Howard on the trading block, per report - CBS Sports\n",
      "2Michael Che Paying One Month’s Rent For 160 Apartments in NYC - TMZ\n",
      "3​In South Korea Vote, ​Virus Delivers Landslide Win to Governing Party - The New York Times\n",
      "4Los Angeles mayor says 'very difficult to see' large gatherings like concerts and sporting events until 2021 - CNN\n",
      "5Bed Bath & Beyond shares rise as earnings top estimates, retailer plans to maintain some key investments - CNBC\n",
      "6Scammers can capitalize on high school yearbook photos people are posting on social media - NBC News\n",
      "7How Germany plans to gradually reopen its economy after a weekslong coronavirus shutdown - CNBC\n",
      "8Luisana Lopilato Is Defending Husband Michael Bublé After He Elbowed Her In An Instagram Video - BuzzFeed News\n",
      "9Timeline: How Trump And WHO Reacted At Key Moments During The Coronavirus Crisis : Goats and Soda - NPR\n",
      "10NASA discovery of planet remarkably like ours gives hope for 'second Earth' - CNET\n",
      "11Surprising number of pregnant women at NYC hospitals test positive for COVID-19 - Live Science\n",
      "12ESPN proposes two Eagles trade scenarios in the 2020 NFL Draft - Bleeding Green Nation\n",
      "13IRS's coronavirus stimulus check tracking tool is not working for some people - CNBC\n",
      "14Can you tell a coronavirus cough from a regular cold? There could be an app for that. - Yahoo News\n",
      "15New Yorkers must wear masks when unable to socially distance, Gov. Cuomo says - CNN\n",
      "16Coronavirus relief: We answer your questions about how the CARES Act affects retirement withdrawals and IRAs - USA TODAY\n",
      "17Install the Latest Windows 10 Patch to Block Two Serious Vulnerabilities - Lifehacker\n",
      "18Poll: Trump leads Biden by 7 points in North Carolina | TheHill - The Hill\n",
      "19Tornado damage seen from space - CNN\n"
     ]
    }
   ],
   "source": [
    "usheadlines=res.json()\n",
    "\n",
    "sorted(usheadlines.keys())\n",
    "\n",
    "usheadlines = usheadlines['articles']\n",
    "\n",
    "for x,y in enumerate(usheadlines):\n",
    "    print(f'{x}{y[\"title\"]}')"
   ]
  },
  {
   "cell_type": "code",
   "execution_count": 157,
   "metadata": {},
   "outputs": [],
   "source": [
    "df7 =  pd.DataFrame(usheadlines)"
   ]
  },
  {
   "cell_type": "markdown",
   "metadata": {},
   "source": [
    "# Time to combine all dataframes together "
   ]
  },
  {
   "cell_type": "code",
   "execution_count": 189,
   "metadata": {},
   "outputs": [
    {
     "data": {
      "text/plain": [
       "(100, 8)"
      ]
     },
     "execution_count": 189,
     "metadata": {},
     "output_type": "execute_result"
    }
   ],
   "source": [
    "finaldf= pd.concat([df,df2,df3,df4,df5,df6,df7],sort=True).reset_index(drop=True)\n",
    "finaldf.shape"
   ]
  },
  {
   "cell_type": "code",
   "execution_count": 190,
   "metadata": {},
   "outputs": [],
   "source": [
    "#to remove the columns that we do not need\n",
    "finaldf = finaldf.drop(['author', 'source','url','description','urlToImage','content'], axis=1)\n",
    "#change to date to datetime.\n",
    "finaldf['publishedAt'] = finaldf['publishedAt'].str[:10]\n",
    "finaldf['publishedAt'] = pd.to_datetime(finaldf['publishedAt'])"
   ]
  },
  {
   "cell_type": "code",
   "execution_count": 191,
   "metadata": {},
   "outputs": [
    {
     "data": {
      "text/html": [
       "<div>\n",
       "<style scoped>\n",
       "    .dataframe tbody tr th:only-of-type {\n",
       "        vertical-align: middle;\n",
       "    }\n",
       "\n",
       "    .dataframe tbody tr th {\n",
       "        vertical-align: top;\n",
       "    }\n",
       "\n",
       "    .dataframe thead th {\n",
       "        text-align: right;\n",
       "    }\n",
       "</style>\n",
       "<table border=\"1\" class=\"dataframe\">\n",
       "  <thead>\n",
       "    <tr style=\"text-align: right;\">\n",
       "      <th></th>\n",
       "      <th>publishedAt</th>\n",
       "      <th>title</th>\n",
       "    </tr>\n",
       "  </thead>\n",
       "  <tbody>\n",
       "    <tr>\n",
       "      <th>0</th>\n",
       "      <td>2020-04-16</td>\n",
       "      <td>Coronavirus: Asian growth will grind to a 'sta...</td>\n",
       "    </tr>\n",
       "    <tr>\n",
       "      <th>1</th>\n",
       "      <td>2020-04-16</td>\n",
       "      <td>How California kept ahead of the curve</td>\n",
       "    </tr>\n",
       "    <tr>\n",
       "      <th>2</th>\n",
       "      <td>2020-04-16</td>\n",
       "      <td>Trump says virus has 'passed the peak' in US</td>\n",
       "    </tr>\n",
       "    <tr>\n",
       "      <th>3</th>\n",
       "      <td>2020-04-15</td>\n",
       "      <td>The unexpected items deemed 'essential'</td>\n",
       "    </tr>\n",
       "    <tr>\n",
       "      <th>4</th>\n",
       "      <td>2020-04-15</td>\n",
       "      <td>WW2 veteran's NHS fundraiser tops £10m</td>\n",
       "    </tr>\n",
       "    <tr>\n",
       "      <th>...</th>\n",
       "      <td>...</td>\n",
       "      <td>...</td>\n",
       "    </tr>\n",
       "    <tr>\n",
       "      <th>95</th>\n",
       "      <td>2020-04-15</td>\n",
       "      <td>New Yorkers must wear masks when unable to soc...</td>\n",
       "    </tr>\n",
       "    <tr>\n",
       "      <th>96</th>\n",
       "      <td>2020-04-15</td>\n",
       "      <td>Coronavirus relief: We answer your questions a...</td>\n",
       "    </tr>\n",
       "    <tr>\n",
       "      <th>97</th>\n",
       "      <td>2020-04-15</td>\n",
       "      <td>Install the Latest Windows 10 Patch to Block T...</td>\n",
       "    </tr>\n",
       "    <tr>\n",
       "      <th>98</th>\n",
       "      <td>2020-04-15</td>\n",
       "      <td>Poll: Trump leads Biden by 7 points in North C...</td>\n",
       "    </tr>\n",
       "    <tr>\n",
       "      <th>99</th>\n",
       "      <td>2020-04-15</td>\n",
       "      <td>Tornado damage seen from space - CNN</td>\n",
       "    </tr>\n",
       "  </tbody>\n",
       "</table>\n",
       "<p>100 rows × 2 columns</p>\n",
       "</div>"
      ],
      "text/plain": [
       "   publishedAt                                              title\n",
       "0   2020-04-16  Coronavirus: Asian growth will grind to a 'sta...\n",
       "1   2020-04-16             How California kept ahead of the curve\n",
       "2   2020-04-16       Trump says virus has 'passed the peak' in US\n",
       "3   2020-04-15            The unexpected items deemed 'essential'\n",
       "4   2020-04-15             WW2 veteran's NHS fundraiser tops £10m\n",
       "..         ...                                                ...\n",
       "95  2020-04-15  New Yorkers must wear masks when unable to soc...\n",
       "96  2020-04-15  Coronavirus relief: We answer your questions a...\n",
       "97  2020-04-15  Install the Latest Windows 10 Patch to Block T...\n",
       "98  2020-04-15  Poll: Trump leads Biden by 7 points in North C...\n",
       "99  2020-04-15               Tornado damage seen from space - CNN\n",
       "\n",
       "[100 rows x 2 columns]"
      ]
     },
     "execution_count": 191,
     "metadata": {},
     "output_type": "execute_result"
    }
   ],
   "source": [
    "finaldf"
   ]
  },
  {
   "cell_type": "code",
   "execution_count": 192,
   "metadata": {},
   "outputs": [],
   "source": [
    "# Function to getting some basic information about each dataframe\n",
    "# shape of dataframe i.e. number of rows and columns\n",
    "# total number of rows with null values\n",
    "# total number of duplicates\n",
    "# data types of columns\n",
    "def basic_eda(df, df_name):\n",
    "    print(df_name.upper())\n",
    "    print()\n",
    "    print(f\"Rows: {df.shape[0]} \\t Columns: {df.shape[1]}\")\n",
    "    print()\n",
    "    print(f\"Total null rows: {df.isnull().sum().sum()}\")\n",
    "    print(f\"Percentage null rows: {round(df.isnull().sum().sum() / df.shape[0] * 100, 2)}%\")\n",
    "    print()\n",
    "    print(f\"Total duplicate rows: {df[df.duplicated(keep=False)].shape[0]}\")\n",
    "    print(f\"Percentage dupe rows: {round(df[df.duplicated(keep=False)].shape[0] / df.shape[0] * 100, 2)}%\")\n",
    "    print()\n",
    "    print(df.dtypes)\n",
    "    print(\"-----\\n\")"
   ]
  },
  {
   "cell_type": "code",
   "execution_count": 193,
   "metadata": {},
   "outputs": [
    {
     "name": "stdout",
     "output_type": "stream",
     "text": [
      "FINALDF\n",
      "\n",
      "Rows: 100 \t Columns: 2\n",
      "\n",
      "Total null rows: 0\n",
      "Percentage null rows: 0.0%\n",
      "\n",
      "Total duplicate rows: 23\n",
      "Percentage dupe rows: 23.0%\n",
      "\n",
      "publishedAt    datetime64[ns]\n",
      "title                  object\n",
      "dtype: object\n",
      "-----\n",
      "\n"
     ]
    }
   ],
   "source": [
    "#to check for null rows and duplicate row.\n",
    "basic_eda(finaldf,'finaldf')"
   ]
  },
  {
   "cell_type": "markdown",
   "metadata": {},
   "source": [
    "### We will not remove any duplicates as duplicated headlines will indicate the importance of the headlines that will place an increase weightage in influencing the Volatiliy index."
   ]
  },
  {
   "cell_type": "code",
   "execution_count": 197,
   "metadata": {},
   "outputs": [],
   "source": [
    "# We would need to combine them into one row according to date\n",
    "finaldf.head()"
   ]
  },
  {
   "cell_type": "code",
   "execution_count": 201,
   "metadata": {},
   "outputs": [
    {
     "data": {
      "text/html": [
       "<div>\n",
       "<style scoped>\n",
       "    .dataframe tbody tr th:only-of-type {\n",
       "        vertical-align: middle;\n",
       "    }\n",
       "\n",
       "    .dataframe tbody tr th {\n",
       "        vertical-align: top;\n",
       "    }\n",
       "\n",
       "    .dataframe thead th {\n",
       "        text-align: right;\n",
       "    }\n",
       "</style>\n",
       "<table border=\"1\" class=\"dataframe\">\n",
       "  <thead>\n",
       "    <tr style=\"text-align: right;\">\n",
       "      <th></th>\n",
       "      <th>publishedAt</th>\n",
       "      <th>title</th>\n",
       "    </tr>\n",
       "  </thead>\n",
       "  <tbody>\n",
       "    <tr>\n",
       "      <th>0</th>\n",
       "      <td>2020-04-14</td>\n",
       "      <td>Nursing home facilities new epicenter for COVI...</td>\n",
       "    </tr>\n",
       "    <tr>\n",
       "      <th>1</th>\n",
       "      <td>2020-04-15</td>\n",
       "      <td>The unexpected items deemed 'essential',WW2 ve...</td>\n",
       "    </tr>\n",
       "    <tr>\n",
       "      <th>2</th>\n",
       "      <td>2020-04-16</td>\n",
       "      <td>Coronavirus: Asian growth will grind to a 'sta...</td>\n",
       "    </tr>\n",
       "  </tbody>\n",
       "</table>\n",
       "</div>"
      ],
      "text/plain": [
       "  publishedAt                                              title\n",
       "0  2020-04-14  Nursing home facilities new epicenter for COVI...\n",
       "1  2020-04-15  The unexpected items deemed 'essential',WW2 ve...\n",
       "2  2020-04-16  Coronavirus: Asian growth will grind to a 'sta..."
      ]
     },
     "execution_count": 201,
     "metadata": {},
     "output_type": "execute_result"
    }
   ],
   "source": [
    "finaldf = finaldf.groupby(['publishedAt'], as_index = False).agg({'title': ','.join})\n",
    "finaldf"
   ]
  },
  {
   "cell_type": "markdown",
   "metadata": {},
   "source": [
    "#### Saving dataframe to csv"
   ]
  },
  {
   "cell_type": "code",
   "execution_count": 196,
   "metadata": {},
   "outputs": [],
   "source": [
    "finaldf.to_csv('mainnewsheadline.csv',header= True,index =True)"
   ]
  }
 ],
 "metadata": {
  "kernelspec": {
   "display_name": "Python 3",
   "language": "python",
   "name": "python3"
  },
  "language_info": {
   "codemirror_mode": {
    "name": "ipython",
    "version": 3
   },
   "file_extension": ".py",
   "mimetype": "text/x-python",
   "name": "python",
   "nbconvert_exporter": "python",
   "pygments_lexer": "ipython3",
   "version": "3.7.6"
  }
 },
 "nbformat": 4,
 "nbformat_minor": 2
}
