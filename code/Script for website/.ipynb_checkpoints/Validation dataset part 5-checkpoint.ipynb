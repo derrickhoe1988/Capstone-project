{
 "cells": [
  {
   "cell_type": "markdown",
   "metadata": {
    "colab_type": "text",
    "id": "upaP_LuAft_z"
   },
   "source": [
    "# Project 4: Predicting Volatility Index price with Sentiment Analysis on News headlines\n",
    "\n",
    "## This is the final Script to run on daily basis for prediction of Vix index and sentiment review."
   ]
  },
  {
   "cell_type": "markdown",
   "metadata": {
    "colab_type": "text",
    "id": "3tcTYU2qft_0"
   },
   "source": [
    "# Dataset \n",
    "\n",
    "We will retrieve a set of data from a api source called News Api.\n",
    "\n",
    "News API is a simple HTTP REST API for searching and retrieving live articles from all over the web, in this case we have choosen to retrive top news headlnes.\n",
    "\n",
    "**News headlines** consist of : \n",
    "\n",
    "- Top 10 BBC Headlines\n",
    "- Top 10 Google Headlines\n",
    "- Top 10 Tech Crunch Headlines\n",
    "- Top 20 Trump Headlines\n",
    "- Top 20 UK headlines\n",
    "- Top 20 US headlines\n",
    "\n",
    "Source  :  https://newsapi.org/docs/endpoints/top-headlines"
   ]
  },
  {
   "cell_type": "markdown",
   "metadata": {
    "colab_type": "text",
    "id": "Aez6RNz2ft_1"
   },
   "source": [
    "# Model\n",
    "\n",
    "We will run through the our NewsApi through the models below :\n",
    "\n",
    "1. Chosen Classifier Model  (3 stacked LSTM)\n",
    "\n",
    "2. TradingSentiment Tool    (Textblob)"
   ]
  },
  {
   "cell_type": "code",
   "execution_count": 0,
   "metadata": {
    "colab": {},
    "colab_type": "code",
    "id": "mTpbYjk8ft_1"
   },
   "outputs": [],
   "source": [
    "#Libraries to install before hand \n",
    "#!pip install newsapi\n",
    "#!pip install newsapi-python\n",
    "#!pip install keras\n",
    "#!pip install tensorflow\n",
    "#!pip install textblob"
   ]
  },
  {
   "cell_type": "code",
   "execution_count": 0,
   "metadata": {
    "colab": {},
    "colab_type": "code",
    "id": "Y2pFxWxlft_6"
   },
   "outputs": [],
   "source": [
    "# get some libraries that will be useful\n",
    "import numpy as np # linear algebra\n",
    "import pandas as pd\n",
    "import string\n",
    "\n",
    "# the Naive Bayes model\n",
    "from sklearn.naive_bayes import MultinomialNB\n",
    "# function to split the data for cross-validation\n",
    "from sklearn.model_selection import train_test_split\n",
    "# function for transforming documents into counts\n",
    "from sklearn.feature_extraction.text import CountVectorizer\n",
    "\n",
    "#keras modeling\n",
    "from keras.utils import np_utils\n",
    "from keras.models import Sequential\n",
    "from keras.layers.recurrent import LSTM\n",
    "from keras.preprocessing import sequence\n",
    "from keras.preprocessing.text import Tokenizer\n",
    "from keras.layers.embeddings import Embedding\n",
    "from keras.layers import Dense, Dropout, Activation\n",
    "from keras.layers.convolutional import Convolution1D, Conv1D, MaxPooling1D\n",
    "\n",
    "#Sentiment modelling\n",
    "from textblob import TextBlob\n",
    "\n",
    "#to filter out selected dates from dataset\n",
    "import datetime\n",
    "import requests"
   ]
  },
  {
   "cell_type": "code",
   "execution_count": 0,
   "metadata": {
    "colab": {},
    "colab_type": "code",
    "id": "Xr_1fLB9kPQ1"
   },
   "outputs": [],
   "source": [
    "#to import Libraries to import files from Drive into Google-colab\n",
    "from pydrive.auth import GoogleAuth\n",
    "from pydrive.drive import GoogleDrive\n",
    "from google.colab import auth\n",
    "from oauth2client.client import GoogleCredentials"
   ]
  },
  {
   "cell_type": "code",
   "execution_count": 0,
   "metadata": {
    "colab": {},
    "colab_type": "code",
    "id": "tWLJHly4ktbZ"
   },
   "outputs": [],
   "source": [
    "#authenticate email ID\n",
    "auth.authenticate_user()\n",
    "gauth = GoogleAuth()\n",
    "gauth.credentials = GoogleCredentials.get_application_default()\n",
    "drive = GoogleDrive(gauth)"
   ]
  },
  {
   "cell_type": "code",
   "execution_count": 0,
   "metadata": {
    "colab": {},
    "colab_type": "code",
    "id": "g4IP276ilOiR"
   },
   "outputs": [],
   "source": [
    "#to get the file\n",
    "downloaded = drive.CreateFile({'id':'1EXS1WWbIMRvI5Tz8OSnEfI-06CF8fLZf'})\n",
    "#download the file\n",
    "downloaded.GetContentFile('final_dataframe.csv')"
   ]
  },
  {
   "cell_type": "code",
   "execution_count": 28,
   "metadata": {
    "colab": {
     "base_uri": "https://localhost:8080/",
     "height": 202
    },
    "colab_type": "code",
    "executionInfo": {
     "elapsed": 7714,
     "status": "ok",
     "timestamp": 1587520729028,
     "user": {
      "displayName": "Derrick Han",
      "photoUrl": "https://lh3.googleusercontent.com/a-/AOh14GihuHb1iZnV9d5knFgkndYAYfv99H6JQMnFyvya=s64",
      "userId": "18016424407593226624"
     },
     "user_tz": -480
    },
    "id": "UfHJ_4_4ft_9",
    "outputId": "cc09a9ab-e9ef-4154-f097-a494768be7df"
   },
   "outputs": [
    {
     "data": {
      "text/html": [
       "<div>\n",
       "<style scoped>\n",
       "    .dataframe tbody tr th:only-of-type {\n",
       "        vertical-align: middle;\n",
       "    }\n",
       "\n",
       "    .dataframe tbody tr th {\n",
       "        vertical-align: top;\n",
       "    }\n",
       "\n",
       "    .dataframe thead th {\n",
       "        text-align: right;\n",
       "    }\n",
       "</style>\n",
       "<table border=\"1\" class=\"dataframe\">\n",
       "  <thead>\n",
       "    <tr style=\"text-align: right;\">\n",
       "      <th></th>\n",
       "      <th>Date</th>\n",
       "      <th>all25</th>\n",
       "      <th>upordown</th>\n",
       "    </tr>\n",
       "  </thead>\n",
       "  <tbody>\n",
       "    <tr>\n",
       "      <th>0</th>\n",
       "      <td>2008-08-08</td>\n",
       "      <td>0,b\"georgia 'downs two russian warplanes' as c...</td>\n",
       "      <td>0.0</td>\n",
       "    </tr>\n",
       "    <tr>\n",
       "      <th>1</th>\n",
       "      <td>2008-08-11</td>\n",
       "      <td>1,b'why wont america and nato help us? if they...</td>\n",
       "      <td>0.0</td>\n",
       "    </tr>\n",
       "    <tr>\n",
       "      <th>2</th>\n",
       "      <td>2008-08-12</td>\n",
       "      <td>0,b'remember that adorable 9-year-old who sang...</td>\n",
       "      <td>1.0</td>\n",
       "    </tr>\n",
       "    <tr>\n",
       "      <th>3</th>\n",
       "      <td>2008-08-13</td>\n",
       "      <td>0,b' u.s. refuses israel weapons to attack ira...</td>\n",
       "      <td>0.0</td>\n",
       "    </tr>\n",
       "    <tr>\n",
       "      <th>4</th>\n",
       "      <td>2008-08-14</td>\n",
       "      <td>1,b'all the experts admit that we should legal...</td>\n",
       "      <td>0.0</td>\n",
       "    </tr>\n",
       "  </tbody>\n",
       "</table>\n",
       "</div>"
      ],
      "text/plain": [
       "         Date                                              all25  upordown\n",
       "0  2008-08-08  0,b\"georgia 'downs two russian warplanes' as c...       0.0\n",
       "1  2008-08-11  1,b'why wont america and nato help us? if they...       0.0\n",
       "2  2008-08-12  0,b'remember that adorable 9-year-old who sang...       1.0\n",
       "3  2008-08-13  0,b' u.s. refuses israel weapons to attack ira...       0.0\n",
       "4  2008-08-14  1,b'all the experts admit that we should legal...       0.0"
      ]
     },
     "execution_count": 28,
     "metadata": {
      "tags": []
     },
     "output_type": "execute_result"
    }
   ],
   "source": [
    "#Read the file\n",
    "Finaldf = pd.read_csv(\"final_dataframe.csv\")\n",
    "Finaldf.head()"
   ]
  },
  {
   "cell_type": "markdown",
   "metadata": {
    "colab_type": "text",
    "id": "7sWDW3BQfuAA"
   },
   "source": [
    "# Build our model first. "
   ]
  },
  {
   "cell_type": "code",
   "execution_count": 0,
   "metadata": {
    "colab": {},
    "colab_type": "code",
    "id": "Nr9Xm5r8fuAB"
   },
   "outputs": [],
   "source": [
    "#we will resue the same dataset from our model to train up the model.\n",
    "X = Finaldf['all25']\n",
    "y = Finaldf['upordown']"
   ]
  },
  {
   "cell_type": "code",
   "execution_count": 0,
   "metadata": {
    "colab": {},
    "colab_type": "code",
    "id": "4Jw9suMXfuAE"
   },
   "outputs": [],
   "source": [
    "X_train, X_val, y_train, y_val = train_test_split(X, y, test_size=0.50,stratify = y)"
   ]
  },
  {
   "cell_type": "code",
   "execution_count": 0,
   "metadata": {
    "colab": {},
    "colab_type": "code",
    "id": "blYqDFR8fuAI"
   },
   "outputs": [],
   "source": [
    "#num_words - This will be the maximum number of words \n",
    "#from our resulting tokenized data vocabulary which are to be used, \n",
    "#truncated after the 10000 most common words in our case.\n",
    "tokenizer = Tokenizer(num_words=10000)\n",
    "# Tokenize our training data'trainheadlines'\n",
    "tokenizer.fit_on_texts(X_train)\n",
    "# Encode training data sentences into sequences for both train and test data.\n",
    "sequences_train = tokenizer.texts_to_sequences(X_train)\n",
    "sequences_test = tokenizer.texts_to_sequences(X_val)"
   ]
  },
  {
   "cell_type": "code",
   "execution_count": 0,
   "metadata": {
    "colab": {},
    "colab_type": "code",
    "id": "8_ccWh0gfuAM"
   },
   "outputs": [],
   "source": [
    "#Features for model training\n",
    "#nb_classes - total number of classes.\n",
    "nb_classes = 2\n",
    "# maxlen is feature of maximum sequence length for padding our encoded sentences\n",
    "maxlen = 200\n",
    "# Pad the training sequences as we need our encoded sequences to be of the same length. \n",
    "# use that to pad all other sequences with extra '0's at the end ('post') and\n",
    "# will also truncate any sequences longer than maximum length from the end ('post') as well. \n",
    "X_train = sequence.pad_sequences(sequences_train, maxlen=maxlen)\n",
    "X_val = sequence.pad_sequences(sequences_test, maxlen=maxlen)\n",
    "#convert them into array before we put them into model\n",
    "y_train = np.array(y_train)\n",
    "y_val = np.array(y_val)\n",
    "# np_utils.to_categorical to convert array of labeled data(from 0 to nb_classes-1) to one-hot vector.\n",
    "Y_train = np_utils.to_categorical(y_train, 2)\n",
    "Y_val = np_utils.to_categorical(y_val, 2)"
   ]
  },
  {
   "cell_type": "code",
   "execution_count": 33,
   "metadata": {
    "colab": {
     "base_uri": "https://localhost:8080/",
     "height": 35
    },
    "colab_type": "code",
    "executionInfo": {
     "elapsed": 8600,
     "status": "ok",
     "timestamp": 1587520730215,
     "user": {
      "displayName": "Derrick Han",
      "photoUrl": "https://lh3.googleusercontent.com/a-/AOh14GihuHb1iZnV9d5knFgkndYAYfv99H6JQMnFyvya=s64",
      "userId": "18016424407593226624"
     },
     "user_tz": -480
    },
    "id": "iAfisiFtfuAP",
    "outputId": "21c2c6b6-204c-4a54-8d75-dfe7a1fdcb8a"
   },
   "outputs": [
    {
     "name": "stdout",
     "output_type": "stream",
     "text": [
      "Build LSTM model...\n"
     ]
    }
   ],
   "source": [
    "print('Build LSTM model...')\n",
    "# expected input data shape: (batch_size, timesteps, data_dim)\n",
    "data_dim = 16\n",
    "timesteps = 8\n",
    "max_features = 10000\n",
    "#intialize model\n",
    "model = Sequential()\n",
    "#Embedding with 128\n",
    "model.add(Embedding(max_features, 128))\n",
    "# returns 16 sequences of vectors of dimension 32\n",
    "model.add(LSTM(32, return_sequences=True,input_shape=(timesteps, 16)))  \n",
    "# returns a sequence of vectors of dimension 32\n",
    "model.add(LSTM(32, return_sequences=True)) \n",
    "# return a single vector of dimension 32\n",
    "model.add(LSTM(32))  \n",
    "model.add(Dense(nb_classes))\n",
    "model.add(Activation('softmax'))\n",
    "#Compile model\n",
    "model.compile(loss='binary_crossentropy',\n",
    "              optimizer='adam',\n",
    "              metrics=['accuracy'])"
   ]
  },
  {
   "cell_type": "code",
   "execution_count": 34,
   "metadata": {
    "colab": {
     "base_uri": "https://localhost:8080/",
     "height": 280
    },
    "colab_type": "code",
    "executionInfo": {
     "elapsed": 46501,
     "status": "ok",
     "timestamp": 1587520768147,
     "user": {
      "displayName": "Derrick Han",
      "photoUrl": "https://lh3.googleusercontent.com/a-/AOh14GihuHb1iZnV9d5knFgkndYAYfv99H6JQMnFyvya=s64",
      "userId": "18016424407593226624"
     },
     "user_tz": -480
    },
    "id": "LMS2AW-5fuAS",
    "outputId": "5b3024fd-4d0d-4bdb-c476-c1246da7bf54"
   },
   "outputs": [
    {
     "name": "stderr",
     "output_type": "stream",
     "text": [
      "/usr/local/lib/python3.6/dist-packages/tensorflow/python/framework/indexed_slices.py:434: UserWarning: Converting sparse IndexedSlices to a dense Tensor of unknown shape. This may consume a large amount of memory.\n",
      "  \"Converting sparse IndexedSlices to a dense Tensor of unknown shape. \"\n"
     ]
    },
    {
     "name": "stdout",
     "output_type": "stream",
     "text": [
      "Train on 994 samples, validate on 995 samples\n",
      "Epoch 1/5\n",
      "994/994 [==============================] - 8s 8ms/step - loss: 0.6795 - accuracy: 0.5936 - val_loss: 0.6733 - val_accuracy: 0.6040\n",
      "Epoch 2/5\n",
      "994/994 [==============================] - 7s 7ms/step - loss: 0.6295 - accuracy: 0.6097 - val_loss: 0.6931 - val_accuracy: 0.5980\n",
      "Epoch 3/5\n",
      "994/994 [==============================] - 7s 7ms/step - loss: 0.2957 - accuracy: 0.8732 - val_loss: 1.1313 - val_accuracy: 0.5246\n",
      "Epoch 4/5\n",
      "994/994 [==============================] - 7s 7ms/step - loss: 0.0763 - accuracy: 0.9849 - val_loss: 1.6490 - val_accuracy: 0.5246\n",
      "Epoch 5/5\n",
      "994/994 [==============================] - 7s 7ms/step - loss: 0.0066 - accuracy: 1.0000 - val_loss: 2.0274 - val_accuracy: 0.5126\n"
     ]
    },
    {
     "data": {
      "text/plain": [
       "<keras.callbacks.callbacks.History at 0x7f9d0ed2a160>"
      ]
     },
     "execution_count": 34,
     "metadata": {
      "tags": []
     },
     "output_type": "execute_result"
    }
   ],
   "source": [
    "# Final evaluation of the model\n",
    "model.fit(X_train, Y_train, batch_size=64, epochs=5, validation_data=(X_val, Y_val))"
   ]
  },
  {
   "cell_type": "markdown",
   "metadata": {
    "colab_type": "text",
    "id": "aYrruO-KfuAV"
   },
   "source": [
    "# Lets proceed to get our news headlines from NEWSAPI"
   ]
  },
  {
   "cell_type": "code",
   "execution_count": 0,
   "metadata": {
    "colab": {},
    "colab_type": "code",
    "id": "622pfCbQfuAV"
   },
   "outputs": [],
   "source": [
    "# BBC Top 10 headlines "
   ]
  },
  {
   "cell_type": "code",
   "execution_count": 0,
   "metadata": {
    "colab": {},
    "colab_type": "code",
    "id": "dRCczQe5fuAY"
   },
   "outputs": [],
   "source": [
    "url = ('http://newsapi.org/v2/top-headlines?sources=bbc-news&apiKey=b92f31e6a03f4cf8a1fb120e90ef5451')\n",
    "headers ={'User-agent':'Derrick'}"
   ]
  },
  {
   "cell_type": "code",
   "execution_count": 0,
   "metadata": {
    "colab": {},
    "colab_type": "code",
    "id": "cOCvlYamfuAc"
   },
   "outputs": [],
   "source": [
    "res = requests.get(url,headers = headers)"
   ]
  },
  {
   "cell_type": "code",
   "execution_count": 38,
   "metadata": {
    "colab": {
     "base_uri": "https://localhost:8080/",
     "height": 35
    },
    "colab_type": "code",
    "executionInfo": {
     "elapsed": 46861,
     "status": "ok",
     "timestamp": 1587520768590,
     "user": {
      "displayName": "Derrick Han",
      "photoUrl": "https://lh3.googleusercontent.com/a-/AOh14GihuHb1iZnV9d5knFgkndYAYfv99H6JQMnFyvya=s64",
      "userId": "18016424407593226624"
     },
     "user_tz": -480
    },
    "id": "jVU5DqAMfuAf",
    "outputId": "6b0acc7f-1aa9-44e3-9884-d01f32faaff9"
   },
   "outputs": [
    {
     "data": {
      "text/plain": [
       "200"
      ]
     },
     "execution_count": 38,
     "metadata": {
      "tags": []
     },
     "output_type": "execute_result"
    }
   ],
   "source": [
    "res.status_code"
   ]
  },
  {
   "cell_type": "code",
   "execution_count": 0,
   "metadata": {
    "colab": {},
    "colab_type": "code",
    "id": "4StBRnOUfuAh"
   },
   "outputs": [],
   "source": [
    "bbcheadline=res.json()\n",
    "sorted(bbcheadline.keys())\n",
    "bbcheadline = bbcheadline['articles']"
   ]
  },
  {
   "cell_type": "code",
   "execution_count": 40,
   "metadata": {
    "colab": {
     "base_uri": "https://localhost:8080/",
     "height": 1000
    },
    "colab_type": "code",
    "executionInfo": {
     "elapsed": 46810,
     "status": "ok",
     "timestamp": 1587520768591,
     "user": {
      "displayName": "Derrick Han",
      "photoUrl": "https://lh3.googleusercontent.com/a-/AOh14GihuHb1iZnV9d5knFgkndYAYfv99H6JQMnFyvya=s64",
      "userId": "18016424407593226624"
     },
     "user_tz": -480
    },
    "id": "9-d7e_KufuAk",
    "outputId": "fcc5e0f2-f62c-4523-ecbd-d141137b5fe0"
   },
   "outputs": [
    {
     "data": {
      "text/html": [
       "<div>\n",
       "<style scoped>\n",
       "    .dataframe tbody tr th:only-of-type {\n",
       "        vertical-align: middle;\n",
       "    }\n",
       "\n",
       "    .dataframe tbody tr th {\n",
       "        vertical-align: top;\n",
       "    }\n",
       "\n",
       "    .dataframe thead th {\n",
       "        text-align: right;\n",
       "    }\n",
       "</style>\n",
       "<table border=\"1\" class=\"dataframe\">\n",
       "  <thead>\n",
       "    <tr style=\"text-align: right;\">\n",
       "      <th></th>\n",
       "      <th>source</th>\n",
       "      <th>author</th>\n",
       "      <th>title</th>\n",
       "      <th>description</th>\n",
       "      <th>url</th>\n",
       "      <th>urlToImage</th>\n",
       "      <th>publishedAt</th>\n",
       "      <th>content</th>\n",
       "    </tr>\n",
       "  </thead>\n",
       "  <tbody>\n",
       "    <tr>\n",
       "      <th>0</th>\n",
       "      <td>{'id': 'bbc-news', 'name': 'BBC News'}</td>\n",
       "      <td>BBC News</td>\n",
       "      <td>Netflix sign-ups jump during coronavirus lockd...</td>\n",
       "      <td>The streaming service behind Tiger King added ...</td>\n",
       "      <td>http://www.bbc.co.uk/news/business-52376022</td>\n",
       "      <td>https://ichef.bbci.co.uk/news/1024/branded_new...</td>\n",
       "      <td>2020-04-21T23:50:29Z</td>\n",
       "      <td>Image copyrightGetty Images\\r\\nNetflix has see...</td>\n",
       "    </tr>\n",
       "    <tr>\n",
       "      <th>1</th>\n",
       "      <td>{'id': 'bbc-news', 'name': 'BBC News'}</td>\n",
       "      <td>BBC News</td>\n",
       "      <td>US green cards to be halted for 60 days, Trump...</td>\n",
       "      <td>The US president's immigration ban will not be...</td>\n",
       "      <td>http://www.bbc.co.uk/news/world-us-canada-5237...</td>\n",
       "      <td>https://ichef.bbci.co.uk/news/1024/branded_new...</td>\n",
       "      <td>2020-04-21T23:40:45Z</td>\n",
       "      <td>Image copyrightGetty ImagesImage caption\\r\\n P...</td>\n",
       "    </tr>\n",
       "    <tr>\n",
       "      <th>2</th>\n",
       "      <td>{'id': 'bbc-news', 'name': 'BBC News'}</td>\n",
       "      <td>BBC News</td>\n",
       "      <td>Balancing being a doctor with single parenthood</td>\n",
       "      <td>Dr Melanie Malloy, an intensive care doctor in...</td>\n",
       "      <td>http://www.bbc.co.uk/news/world-us-canada-5237...</td>\n",
       "      <td>https://ichef.bbci.co.uk/news/1024/branded_new...</td>\n",
       "      <td>2020-04-21T21:44:00Z</td>\n",
       "      <td>None</td>\n",
       "    </tr>\n",
       "    <tr>\n",
       "      <th>3</th>\n",
       "      <td>{'id': 'bbc-news', 'name': 'BBC News'}</td>\n",
       "      <td>BBC News</td>\n",
       "      <td>The (back) pains of working from home</td>\n",
       "      <td>As people adjust to doing their jobs remotely,...</td>\n",
       "      <td>http://www.bbc.co.uk/news/world-us-canada-5235...</td>\n",
       "      <td>https://ichef.bbci.co.uk/news/1024/branded_new...</td>\n",
       "      <td>2020-04-21T21:24:25Z</td>\n",
       "      <td>None</td>\n",
       "    </tr>\n",
       "    <tr>\n",
       "      <th>4</th>\n",
       "      <td>{'id': 'bbc-news', 'name': 'BBC News'}</td>\n",
       "      <td>BBC News</td>\n",
       "      <td>Canada shooting death toll rises to 23</td>\n",
       "      <td>Police said on Tuesday one of the newly confir...</td>\n",
       "      <td>http://www.bbc.co.uk/news/world-us-canada-5237...</td>\n",
       "      <td>https://ichef.bbci.co.uk/news/1024/branded_new...</td>\n",
       "      <td>2020-04-21T20:54:34Z</td>\n",
       "      <td>Image copyrightGetty ImagesImage caption\\r\\n M...</td>\n",
       "    </tr>\n",
       "    <tr>\n",
       "      <th>5</th>\n",
       "      <td>{'id': 'bbc-news', 'name': 'BBC News'}</td>\n",
       "      <td>BBC News</td>\n",
       "      <td>How 'protester in scrubs' images came about</td>\n",
       "      <td>Photographer Alyson McClaran \"took off running...</td>\n",
       "      <td>http://www.bbc.co.uk/news/world-us-canada-5237...</td>\n",
       "      <td>https://ichef.bbci.co.uk/news/1024/branded_new...</td>\n",
       "      <td>2020-04-21T17:15:48Z</td>\n",
       "      <td>Image copyrightAlyson McClaranImage caption\\r\\...</td>\n",
       "    </tr>\n",
       "    <tr>\n",
       "      <th>6</th>\n",
       "      <td>{'id': 'bbc-news', 'name': 'BBC News'}</td>\n",
       "      <td>BBC News</td>\n",
       "      <td>Deaths hit 20-year high - but peak may be over</td>\n",
       "      <td>Numbers dying nearly double above what would b...</td>\n",
       "      <td>http://www.bbc.co.uk/news/health-52361519</td>\n",
       "      <td>https://ichef.bbci.co.uk/news/1024/branded_new...</td>\n",
       "      <td>2020-04-21T17:10:35Z</td>\n",
       "      <td>Image copyrightGetty Images\\r\\nDeaths in Engla...</td>\n",
       "    </tr>\n",
       "    <tr>\n",
       "      <th>7</th>\n",
       "      <td>{'id': 'bbc-news', 'name': 'BBC News'}</td>\n",
       "      <td>BBC News</td>\n",
       "      <td>World risks ‘biblical’ famines due to pandemic...</td>\n",
       "      <td>The number of people facing starvation could a...</td>\n",
       "      <td>http://www.bbc.co.uk/news/world-52373888</td>\n",
       "      <td>https://ichef.bbci.co.uk/news/1024/branded_new...</td>\n",
       "      <td>2020-04-21T16:50:05Z</td>\n",
       "      <td>Image copyrightReutersImage caption\\r\\n Millio...</td>\n",
       "    </tr>\n",
       "    <tr>\n",
       "      <th>8</th>\n",
       "      <td>{'id': 'bbc-news', 'name': 'BBC News'}</td>\n",
       "      <td>BBC News</td>\n",
       "      <td>'Nobody told us about the coronavirus pandemic'</td>\n",
       "      <td>Before setting sail around the world, Elena an...</td>\n",
       "      <td>http://www.bbc.co.uk/news/uk-52332899</td>\n",
       "      <td>https://ichef.bbci.co.uk/news/1024/branded_new...</td>\n",
       "      <td>2020-04-21T16:17:07Z</td>\n",
       "      <td>Image copyrightFamily photo\\r\\nIn 2017, Elena ...</td>\n",
       "    </tr>\n",
       "    <tr>\n",
       "      <th>9</th>\n",
       "      <td>{'id': 'bbc-news', 'name': 'BBC News'}</td>\n",
       "      <td>BBC News</td>\n",
       "      <td>Carer's touching gift for D-Day veteran</td>\n",
       "      <td>Ken Benbow, 94, was given a special cushion wi...</td>\n",
       "      <td>http://www.bbc.co.uk/news/uk-england-lancashir...</td>\n",
       "      <td>https://ichef.bbci.co.uk/news/1024/branded_new...</td>\n",
       "      <td>2020-04-21T12:08:03Z</td>\n",
       "      <td>None</td>\n",
       "    </tr>\n",
       "  </tbody>\n",
       "</table>\n",
       "</div>"
      ],
      "text/plain": [
       "                                   source  ...                                            content\n",
       "0  {'id': 'bbc-news', 'name': 'BBC News'}  ...  Image copyrightGetty Images\\r\\nNetflix has see...\n",
       "1  {'id': 'bbc-news', 'name': 'BBC News'}  ...  Image copyrightGetty ImagesImage caption\\r\\n P...\n",
       "2  {'id': 'bbc-news', 'name': 'BBC News'}  ...                                               None\n",
       "3  {'id': 'bbc-news', 'name': 'BBC News'}  ...                                               None\n",
       "4  {'id': 'bbc-news', 'name': 'BBC News'}  ...  Image copyrightGetty ImagesImage caption\\r\\n M...\n",
       "5  {'id': 'bbc-news', 'name': 'BBC News'}  ...  Image copyrightAlyson McClaranImage caption\\r\\...\n",
       "6  {'id': 'bbc-news', 'name': 'BBC News'}  ...  Image copyrightGetty Images\\r\\nDeaths in Engla...\n",
       "7  {'id': 'bbc-news', 'name': 'BBC News'}  ...  Image copyrightReutersImage caption\\r\\n Millio...\n",
       "8  {'id': 'bbc-news', 'name': 'BBC News'}  ...  Image copyrightFamily photo\\r\\nIn 2017, Elena ...\n",
       "9  {'id': 'bbc-news', 'name': 'BBC News'}  ...                                               None\n",
       "\n",
       "[10 rows x 8 columns]"
      ]
     },
     "execution_count": 40,
     "metadata": {
      "tags": []
     },
     "output_type": "execute_result"
    }
   ],
   "source": [
    "#convert to dataframe first\n",
    "df =  pd.DataFrame(bbcheadline)\n",
    "df"
   ]
  },
  {
   "cell_type": "code",
   "execution_count": 0,
   "metadata": {
    "colab": {},
    "colab_type": "code",
    "id": "GXXTEuy8fuAn"
   },
   "outputs": [],
   "source": [
    "# Google Top 10 headlines"
   ]
  },
  {
   "cell_type": "code",
   "execution_count": 0,
   "metadata": {
    "colab": {},
    "colab_type": "code",
    "id": "oPZnXK--fuAq"
   },
   "outputs": [],
   "source": [
    "url2 = ('http://newsapi.org/v2/top-headlines?sources=google-news&apiKey=b92f31e6a03f4cf8a1fb120e90ef5451')"
   ]
  },
  {
   "cell_type": "code",
   "execution_count": 0,
   "metadata": {
    "colab": {},
    "colab_type": "code",
    "id": "fVAQN9FafuAt"
   },
   "outputs": [],
   "source": [
    "res = requests.get(url2,headers = headers)"
   ]
  },
  {
   "cell_type": "code",
   "execution_count": 44,
   "metadata": {
    "colab": {
     "base_uri": "https://localhost:8080/",
     "height": 35
    },
    "colab_type": "code",
    "executionInfo": {
     "elapsed": 47681,
     "status": "ok",
     "timestamp": 1587520769604,
     "user": {
      "displayName": "Derrick Han",
      "photoUrl": "https://lh3.googleusercontent.com/a-/AOh14GihuHb1iZnV9d5knFgkndYAYfv99H6JQMnFyvya=s64",
      "userId": "18016424407593226624"
     },
     "user_tz": -480
    },
    "id": "L_DJAoUXfuAw",
    "outputId": "d72238c1-591c-4bd5-c75e-9d03fd44f912"
   },
   "outputs": [
    {
     "data": {
      "text/plain": [
       "200"
      ]
     },
     "execution_count": 44,
     "metadata": {
      "tags": []
     },
     "output_type": "execute_result"
    }
   ],
   "source": [
    "res.status_code"
   ]
  },
  {
   "cell_type": "code",
   "execution_count": 0,
   "metadata": {
    "colab": {},
    "colab_type": "code",
    "id": "TBAEgJv3fuAy"
   },
   "outputs": [],
   "source": [
    "googleheadline=res.json()\n",
    "sorted(googleheadline.keys())\n",
    "googleheadline = googleheadline['articles']"
   ]
  },
  {
   "cell_type": "code",
   "execution_count": 46,
   "metadata": {
    "colab": {
     "base_uri": "https://localhost:8080/",
     "height": 1000
    },
    "colab_type": "code",
    "executionInfo": {
     "elapsed": 47634,
     "status": "ok",
     "timestamp": 1587520769606,
     "user": {
      "displayName": "Derrick Han",
      "photoUrl": "https://lh3.googleusercontent.com/a-/AOh14GihuHb1iZnV9d5knFgkndYAYfv99H6JQMnFyvya=s64",
      "userId": "18016424407593226624"
     },
     "user_tz": -480
    },
    "id": "5AVRXlqZfuA0",
    "outputId": "d5ca1e0c-62df-4ee2-92d6-51bfd0406300"
   },
   "outputs": [
    {
     "data": {
      "text/html": [
       "<div>\n",
       "<style scoped>\n",
       "    .dataframe tbody tr th:only-of-type {\n",
       "        vertical-align: middle;\n",
       "    }\n",
       "\n",
       "    .dataframe tbody tr th {\n",
       "        vertical-align: top;\n",
       "    }\n",
       "\n",
       "    .dataframe thead th {\n",
       "        text-align: right;\n",
       "    }\n",
       "</style>\n",
       "<table border=\"1\" class=\"dataframe\">\n",
       "  <thead>\n",
       "    <tr style=\"text-align: right;\">\n",
       "      <th></th>\n",
       "      <th>source</th>\n",
       "      <th>author</th>\n",
       "      <th>title</th>\n",
       "      <th>description</th>\n",
       "      <th>url</th>\n",
       "      <th>urlToImage</th>\n",
       "      <th>publishedAt</th>\n",
       "      <th>content</th>\n",
       "    </tr>\n",
       "  </thead>\n",
       "  <tbody>\n",
       "    <tr>\n",
       "      <th>0</th>\n",
       "      <td>{'id': 'google-news', 'name': 'Google News'}</td>\n",
       "      <td>Chicago Tribune staff</td>\n",
       "      <td>Coronavirus in Illinois updates: Here’s what’s...</td>\n",
       "      <td>Here are the latest updates on the coronavirus...</td>\n",
       "      <td>https://www.chicagotribune.com/coronavirus/ct-...</td>\n",
       "      <td>https://www.chicagotribune.com/resizer/1IN51pO...</td>\n",
       "      <td>2020-04-22T00:45:33+00:00</td>\n",
       "      <td>Here are the latest updates on the coronavirus...</td>\n",
       "    </tr>\n",
       "    <tr>\n",
       "      <th>1</th>\n",
       "      <td>{'id': 'google-news', 'name': 'Google News'}</td>\n",
       "      <td>The Associated Press</td>\n",
       "      <td>Trump immigration ban halts green cards, not t...</td>\n",
       "      <td>President Donald Trump announced Tuesday he wi...</td>\n",
       "      <td>https://www.cnbc.com/2020/04/21/trump-immigrat...</td>\n",
       "      <td>https://image.cnbcfm.com/api/v1/image/10649967...</td>\n",
       "      <td>2020-04-21T23:34:35+00:00</td>\n",
       "      <td>President Donald Trump announced Tuesday he wi...</td>\n",
       "    </tr>\n",
       "    <tr>\n",
       "      <th>2</th>\n",
       "      <td>{'id': 'google-news', 'name': 'Google News'}</td>\n",
       "      <td>Vincent Barone</td>\n",
       "      <td>At least seven coronavirus cases linked to Wis...</td>\n",
       "      <td>The virus didn’t spare the voting booth. At le...</td>\n",
       "      <td>https://nypost.com/2020/04/21/at-least-7-coron...</td>\n",
       "      <td>https://thenypost.files.wordpress.com/2020/04/...</td>\n",
       "      <td>2020-04-21T23:30:40+00:00</td>\n",
       "      <td>The virus didnt spare the voting booth.\\r\\nAt ...</td>\n",
       "    </tr>\n",
       "    <tr>\n",
       "      <th>3</th>\n",
       "      <td>{'id': 'google-news', 'name': 'Google News'}</td>\n",
       "      <td>Eric Bradner, CNN</td>\n",
       "      <td>Georgia Gov. Brian Kemp faces resistance over ...</td>\n",
       "      <td>Georgia Gov. Brian Kemp is running into resist...</td>\n",
       "      <td>https://www.cnn.com/2020/04/21/politics/georgi...</td>\n",
       "      <td>https://cdn.cnn.com/cnnnext/dam/assets/2004030...</td>\n",
       "      <td>2020-04-21T23:16:01+00:00</td>\n",
       "      <td>Georgia Gov. Brian Kemp is running into resist...</td>\n",
       "    </tr>\n",
       "    <tr>\n",
       "      <th>4</th>\n",
       "      <td>{'id': 'google-news', 'name': 'Google News'}</td>\n",
       "      <td>Kevin Liptak, CNN</td>\n",
       "      <td>Trump says he doesn't know whether Kim Jong Un...</td>\n",
       "      <td>President Donald Trump said Tuesday he doesn't...</td>\n",
       "      <td>https://www.cnn.com/2020/04/21/politics/trump-...</td>\n",
       "      <td>https://cdn.cnn.com/cnnnext/dam/assets/1806121...</td>\n",
       "      <td>2020-04-21T23:04:13+00:00</td>\n",
       "      <td>(CNN)President Donald Trump said Tuesday he do...</td>\n",
       "    </tr>\n",
       "    <tr>\n",
       "      <th>5</th>\n",
       "      <td>{'id': 'google-news', 'name': 'Google News'}</td>\n",
       "      <td>Christal Hayes</td>\n",
       "      <td>Senate approves measure to replenish halted co...</td>\n",
       "      <td>The Paycheck Protection Program, which provide...</td>\n",
       "      <td>https://www.usatoday.com/story/news/politics/2...</td>\n",
       "      <td>https://www.gannett-cdn.com/presto/2018/12/22/...</td>\n",
       "      <td>2020-04-21T21:34:24+00:00</td>\n",
       "      <td>When asked about states' rights to decide when...</td>\n",
       "    </tr>\n",
       "    <tr>\n",
       "      <th>6</th>\n",
       "      <td>{'id': 'google-news', 'name': 'Google News'}</td>\n",
       "      <td>Maggie Haberman</td>\n",
       "      <td>Dan Scavino Promoted as Meadows Shuffles White...</td>\n",
       "      <td>Mr. Scavino, who is said to be the only White ...</td>\n",
       "      <td>https://www.nytimes.com/2020/04/21/us/politics...</td>\n",
       "      <td>https://static01.nyt.com/images/2020/04/21/us/...</td>\n",
       "      <td>2020-04-21T21:06:56+00:00</td>\n",
       "      <td>Dan Scavino, the White House director of socia...</td>\n",
       "    </tr>\n",
       "    <tr>\n",
       "      <th>7</th>\n",
       "      <td>{'id': 'google-news', 'name': 'Google News'}</td>\n",
       "      <td>Rong-Gong Lin II, Melanie Mason</td>\n",
       "      <td>New data show coronavirus-related deaths spiki...</td>\n",
       "      <td>A study shows roughly 4% of L.A. County reside...</td>\n",
       "      <td>https://www.latimes.com/california/story/2020-...</td>\n",
       "      <td>https://ca-times.brightspotcdn.com/dims4/defau...</td>\n",
       "      <td>2020-04-21T17:23:06+00:00</td>\n",
       "      <td>A new report says that perhaps 4% of Los Angel...</td>\n",
       "    </tr>\n",
       "    <tr>\n",
       "      <th>8</th>\n",
       "      <td>{'id': 'google-news', 'name': 'Google News'}</td>\n",
       "      <td>Julia Musto</td>\n",
       "      <td>Small business owner helped by Paycheck Protec...</td>\n",
       "      <td>The coronavirus funding from the government's ...</td>\n",
       "      <td>https://www.foxnews.com/media/small-business-o...</td>\n",
       "      <td>https://static.foxnews.com/foxnews.com/content...</td>\n",
       "      <td>2020-04-21T13:05:57+00:00</td>\n",
       "      <td>Get all the latest news on coronavirus and mor...</td>\n",
       "    </tr>\n",
       "    <tr>\n",
       "      <th>9</th>\n",
       "      <td>{'id': 'google-news', 'name': 'Google News'}</td>\n",
       "      <td>James Walker</td>\n",
       "      <td>Majority of Americans Oppose Protests Against ...</td>\n",
       "      <td>The survey also found that the vast majority o...</td>\n",
       "      <td>https://www.newsweek.com/majority-americans-op...</td>\n",
       "      <td>https://d.newsweek.com/en/full/1583201/counter...</td>\n",
       "      <td>2020-04-21T10:17:54+00:00</td>\n",
       "      <td>Most Americans are opposed to protests against...</td>\n",
       "    </tr>\n",
       "  </tbody>\n",
       "</table>\n",
       "</div>"
      ],
      "text/plain": [
       "                                         source  ...                                            content\n",
       "0  {'id': 'google-news', 'name': 'Google News'}  ...  Here are the latest updates on the coronavirus...\n",
       "1  {'id': 'google-news', 'name': 'Google News'}  ...  President Donald Trump announced Tuesday he wi...\n",
       "2  {'id': 'google-news', 'name': 'Google News'}  ...  The virus didnt spare the voting booth.\\r\\nAt ...\n",
       "3  {'id': 'google-news', 'name': 'Google News'}  ...  Georgia Gov. Brian Kemp is running into resist...\n",
       "4  {'id': 'google-news', 'name': 'Google News'}  ...  (CNN)President Donald Trump said Tuesday he do...\n",
       "5  {'id': 'google-news', 'name': 'Google News'}  ...  When asked about states' rights to decide when...\n",
       "6  {'id': 'google-news', 'name': 'Google News'}  ...  Dan Scavino, the White House director of socia...\n",
       "7  {'id': 'google-news', 'name': 'Google News'}  ...  A new report says that perhaps 4% of Los Angel...\n",
       "8  {'id': 'google-news', 'name': 'Google News'}  ...  Get all the latest news on coronavirus and mor...\n",
       "9  {'id': 'google-news', 'name': 'Google News'}  ...  Most Americans are opposed to protests against...\n",
       "\n",
       "[10 rows x 8 columns]"
      ]
     },
     "execution_count": 46,
     "metadata": {
      "tags": []
     },
     "output_type": "execute_result"
    }
   ],
   "source": [
    "#convert to dataframe first\n",
    "df2 =  pd.DataFrame(googleheadline)\n",
    "df2"
   ]
  },
  {
   "cell_type": "code",
   "execution_count": 0,
   "metadata": {
    "colab": {},
    "colab_type": "code",
    "id": "g-5GlN5SfuA3"
   },
   "outputs": [],
   "source": [
    "# Tech Crunch Top 10 Headlines"
   ]
  },
  {
   "cell_type": "code",
   "execution_count": 0,
   "metadata": {
    "colab": {},
    "colab_type": "code",
    "id": "evrj7Nh3fuA5"
   },
   "outputs": [],
   "source": [
    "url4 = ('http://newsapi.org/v2/top-headlines?sources=techcrunch&apiKey=b92f31e6a03f4cf8a1fb120e90ef5451')"
   ]
  },
  {
   "cell_type": "code",
   "execution_count": 49,
   "metadata": {
    "colab": {
     "base_uri": "https://localhost:8080/",
     "height": 35
    },
    "colab_type": "code",
    "executionInfo": {
     "elapsed": 47982,
     "status": "ok",
     "timestamp": 1587520770026,
     "user": {
      "displayName": "Derrick Han",
      "photoUrl": "https://lh3.googleusercontent.com/a-/AOh14GihuHb1iZnV9d5knFgkndYAYfv99H6JQMnFyvya=s64",
      "userId": "18016424407593226624"
     },
     "user_tz": -480
    },
    "id": "5fFawYw6fuA7",
    "outputId": "28cd5f42-088c-426f-98a1-f0462a7a227c"
   },
   "outputs": [
    {
     "data": {
      "text/plain": [
       "200"
      ]
     },
     "execution_count": 49,
     "metadata": {
      "tags": []
     },
     "output_type": "execute_result"
    }
   ],
   "source": [
    "res = requests.get(url4,headers = headers)\n",
    "res.status_code"
   ]
  },
  {
   "cell_type": "code",
   "execution_count": 0,
   "metadata": {
    "colab": {},
    "colab_type": "code",
    "id": "qbjbZIiSfuA9"
   },
   "outputs": [],
   "source": [
    "techcrunchheadlines=res.json()\n",
    "sorted(techcrunchheadlines.keys())\n",
    "techcrunchheadlines = techcrunchheadlines['articles']"
   ]
  },
  {
   "cell_type": "code",
   "execution_count": 51,
   "metadata": {
    "colab": {
     "base_uri": "https://localhost:8080/",
     "height": 1000
    },
    "colab_type": "code",
    "executionInfo": {
     "elapsed": 47935,
     "status": "ok",
     "timestamp": 1587520770028,
     "user": {
      "displayName": "Derrick Han",
      "photoUrl": "https://lh3.googleusercontent.com/a-/AOh14GihuHb1iZnV9d5knFgkndYAYfv99H6JQMnFyvya=s64",
      "userId": "18016424407593226624"
     },
     "user_tz": -480
    },
    "id": "w0B6-0NWfuBA",
    "outputId": "273b6fe2-a4b8-4db3-ed89-457bafc40cd6"
   },
   "outputs": [
    {
     "data": {
      "text/html": [
       "<div>\n",
       "<style scoped>\n",
       "    .dataframe tbody tr th:only-of-type {\n",
       "        vertical-align: middle;\n",
       "    }\n",
       "\n",
       "    .dataframe tbody tr th {\n",
       "        vertical-align: top;\n",
       "    }\n",
       "\n",
       "    .dataframe thead th {\n",
       "        text-align: right;\n",
       "    }\n",
       "</style>\n",
       "<table border=\"1\" class=\"dataframe\">\n",
       "  <thead>\n",
       "    <tr style=\"text-align: right;\">\n",
       "      <th></th>\n",
       "      <th>source</th>\n",
       "      <th>author</th>\n",
       "      <th>title</th>\n",
       "      <th>description</th>\n",
       "      <th>url</th>\n",
       "      <th>urlToImage</th>\n",
       "      <th>publishedAt</th>\n",
       "      <th>content</th>\n",
       "    </tr>\n",
       "  </thead>\n",
       "  <tbody>\n",
       "    <tr>\n",
       "      <th>0</th>\n",
       "      <td>{'id': 'techcrunch', 'name': 'TechCrunch'}</td>\n",
       "      <td>Manish Singh</td>\n",
       "      <td>Facebook invests $5.7B in India's Reliance Jio</td>\n",
       "      <td>Facebook has enjoyed unparalleled reach in Ind...</td>\n",
       "      <td>https://techcrunch.com/2020/04/21/facebook-rel...</td>\n",
       "      <td>https://techcrunch.com/wp-content/uploads/2019...</td>\n",
       "      <td>2020-04-22T00:44:30Z</td>\n",
       "      <td>Facebook has enjoyed unparalleled reach in Ind...</td>\n",
       "    </tr>\n",
       "    <tr>\n",
       "      <th>1</th>\n",
       "      <td>{'id': 'techcrunch', 'name': 'TechCrunch'}</td>\n",
       "      <td>Kirsten Korosec</td>\n",
       "      <td>Porsche to produce a cheaper version of its al...</td>\n",
       "      <td>Porsche is producing three variants of its all...</td>\n",
       "      <td>https://techcrunch.com/2020/04/21/porsche-to-p...</td>\n",
       "      <td>https://techcrunch.com/wp-content/uploads/2019...</td>\n",
       "      <td>2020-04-22T00:27:40Z</td>\n",
       "      <td>Porsche is producing three variants of its all...</td>\n",
       "    </tr>\n",
       "    <tr>\n",
       "      <th>2</th>\n",
       "      <td>{'id': 'techcrunch', 'name': 'TechCrunch'}</td>\n",
       "      <td>Taylor Hatmaker</td>\n",
       "      <td>Senate passes new $484 billion relief bill to ...</td>\n",
       "      <td>A new federal aid package designed to provide ...</td>\n",
       "      <td>https://techcrunch.com/2020/04/21/when-will-th...</td>\n",
       "      <td>https://techcrunch.com/wp-content/uploads/2020...</td>\n",
       "      <td>2020-04-22T00:03:34Z</td>\n",
       "      <td>A new federal aid package designed to provide ...</td>\n",
       "    </tr>\n",
       "    <tr>\n",
       "      <th>3</th>\n",
       "      <td>{'id': 'techcrunch', 'name': 'TechCrunch'}</td>\n",
       "      <td>Natasha Mascarenhas</td>\n",
       "      <td>Casper winds down European operations and lays...</td>\n",
       "      <td>Mattress company Casper is shutting down its E...</td>\n",
       "      <td>https://techcrunch.com/2020/04/21/casper-winds...</td>\n",
       "      <td>https://techcrunch.com/wp-content/uploads/2017...</td>\n",
       "      <td>2020-04-21T23:11:30Z</td>\n",
       "      <td>Mattress company Casper is shutting down its E...</td>\n",
       "    </tr>\n",
       "    <tr>\n",
       "      <th>4</th>\n",
       "      <td>{'id': 'techcrunch', 'name': 'TechCrunch'}</td>\n",
       "      <td>Manish Singh</td>\n",
       "      <td>Indian food delivery startup Swiggy is cutting...</td>\n",
       "      <td>Swiggy is cutting about 1,000 jobs, most from ...</td>\n",
       "      <td>https://techcrunch.com/2020/04/21/indian-food-...</td>\n",
       "      <td>https://techcrunch.com/wp-content/uploads/2019...</td>\n",
       "      <td>2020-04-21T23:00:37Z</td>\n",
       "      <td>Swiggy is cutting about 1,000 jobs, most from ...</td>\n",
       "    </tr>\n",
       "    <tr>\n",
       "      <th>5</th>\n",
       "      <td>{'id': 'techcrunch', 'name': 'TechCrunch'}</td>\n",
       "      <td>Rocio Wu</td>\n",
       "      <td>Will China's coronavirus-related trends shape ...</td>\n",
       "      <td>There may be dark horses waiting to break out ...</td>\n",
       "      <td>https://techcrunch.com/2020/04/21/will-chinas-...</td>\n",
       "      <td>https://techcrunch.com/wp-content/uploads/2020...</td>\n",
       "      <td>2020-04-21T22:40:40Z</td>\n",
       "      <td>For the past month, VC investment pace seems t...</td>\n",
       "    </tr>\n",
       "    <tr>\n",
       "      <th>6</th>\n",
       "      <td>{'id': 'techcrunch', 'name': 'TechCrunch'}</td>\n",
       "      <td>Connie Loizos</td>\n",
       "      <td>The Dipp, a subscription-only entertainment ne...</td>\n",
       "      <td>There is no shortage of coverage about the spr...</td>\n",
       "      <td>https://techcrunch.com/2020/04/21/the-dipp-a-s...</td>\n",
       "      <td>https://techcrunch.com/wp-content/uploads/2020...</td>\n",
       "      <td>2020-04-21T22:12:38Z</td>\n",
       "      <td>There is no shortage of coverage about the spr...</td>\n",
       "    </tr>\n",
       "    <tr>\n",
       "      <th>7</th>\n",
       "      <td>{'id': 'techcrunch', 'name': 'TechCrunch'}</td>\n",
       "      <td>Brian Heater</td>\n",
       "      <td>Amazon employees plan additional protests over...</td>\n",
       "      <td>As much of the world has ground to a temporary...</td>\n",
       "      <td>https://techcrunch.com/2020/04/21/amazon-emplo...</td>\n",
       "      <td>https://techcrunch.com/wp-content/uploads/2020...</td>\n",
       "      <td>2020-04-21T21:46:40Z</td>\n",
       "      <td>As much of the world has ground to a temporary...</td>\n",
       "    </tr>\n",
       "    <tr>\n",
       "      <th>8</th>\n",
       "      <td>{'id': 'techcrunch', 'name': 'TechCrunch'}</td>\n",
       "      <td>Anthony Ha</td>\n",
       "      <td>Netflix says 64M households 'chose to watch' t...</td>\n",
       "      <td>How big a hit Netflix’s “Tiger King”? In its l...</td>\n",
       "      <td>https://techcrunch.com/2020/04/21/netflix-tige...</td>\n",
       "      <td>https://techcrunch.com/wp-content/uploads/2020...</td>\n",
       "      <td>2020-04-21T21:29:21Z</td>\n",
       "      <td>How big a hit Netflix’s “Tiger King”? In its l...</td>\n",
       "    </tr>\n",
       "    <tr>\n",
       "      <th>9</th>\n",
       "      <td>{'id': 'techcrunch', 'name': 'TechCrunch'}</td>\n",
       "      <td>Megan Rose Dickey</td>\n",
       "      <td>Patreon lays off 13% of workforce</td>\n",
       "      <td>Creative platform Patreon has laid off 13% of ...</td>\n",
       "      <td>https://techcrunch.com/2020/04/21/patreon-lays...</td>\n",
       "      <td>https://techcrunch.com/wp-content/uploads/2019...</td>\n",
       "      <td>2020-04-21T21:13:15Z</td>\n",
       "      <td>Creative platform Patreon has laid off 13% of ...</td>\n",
       "    </tr>\n",
       "  </tbody>\n",
       "</table>\n",
       "</div>"
      ],
      "text/plain": [
       "                                       source  ...                                            content\n",
       "0  {'id': 'techcrunch', 'name': 'TechCrunch'}  ...  Facebook has enjoyed unparalleled reach in Ind...\n",
       "1  {'id': 'techcrunch', 'name': 'TechCrunch'}  ...  Porsche is producing three variants of its all...\n",
       "2  {'id': 'techcrunch', 'name': 'TechCrunch'}  ...  A new federal aid package designed to provide ...\n",
       "3  {'id': 'techcrunch', 'name': 'TechCrunch'}  ...  Mattress company Casper is shutting down its E...\n",
       "4  {'id': 'techcrunch', 'name': 'TechCrunch'}  ...  Swiggy is cutting about 1,000 jobs, most from ...\n",
       "5  {'id': 'techcrunch', 'name': 'TechCrunch'}  ...  For the past month, VC investment pace seems t...\n",
       "6  {'id': 'techcrunch', 'name': 'TechCrunch'}  ...  There is no shortage of coverage about the spr...\n",
       "7  {'id': 'techcrunch', 'name': 'TechCrunch'}  ...  As much of the world has ground to a temporary...\n",
       "8  {'id': 'techcrunch', 'name': 'TechCrunch'}  ...  How big a hit Netflix’s “Tiger King”? In its l...\n",
       "9  {'id': 'techcrunch', 'name': 'TechCrunch'}  ...  Creative platform Patreon has laid off 13% of ...\n",
       "\n",
       "[10 rows x 8 columns]"
      ]
     },
     "execution_count": 51,
     "metadata": {
      "tags": []
     },
     "output_type": "execute_result"
    }
   ],
   "source": [
    "df3 =  pd.DataFrame(techcrunchheadlines)\n",
    "df3"
   ]
  },
  {
   "cell_type": "code",
   "execution_count": 0,
   "metadata": {
    "colab": {},
    "colab_type": "code",
    "id": "a-HV_rORfuBC"
   },
   "outputs": [],
   "source": [
    "# Trump Top 20 headlines"
   ]
  },
  {
   "cell_type": "code",
   "execution_count": 0,
   "metadata": {
    "colab": {},
    "colab_type": "code",
    "id": "F0fJRZ2tfuBH"
   },
   "outputs": [],
   "source": [
    "url5 = ('http://newsapi.org/v2/top-headlines?q=trump&apiKey=b92f31e6a03f4cf8a1fb120e90ef5451')"
   ]
  },
  {
   "cell_type": "code",
   "execution_count": 0,
   "metadata": {
    "colab": {},
    "colab_type": "code",
    "id": "FQfyi2yGfuBK"
   },
   "outputs": [],
   "source": [
    "res = requests.get(url5,headers = headers)"
   ]
  },
  {
   "cell_type": "code",
   "execution_count": 55,
   "metadata": {
    "colab": {
     "base_uri": "https://localhost:8080/",
     "height": 35
    },
    "colab_type": "code",
    "executionInfo": {
     "elapsed": 49194,
     "status": "ok",
     "timestamp": 1587520771367,
     "user": {
      "displayName": "Derrick Han",
      "photoUrl": "https://lh3.googleusercontent.com/a-/AOh14GihuHb1iZnV9d5knFgkndYAYfv99H6JQMnFyvya=s64",
      "userId": "18016424407593226624"
     },
     "user_tz": -480
    },
    "id": "dpJiNR6RfuBM",
    "outputId": "3d73814d-28fb-4630-c6c2-20423ea59a57"
   },
   "outputs": [
    {
     "data": {
      "text/plain": [
       "200"
      ]
     },
     "execution_count": 55,
     "metadata": {
      "tags": []
     },
     "output_type": "execute_result"
    }
   ],
   "source": [
    "res.status_code"
   ]
  },
  {
   "cell_type": "code",
   "execution_count": 0,
   "metadata": {
    "colab": {},
    "colab_type": "code",
    "id": "8dyOl5fhfuBP"
   },
   "outputs": [],
   "source": [
    "trumpheadlines=res.json()\n",
    "sorted(trumpheadlines.keys())\n",
    "trumpheadlines = trumpheadlines['articles']"
   ]
  },
  {
   "cell_type": "code",
   "execution_count": 57,
   "metadata": {
    "colab": {
     "base_uri": "https://localhost:8080/",
     "height": 1000
    },
    "colab_type": "code",
    "executionInfo": {
     "elapsed": 49146,
     "status": "ok",
     "timestamp": 1587520771369,
     "user": {
      "displayName": "Derrick Han",
      "photoUrl": "https://lh3.googleusercontent.com/a-/AOh14GihuHb1iZnV9d5knFgkndYAYfv99H6JQMnFyvya=s64",
      "userId": "18016424407593226624"
     },
     "user_tz": -480
    },
    "id": "_36zlBmLfuBR",
    "outputId": "6a683bb1-cf88-48ec-e646-b87429ff4e78"
   },
   "outputs": [
    {
     "data": {
      "text/html": [
       "<div>\n",
       "<style scoped>\n",
       "    .dataframe tbody tr th:only-of-type {\n",
       "        vertical-align: middle;\n",
       "    }\n",
       "\n",
       "    .dataframe tbody tr th {\n",
       "        vertical-align: top;\n",
       "    }\n",
       "\n",
       "    .dataframe thead th {\n",
       "        text-align: right;\n",
       "    }\n",
       "</style>\n",
       "<table border=\"1\" class=\"dataframe\">\n",
       "  <thead>\n",
       "    <tr style=\"text-align: right;\">\n",
       "      <th></th>\n",
       "      <th>source</th>\n",
       "      <th>author</th>\n",
       "      <th>title</th>\n",
       "      <th>description</th>\n",
       "      <th>url</th>\n",
       "      <th>urlToImage</th>\n",
       "      <th>publishedAt</th>\n",
       "      <th>content</th>\n",
       "    </tr>\n",
       "  </thead>\n",
       "  <tbody>\n",
       "    <tr>\n",
       "      <th>0</th>\n",
       "      <td>{'id': 'financial-times', 'name': 'Financial T...</td>\n",
       "      <td>None</td>\n",
       "      <td>US experts warn against drugs touted by Donald...</td>\n",
       "      <td>Covid-19 patients alerted mix of antimalarial ...</td>\n",
       "      <td>https://www.ft.com/content/3994960a-9984-4edb-...</td>\n",
       "      <td>https://www.ft.com/__origami/service/image/v2/...</td>\n",
       "      <td>2020-04-22T01:52:20.1643436Z</td>\n",
       "      <td>The US National Institutes of Health has warne...</td>\n",
       "    </tr>\n",
       "    <tr>\n",
       "      <th>1</th>\n",
       "      <td>{'id': 'reuters', 'name': 'Reuters'}</td>\n",
       "      <td>Reuters Editorial</td>\n",
       "      <td>Trump says he will discuss more coronavirus mo...</td>\n",
       "      <td>U.S. President Donald Trump on Tuesday said di...</td>\n",
       "      <td>http://feeds.reuters.com/~r/reuters/topNews/~3...</td>\n",
       "      <td>https://s3.reutersmedia.net/resources/r/?m=02&amp;...</td>\n",
       "      <td>2020-04-22T01:39:00Z</td>\n",
       "      <td>WASHINGTON (Reuters) - U.S. President Donald T...</td>\n",
       "    </tr>\n",
       "    <tr>\n",
       "      <th>2</th>\n",
       "      <td>{'id': 'reuters', 'name': 'Reuters'}</td>\n",
       "      <td>Reuters Editorial</td>\n",
       "      <td>Trump urges U.S. House to approve latest coron...</td>\n",
       "      <td>U.S. President Donald Trump on Tuesday welcome...</td>\n",
       "      <td>http://feeds.reuters.com/~r/reuters/topNews/~3...</td>\n",
       "      <td>https://s2.reutersmedia.net/resources/r/?m=02&amp;...</td>\n",
       "      <td>2020-04-22T01:39:00Z</td>\n",
       "      <td>WASHINGTON (Reuters) - U.S. President Donald T...</td>\n",
       "    </tr>\n",
       "    <tr>\n",
       "      <th>3</th>\n",
       "      <td>{'id': 'google-news-au', 'name': 'Google News ...</td>\n",
       "      <td>None</td>\n",
       "      <td>Donald Trump will suspend US immigration for 6...</td>\n",
       "      <td>US President Donald Trump will issue a 60-day ...</td>\n",
       "      <td>https://www.abc.net.au/news/2020-04-22/donald-...</td>\n",
       "      <td>https://www.abc.net.au/news/image/12172004-16x...</td>\n",
       "      <td>2020-04-22T01:38:08+00:00</td>\n",
       "      <td>Posted \\r\\nApril 22, 2020 10:15:51\\r\\nUS Presi...</td>\n",
       "    </tr>\n",
       "    <tr>\n",
       "      <th>4</th>\n",
       "      <td>{'id': 'google-news-uk', 'name': 'Google News ...</td>\n",
       "      <td>None</td>\n",
       "      <td>Coronavirus latest news: Donald Trump outlines...</td>\n",
       "      <td>US President Donald Trump announced what he de...</td>\n",
       "      <td>https://www.telegraph.co.uk/global-health/scie...</td>\n",
       "      <td>https://img.youtube.com/vi/PvP45njbFbg/mqdefau...</td>\n",
       "      <td>2020-04-22T01:33:21+00:00</td>\n",
       "      <td>A second wave of the coronavirus is expected t...</td>\n",
       "    </tr>\n",
       "    <tr>\n",
       "      <th>5</th>\n",
       "      <td>{'id': 'abc-news-au', 'name': 'ABC News (AU)'}</td>\n",
       "      <td>https://www.abc.net.au/news/emily-olson/10480370</td>\n",
       "      <td>NY Governor Andrew Cuomo, America's anti-Trump...</td>\n",
       "      <td>It may be too soon to tell who'll get the cred...</td>\n",
       "      <td>http://www.abc.net.au/news/2020-04-22/donald-t...</td>\n",
       "      <td>https://www.abc.net.au/news/image/12172182-16x...</td>\n",
       "      <td>2020-04-22T01:17:45Z</td>\n",
       "      <td>Posted \\r\\nApril 22, 2020 11:17:45\\r\\nNew York...</td>\n",
       "    </tr>\n",
       "    <tr>\n",
       "      <th>6</th>\n",
       "      <td>{'id': 'google-news-uk', 'name': 'Google News ...</td>\n",
       "      <td>Martin Pengelly, Maanvi Singh, Joan E Greve, D...</td>\n",
       "      <td>Coronavirus US live: Trump says he will suspen...</td>\n",
       "      <td>President says order will only apply to those ...</td>\n",
       "      <td>https://www.theguardian.com/world/live/2020/ap...</td>\n",
       "      <td>https://i.guim.co.uk/img/media/d1d2834bfe769fc...</td>\n",
       "      <td>2020-04-22T00:58:51+00:00</td>\n",
       "      <td>A small wrap here on the meeting this afternoo...</td>\n",
       "    </tr>\n",
       "    <tr>\n",
       "      <th>7</th>\n",
       "      <td>{'id': 'abc-news-au', 'name': 'ABC News (AU)'}</td>\n",
       "      <td>None</td>\n",
       "      <td>Coronavirus update: True extent of UK death to...</td>\n",
       "      <td>Donald Trump announces the US will suspend imm...</td>\n",
       "      <td>http://www.abc.net.au/news/2020-04-22/coronavi...</td>\n",
       "      <td>https://www.abc.net.au/news/image/12171620-16x...</td>\n",
       "      <td>2020-04-22T00:45:04Z</td>\n",
       "      <td>Updated \\r\\nApril 22, 2020 10:45:04\\r\\nUS Pres...</td>\n",
       "    </tr>\n",
       "    <tr>\n",
       "      <th>8</th>\n",
       "      <td>{'id': 'usa-today', 'name': 'USA Today'}</td>\n",
       "      <td>None</td>\n",
       "      <td>Coronavirus live updates: Senate reaches $484B...</td>\n",
       "      <td>On the day the Senate agreed to a $484 billion...</td>\n",
       "      <td>https://www.usatoday.com/story/news/health/202...</td>\n",
       "      <td>https://www.gannett-cdn.com/presto/2020/04/21/...</td>\n",
       "      <td>2020-04-22T00:38:50+00:00</td>\n",
       "      <td>The Senate approved a $484 billion stimulus pa...</td>\n",
       "    </tr>\n",
       "    <tr>\n",
       "      <th>9</th>\n",
       "      <td>{'id': 'the-verge', 'name': 'The Verge'}</td>\n",
       "      <td>Nick Statt</td>\n",
       "      <td>Peter Thiel’s controversial Palantir built cor...</td>\n",
       "      <td>Palantir, an analytics company co-founded by T...</td>\n",
       "      <td>https://www.theverge.com/2020/4/21/21230453/pa...</td>\n",
       "      <td>https://cdn.vox-cdn.com/thumbor/PkglppxT7QX75i...</td>\n",
       "      <td>2020-04-22T00:36:21Z</td>\n",
       "      <td>The firm is helping support a tool called HHS ...</td>\n",
       "    </tr>\n",
       "    <tr>\n",
       "      <th>10</th>\n",
       "      <td>{'id': 'breitbart-news', 'name': 'Breitbart Ne...</td>\n",
       "      <td>Neil Munro</td>\n",
       "      <td>Trump Exempts Fortune 500's Visa Workers from ...</td>\n",
       "      <td>Technology companies have reportedly pushed Pr...</td>\n",
       "      <td>http://www.breitbart.com/economy/2020/04/21/tr...</td>\n",
       "      <td>https://media.breitbart.com/media/2019/08/trum...</td>\n",
       "      <td>2020-04-22T00:26:12Z</td>\n",
       "      <td>President Donald Trump has exempted the Fortun...</td>\n",
       "    </tr>\n",
       "    <tr>\n",
       "      <th>11</th>\n",
       "      <td>{'id': 'fox-news', 'name': 'Fox News'}</td>\n",
       "      <td>Fox News</td>\n",
       "      <td>Trump: Kim Jong Un's health unclear, but 'I wi...</td>\n",
       "      <td>President Trump on Tuesday wished North Korean...</td>\n",
       "      <td>https://www.foxnews.com/politics/trump-kim-jon...</td>\n",
       "      <td>https://static.foxnews.com/foxnews.com/content...</td>\n",
       "      <td>2020-04-22T00:22:22.8823264Z</td>\n",
       "      <td>President Trump on Tuesday wished North Korean...</td>\n",
       "    </tr>\n",
       "    <tr>\n",
       "      <th>12</th>\n",
       "      <td>{'id': 'fox-news', 'name': 'Fox News'}</td>\n",
       "      <td>Fox News</td>\n",
       "      <td>Trump defends decision to sign executive order...</td>\n",
       "      <td>President Trump answers questions from Fox New...</td>\n",
       "      <td>https://video.foxnews.com/v/6151174032001/</td>\n",
       "      <td>https://cf-images.us-east-1.prod.boltdns.net/v...</td>\n",
       "      <td>2020-04-22T00:07:17.5616918Z</td>\n",
       "      <td>None</td>\n",
       "    </tr>\n",
       "    <tr>\n",
       "      <th>13</th>\n",
       "      <td>{'id': 'cnn', 'name': 'CNN'}</td>\n",
       "      <td>Jennifer Hansler, Curt Merrill and Isaac Yee, CNN</td>\n",
       "      <td>The many times Trump has praised China's handl...</td>\n",
       "      <td>President Donald Trump has repeatedly criticiz...</td>\n",
       "      <td>http://us.cnn.com/2020/04/21/politics/trump-ch...</td>\n",
       "      <td>https://cdn.cnn.com/cnnnext/dam/assets/2004160...</td>\n",
       "      <td>2020-04-22T00:03:04Z</td>\n",
       "      <td>None</td>\n",
       "    </tr>\n",
       "    <tr>\n",
       "      <th>14</th>\n",
       "      <td>{'id': 'cnn', 'name': 'CNN'}</td>\n",
       "      <td>Analysis by Stephen Collinson, CNN</td>\n",
       "      <td>Trump and Biden launch battle over China that ...</td>\n",
       "      <td>President Donald Trump and presumptive Democra...</td>\n",
       "      <td>http://us.cnn.com/2020/04/21/politics/trump-bi...</td>\n",
       "      <td>https://cdn.cnn.com/cnnnext/dam/assets/2004161...</td>\n",
       "      <td>2020-04-22T00:01:24Z</td>\n",
       "      <td>None</td>\n",
       "    </tr>\n",
       "    <tr>\n",
       "      <th>15</th>\n",
       "      <td>{'id': 'fox-news', 'name': 'Fox News'}</td>\n",
       "      <td>Fox News</td>\n",
       "      <td>Whitmer backtracks after COVID-19 contract awa...</td>\n",
       "      <td>Michigan Gov. Gretchen Whitmer's administratio...</td>\n",
       "      <td>https://www.foxnews.com/politics/gov-whitmer-a...</td>\n",
       "      <td>https://cf-images.us-east-1.prod.boltdns.net/v...</td>\n",
       "      <td>2020-04-21T23:52:20.3381838Z</td>\n",
       "      <td>Get all the latest news on coronavirus and mor...</td>\n",
       "    </tr>\n",
       "    <tr>\n",
       "      <th>16</th>\n",
       "      <td>{'id': 'bbc-news', 'name': 'BBC News'}</td>\n",
       "      <td>BBC News</td>\n",
       "      <td>US green cards to be halted for 60 days, Trump...</td>\n",
       "      <td>The US president's immigration ban will not be...</td>\n",
       "      <td>http://www.bbc.co.uk/news/world-us-canada-5237...</td>\n",
       "      <td>https://ichef.bbci.co.uk/news/1024/branded_new...</td>\n",
       "      <td>2020-04-21T23:40:45Z</td>\n",
       "      <td>Image copyrightGetty ImagesImage caption\\r\\n P...</td>\n",
       "    </tr>\n",
       "    <tr>\n",
       "      <th>17</th>\n",
       "      <td>{'id': 'google-news', 'name': 'Google News'}</td>\n",
       "      <td>The Associated Press</td>\n",
       "      <td>Trump immigration ban halts green cards, not t...</td>\n",
       "      <td>President Donald Trump announced Tuesday he wi...</td>\n",
       "      <td>https://www.cnbc.com/2020/04/21/trump-immigrat...</td>\n",
       "      <td>https://image.cnbcfm.com/api/v1/image/10649967...</td>\n",
       "      <td>2020-04-21T23:34:35+00:00</td>\n",
       "      <td>President Donald Trump announced Tuesday he wi...</td>\n",
       "    </tr>\n",
       "    <tr>\n",
       "      <th>18</th>\n",
       "      <td>{'id': 'google-news-in', 'name': 'Google News ...</td>\n",
       "      <td>todaynewspaper.in</td>\n",
       "      <td>Trump immigration ban to last 60 days, target ...</td>\n",
       "      <td>President Donald Trump said on April 21 his ne...</td>\n",
       "      <td>https://www.thehindu.com/news/international/tr...</td>\n",
       "      <td>https://www.thehindu.com/news/international/7x...</td>\n",
       "      <td>2020-04-21T23:32:55+00:00</td>\n",
       "      <td>President Donald Trump said on April 21 his ne...</td>\n",
       "    </tr>\n",
       "    <tr>\n",
       "      <th>19</th>\n",
       "      <td>{'id': 'der-tagesspiegel', 'name': 'Der Tagess...</td>\n",
       "      <td>Juliane Schäuble</td>\n",
       "      <td>Trump will Einwanderung in die USA zunächst fü...</td>\n",
       "      <td>US-Präsident Donald Trump will die Einwanderun...</td>\n",
       "      <td>https://www.tagesspiegel.de/politik/grenze-zu-...</td>\n",
       "      <td>https://www.tagesspiegel.de/images/migrants-cr...</td>\n",
       "      <td>2020-04-21T23:20:06+00:00</td>\n",
       "      <td>Es klingt martialisch, und darum geht es wohl ...</td>\n",
       "    </tr>\n",
       "  </tbody>\n",
       "</table>\n",
       "</div>"
      ],
      "text/plain": [
       "                                               source  ...                                            content\n",
       "0   {'id': 'financial-times', 'name': 'Financial T...  ...  The US National Institutes of Health has warne...\n",
       "1                {'id': 'reuters', 'name': 'Reuters'}  ...  WASHINGTON (Reuters) - U.S. President Donald T...\n",
       "2                {'id': 'reuters', 'name': 'Reuters'}  ...  WASHINGTON (Reuters) - U.S. President Donald T...\n",
       "3   {'id': 'google-news-au', 'name': 'Google News ...  ...  Posted \\r\\nApril 22, 2020 10:15:51\\r\\nUS Presi...\n",
       "4   {'id': 'google-news-uk', 'name': 'Google News ...  ...  A second wave of the coronavirus is expected t...\n",
       "5      {'id': 'abc-news-au', 'name': 'ABC News (AU)'}  ...  Posted \\r\\nApril 22, 2020 11:17:45\\r\\nNew York...\n",
       "6   {'id': 'google-news-uk', 'name': 'Google News ...  ...  A small wrap here on the meeting this afternoo...\n",
       "7      {'id': 'abc-news-au', 'name': 'ABC News (AU)'}  ...  Updated \\r\\nApril 22, 2020 10:45:04\\r\\nUS Pres...\n",
       "8            {'id': 'usa-today', 'name': 'USA Today'}  ...  The Senate approved a $484 billion stimulus pa...\n",
       "9            {'id': 'the-verge', 'name': 'The Verge'}  ...  The firm is helping support a tool called HHS ...\n",
       "10  {'id': 'breitbart-news', 'name': 'Breitbart Ne...  ...  President Donald Trump has exempted the Fortun...\n",
       "11             {'id': 'fox-news', 'name': 'Fox News'}  ...  President Trump on Tuesday wished North Korean...\n",
       "12             {'id': 'fox-news', 'name': 'Fox News'}  ...                                               None\n",
       "13                       {'id': 'cnn', 'name': 'CNN'}  ...                                               None\n",
       "14                       {'id': 'cnn', 'name': 'CNN'}  ...                                               None\n",
       "15             {'id': 'fox-news', 'name': 'Fox News'}  ...  Get all the latest news on coronavirus and mor...\n",
       "16             {'id': 'bbc-news', 'name': 'BBC News'}  ...  Image copyrightGetty ImagesImage caption\\r\\n P...\n",
       "17       {'id': 'google-news', 'name': 'Google News'}  ...  President Donald Trump announced Tuesday he wi...\n",
       "18  {'id': 'google-news-in', 'name': 'Google News ...  ...  President Donald Trump said on April 21 his ne...\n",
       "19  {'id': 'der-tagesspiegel', 'name': 'Der Tagess...  ...  Es klingt martialisch, und darum geht es wohl ...\n",
       "\n",
       "[20 rows x 8 columns]"
      ]
     },
     "execution_count": 57,
     "metadata": {
      "tags": []
     },
     "output_type": "execute_result"
    }
   ],
   "source": [
    "df4 =  pd.DataFrame(trumpheadlines)\n",
    "df4"
   ]
  },
  {
   "cell_type": "code",
   "execution_count": 0,
   "metadata": {
    "colab": {},
    "colab_type": "code",
    "id": "LnBuB6qcfuBU"
   },
   "outputs": [],
   "source": [
    "# UK HEADLINE 20 headlines"
   ]
  },
  {
   "cell_type": "code",
   "execution_count": 0,
   "metadata": {
    "colab": {},
    "colab_type": "code",
    "id": "H9l2SZmafuBW"
   },
   "outputs": [],
   "source": [
    "url6 = ('http://newsapi.org/v2/top-headlines?country=gb&apiKey=4ac92a95346643fdbdb26a7e4d0e98b1')"
   ]
  },
  {
   "cell_type": "code",
   "execution_count": 60,
   "metadata": {
    "colab": {
     "base_uri": "https://localhost:8080/",
     "height": 35
    },
    "colab_type": "code",
    "executionInfo": {
     "elapsed": 49088,
     "status": "ok",
     "timestamp": 1587520771372,
     "user": {
      "displayName": "Derrick Han",
      "photoUrl": "https://lh3.googleusercontent.com/a-/AOh14GihuHb1iZnV9d5knFgkndYAYfv99H6JQMnFyvya=s64",
      "userId": "18016424407593226624"
     },
     "user_tz": -480
    },
    "id": "XozL1-dcfuBY",
    "outputId": "ad407173-a279-4745-f71d-1b7f79fe2442"
   },
   "outputs": [
    {
     "data": {
      "text/plain": [
       "200"
      ]
     },
     "execution_count": 60,
     "metadata": {
      "tags": []
     },
     "output_type": "execute_result"
    }
   ],
   "source": [
    "res = requests.get(url6,headers = headers)\n",
    "res.status_code"
   ]
  },
  {
   "cell_type": "code",
   "execution_count": 0,
   "metadata": {
    "colab": {},
    "colab_type": "code",
    "id": "OcAYIWUMfuBb"
   },
   "outputs": [],
   "source": [
    "ukheadlines=res.json()\n",
    "sorted(ukheadlines.keys())\n",
    "ukheadlines = ukheadlines['articles']"
   ]
  },
  {
   "cell_type": "code",
   "execution_count": 62,
   "metadata": {
    "colab": {
     "base_uri": "https://localhost:8080/",
     "height": 1000
    },
    "colab_type": "code",
    "executionInfo": {
     "elapsed": 49469,
     "status": "ok",
     "timestamp": 1587520771810,
     "user": {
      "displayName": "Derrick Han",
      "photoUrl": "https://lh3.googleusercontent.com/a-/AOh14GihuHb1iZnV9d5knFgkndYAYfv99H6JQMnFyvya=s64",
      "userId": "18016424407593226624"
     },
     "user_tz": -480
    },
    "id": "MDkySmbafuBe",
    "outputId": "899b7f0b-9304-43a8-a344-05021ff6df81"
   },
   "outputs": [
    {
     "data": {
      "text/html": [
       "<div>\n",
       "<style scoped>\n",
       "    .dataframe tbody tr th:only-of-type {\n",
       "        vertical-align: middle;\n",
       "    }\n",
       "\n",
       "    .dataframe tbody tr th {\n",
       "        vertical-align: top;\n",
       "    }\n",
       "\n",
       "    .dataframe thead th {\n",
       "        text-align: right;\n",
       "    }\n",
       "</style>\n",
       "<table border=\"1\" class=\"dataframe\">\n",
       "  <thead>\n",
       "    <tr style=\"text-align: right;\">\n",
       "      <th></th>\n",
       "      <th>source</th>\n",
       "      <th>author</th>\n",
       "      <th>title</th>\n",
       "      <th>description</th>\n",
       "      <th>url</th>\n",
       "      <th>urlToImage</th>\n",
       "      <th>publishedAt</th>\n",
       "      <th>content</th>\n",
       "    </tr>\n",
       "  </thead>\n",
       "  <tbody>\n",
       "    <tr>\n",
       "      <th>0</th>\n",
       "      <td>{'id': 'financial-times', 'name': 'Financial T...</td>\n",
       "      <td>None</td>\n",
       "      <td>US experts warn against drugs touted by Donald...</td>\n",
       "      <td>Covid-19 patients alerted mix of antimalarial ...</td>\n",
       "      <td>https://www.ft.com/content/3994960a-9984-4edb-...</td>\n",
       "      <td>https://www.ft.com/__origami/service/image/v2/...</td>\n",
       "      <td>2020-04-22T01:52:20.1643436Z</td>\n",
       "      <td>The US National Institutes of Health has warne...</td>\n",
       "    </tr>\n",
       "    <tr>\n",
       "      <th>1</th>\n",
       "      <td>{'id': 'reuters', 'name': 'Reuters'}</td>\n",
       "      <td>Reuters Editorial</td>\n",
       "      <td>Trump says he will discuss more coronavirus mo...</td>\n",
       "      <td>U.S. President Donald Trump on Tuesday said di...</td>\n",
       "      <td>http://feeds.reuters.com/~r/reuters/topNews/~3...</td>\n",
       "      <td>https://s3.reutersmedia.net/resources/r/?m=02&amp;...</td>\n",
       "      <td>2020-04-22T01:39:00Z</td>\n",
       "      <td>WASHINGTON (Reuters) - U.S. President Donald T...</td>\n",
       "    </tr>\n",
       "    <tr>\n",
       "      <th>2</th>\n",
       "      <td>{'id': 'reuters', 'name': 'Reuters'}</td>\n",
       "      <td>Reuters Editorial</td>\n",
       "      <td>Trump urges U.S. House to approve latest coron...</td>\n",
       "      <td>U.S. President Donald Trump on Tuesday welcome...</td>\n",
       "      <td>http://feeds.reuters.com/~r/reuters/topNews/~3...</td>\n",
       "      <td>https://s2.reutersmedia.net/resources/r/?m=02&amp;...</td>\n",
       "      <td>2020-04-22T01:39:00Z</td>\n",
       "      <td>WASHINGTON (Reuters) - U.S. President Donald T...</td>\n",
       "    </tr>\n",
       "    <tr>\n",
       "      <th>3</th>\n",
       "      <td>{'id': 'google-news-au', 'name': 'Google News ...</td>\n",
       "      <td>None</td>\n",
       "      <td>Donald Trump will suspend US immigration for 6...</td>\n",
       "      <td>US President Donald Trump will issue a 60-day ...</td>\n",
       "      <td>https://www.abc.net.au/news/2020-04-22/donald-...</td>\n",
       "      <td>https://www.abc.net.au/news/image/12172004-16x...</td>\n",
       "      <td>2020-04-22T01:38:08+00:00</td>\n",
       "      <td>Posted \\r\\nApril 22, 2020 10:15:51\\r\\nUS Presi...</td>\n",
       "    </tr>\n",
       "    <tr>\n",
       "      <th>4</th>\n",
       "      <td>{'id': 'google-news-uk', 'name': 'Google News ...</td>\n",
       "      <td>None</td>\n",
       "      <td>Coronavirus latest news: Donald Trump outlines...</td>\n",
       "      <td>US President Donald Trump announced what he de...</td>\n",
       "      <td>https://www.telegraph.co.uk/global-health/scie...</td>\n",
       "      <td>https://img.youtube.com/vi/PvP45njbFbg/mqdefau...</td>\n",
       "      <td>2020-04-22T01:33:21+00:00</td>\n",
       "      <td>A second wave of the coronavirus is expected t...</td>\n",
       "    </tr>\n",
       "    <tr>\n",
       "      <th>5</th>\n",
       "      <td>{'id': 'abc-news-au', 'name': 'ABC News (AU)'}</td>\n",
       "      <td>https://www.abc.net.au/news/emily-olson/10480370</td>\n",
       "      <td>NY Governor Andrew Cuomo, America's anti-Trump...</td>\n",
       "      <td>It may be too soon to tell who'll get the cred...</td>\n",
       "      <td>http://www.abc.net.au/news/2020-04-22/donald-t...</td>\n",
       "      <td>https://www.abc.net.au/news/image/12172182-16x...</td>\n",
       "      <td>2020-04-22T01:17:45Z</td>\n",
       "      <td>Posted \\r\\nApril 22, 2020 11:17:45\\r\\nNew York...</td>\n",
       "    </tr>\n",
       "    <tr>\n",
       "      <th>6</th>\n",
       "      <td>{'id': 'google-news-uk', 'name': 'Google News ...</td>\n",
       "      <td>Martin Pengelly, Maanvi Singh, Joan E Greve, D...</td>\n",
       "      <td>Coronavirus US live: Trump says he will suspen...</td>\n",
       "      <td>President says order will only apply to those ...</td>\n",
       "      <td>https://www.theguardian.com/world/live/2020/ap...</td>\n",
       "      <td>https://i.guim.co.uk/img/media/d1d2834bfe769fc...</td>\n",
       "      <td>2020-04-22T00:58:51+00:00</td>\n",
       "      <td>A small wrap here on the meeting this afternoo...</td>\n",
       "    </tr>\n",
       "    <tr>\n",
       "      <th>7</th>\n",
       "      <td>{'id': 'abc-news-au', 'name': 'ABC News (AU)'}</td>\n",
       "      <td>None</td>\n",
       "      <td>Coronavirus update: True extent of UK death to...</td>\n",
       "      <td>Donald Trump announces the US will suspend imm...</td>\n",
       "      <td>http://www.abc.net.au/news/2020-04-22/coronavi...</td>\n",
       "      <td>https://www.abc.net.au/news/image/12171620-16x...</td>\n",
       "      <td>2020-04-22T00:45:04Z</td>\n",
       "      <td>Updated \\r\\nApril 22, 2020 10:45:04\\r\\nUS Pres...</td>\n",
       "    </tr>\n",
       "    <tr>\n",
       "      <th>8</th>\n",
       "      <td>{'id': 'usa-today', 'name': 'USA Today'}</td>\n",
       "      <td>None</td>\n",
       "      <td>Coronavirus live updates: Senate reaches $484B...</td>\n",
       "      <td>On the day the Senate agreed to a $484 billion...</td>\n",
       "      <td>https://www.usatoday.com/story/news/health/202...</td>\n",
       "      <td>https://www.gannett-cdn.com/presto/2020/04/21/...</td>\n",
       "      <td>2020-04-22T00:38:50+00:00</td>\n",
       "      <td>The Senate approved a $484 billion stimulus pa...</td>\n",
       "    </tr>\n",
       "    <tr>\n",
       "      <th>9</th>\n",
       "      <td>{'id': 'the-verge', 'name': 'The Verge'}</td>\n",
       "      <td>Nick Statt</td>\n",
       "      <td>Peter Thiel’s controversial Palantir built cor...</td>\n",
       "      <td>Palantir, an analytics company co-founded by T...</td>\n",
       "      <td>https://www.theverge.com/2020/4/21/21230453/pa...</td>\n",
       "      <td>https://cdn.vox-cdn.com/thumbor/PkglppxT7QX75i...</td>\n",
       "      <td>2020-04-22T00:36:21Z</td>\n",
       "      <td>The firm is helping support a tool called HHS ...</td>\n",
       "    </tr>\n",
       "    <tr>\n",
       "      <th>10</th>\n",
       "      <td>{'id': 'breitbart-news', 'name': 'Breitbart Ne...</td>\n",
       "      <td>Neil Munro</td>\n",
       "      <td>Trump Exempts Fortune 500's Visa Workers from ...</td>\n",
       "      <td>Technology companies have reportedly pushed Pr...</td>\n",
       "      <td>http://www.breitbart.com/economy/2020/04/21/tr...</td>\n",
       "      <td>https://media.breitbart.com/media/2019/08/trum...</td>\n",
       "      <td>2020-04-22T00:26:12Z</td>\n",
       "      <td>President Donald Trump has exempted the Fortun...</td>\n",
       "    </tr>\n",
       "    <tr>\n",
       "      <th>11</th>\n",
       "      <td>{'id': 'fox-news', 'name': 'Fox News'}</td>\n",
       "      <td>Fox News</td>\n",
       "      <td>Trump: Kim Jong Un's health unclear, but 'I wi...</td>\n",
       "      <td>President Trump on Tuesday wished North Korean...</td>\n",
       "      <td>https://www.foxnews.com/politics/trump-kim-jon...</td>\n",
       "      <td>https://static.foxnews.com/foxnews.com/content...</td>\n",
       "      <td>2020-04-22T00:22:22.8823264Z</td>\n",
       "      <td>President Trump on Tuesday wished North Korean...</td>\n",
       "    </tr>\n",
       "    <tr>\n",
       "      <th>12</th>\n",
       "      <td>{'id': 'fox-news', 'name': 'Fox News'}</td>\n",
       "      <td>Fox News</td>\n",
       "      <td>Trump defends decision to sign executive order...</td>\n",
       "      <td>President Trump answers questions from Fox New...</td>\n",
       "      <td>https://video.foxnews.com/v/6151174032001/</td>\n",
       "      <td>https://cf-images.us-east-1.prod.boltdns.net/v...</td>\n",
       "      <td>2020-04-22T00:07:17.5616918Z</td>\n",
       "      <td>None</td>\n",
       "    </tr>\n",
       "    <tr>\n",
       "      <th>13</th>\n",
       "      <td>{'id': 'cnn', 'name': 'CNN'}</td>\n",
       "      <td>Jennifer Hansler, Curt Merrill and Isaac Yee, CNN</td>\n",
       "      <td>The many times Trump has praised China's handl...</td>\n",
       "      <td>President Donald Trump has repeatedly criticiz...</td>\n",
       "      <td>http://us.cnn.com/2020/04/21/politics/trump-ch...</td>\n",
       "      <td>https://cdn.cnn.com/cnnnext/dam/assets/2004160...</td>\n",
       "      <td>2020-04-22T00:03:04Z</td>\n",
       "      <td>None</td>\n",
       "    </tr>\n",
       "    <tr>\n",
       "      <th>14</th>\n",
       "      <td>{'id': 'cnn', 'name': 'CNN'}</td>\n",
       "      <td>Analysis by Stephen Collinson, CNN</td>\n",
       "      <td>Trump and Biden launch battle over China that ...</td>\n",
       "      <td>President Donald Trump and presumptive Democra...</td>\n",
       "      <td>http://us.cnn.com/2020/04/21/politics/trump-bi...</td>\n",
       "      <td>https://cdn.cnn.com/cnnnext/dam/assets/2004161...</td>\n",
       "      <td>2020-04-22T00:01:24Z</td>\n",
       "      <td>None</td>\n",
       "    </tr>\n",
       "    <tr>\n",
       "      <th>15</th>\n",
       "      <td>{'id': 'fox-news', 'name': 'Fox News'}</td>\n",
       "      <td>Fox News</td>\n",
       "      <td>Whitmer backtracks after COVID-19 contract awa...</td>\n",
       "      <td>Michigan Gov. Gretchen Whitmer's administratio...</td>\n",
       "      <td>https://www.foxnews.com/politics/gov-whitmer-a...</td>\n",
       "      <td>https://cf-images.us-east-1.prod.boltdns.net/v...</td>\n",
       "      <td>2020-04-21T23:52:20.3381838Z</td>\n",
       "      <td>Get all the latest news on coronavirus and mor...</td>\n",
       "    </tr>\n",
       "    <tr>\n",
       "      <th>16</th>\n",
       "      <td>{'id': 'bbc-news', 'name': 'BBC News'}</td>\n",
       "      <td>BBC News</td>\n",
       "      <td>US green cards to be halted for 60 days, Trump...</td>\n",
       "      <td>The US president's immigration ban will not be...</td>\n",
       "      <td>http://www.bbc.co.uk/news/world-us-canada-5237...</td>\n",
       "      <td>https://ichef.bbci.co.uk/news/1024/branded_new...</td>\n",
       "      <td>2020-04-21T23:40:45Z</td>\n",
       "      <td>Image copyrightGetty ImagesImage caption\\r\\n P...</td>\n",
       "    </tr>\n",
       "    <tr>\n",
       "      <th>17</th>\n",
       "      <td>{'id': 'google-news', 'name': 'Google News'}</td>\n",
       "      <td>The Associated Press</td>\n",
       "      <td>Trump immigration ban halts green cards, not t...</td>\n",
       "      <td>President Donald Trump announced Tuesday he wi...</td>\n",
       "      <td>https://www.cnbc.com/2020/04/21/trump-immigrat...</td>\n",
       "      <td>https://image.cnbcfm.com/api/v1/image/10649967...</td>\n",
       "      <td>2020-04-21T23:34:35+00:00</td>\n",
       "      <td>President Donald Trump announced Tuesday he wi...</td>\n",
       "    </tr>\n",
       "    <tr>\n",
       "      <th>18</th>\n",
       "      <td>{'id': 'google-news-in', 'name': 'Google News ...</td>\n",
       "      <td>todaynewspaper.in</td>\n",
       "      <td>Trump immigration ban to last 60 days, target ...</td>\n",
       "      <td>President Donald Trump said on April 21 his ne...</td>\n",
       "      <td>https://www.thehindu.com/news/international/tr...</td>\n",
       "      <td>https://www.thehindu.com/news/international/7x...</td>\n",
       "      <td>2020-04-21T23:32:55+00:00</td>\n",
       "      <td>President Donald Trump said on April 21 his ne...</td>\n",
       "    </tr>\n",
       "    <tr>\n",
       "      <th>19</th>\n",
       "      <td>{'id': 'der-tagesspiegel', 'name': 'Der Tagess...</td>\n",
       "      <td>Juliane Schäuble</td>\n",
       "      <td>Trump will Einwanderung in die USA zunächst fü...</td>\n",
       "      <td>US-Präsident Donald Trump will die Einwanderun...</td>\n",
       "      <td>https://www.tagesspiegel.de/politik/grenze-zu-...</td>\n",
       "      <td>https://www.tagesspiegel.de/images/migrants-cr...</td>\n",
       "      <td>2020-04-21T23:20:06+00:00</td>\n",
       "      <td>Es klingt martialisch, und darum geht es wohl ...</td>\n",
       "    </tr>\n",
       "  </tbody>\n",
       "</table>\n",
       "</div>"
      ],
      "text/plain": [
       "                                               source  ...                                            content\n",
       "0   {'id': 'financial-times', 'name': 'Financial T...  ...  The US National Institutes of Health has warne...\n",
       "1                {'id': 'reuters', 'name': 'Reuters'}  ...  WASHINGTON (Reuters) - U.S. President Donald T...\n",
       "2                {'id': 'reuters', 'name': 'Reuters'}  ...  WASHINGTON (Reuters) - U.S. President Donald T...\n",
       "3   {'id': 'google-news-au', 'name': 'Google News ...  ...  Posted \\r\\nApril 22, 2020 10:15:51\\r\\nUS Presi...\n",
       "4   {'id': 'google-news-uk', 'name': 'Google News ...  ...  A second wave of the coronavirus is expected t...\n",
       "5      {'id': 'abc-news-au', 'name': 'ABC News (AU)'}  ...  Posted \\r\\nApril 22, 2020 11:17:45\\r\\nNew York...\n",
       "6   {'id': 'google-news-uk', 'name': 'Google News ...  ...  A small wrap here on the meeting this afternoo...\n",
       "7      {'id': 'abc-news-au', 'name': 'ABC News (AU)'}  ...  Updated \\r\\nApril 22, 2020 10:45:04\\r\\nUS Pres...\n",
       "8            {'id': 'usa-today', 'name': 'USA Today'}  ...  The Senate approved a $484 billion stimulus pa...\n",
       "9            {'id': 'the-verge', 'name': 'The Verge'}  ...  The firm is helping support a tool called HHS ...\n",
       "10  {'id': 'breitbart-news', 'name': 'Breitbart Ne...  ...  President Donald Trump has exempted the Fortun...\n",
       "11             {'id': 'fox-news', 'name': 'Fox News'}  ...  President Trump on Tuesday wished North Korean...\n",
       "12             {'id': 'fox-news', 'name': 'Fox News'}  ...                                               None\n",
       "13                       {'id': 'cnn', 'name': 'CNN'}  ...                                               None\n",
       "14                       {'id': 'cnn', 'name': 'CNN'}  ...                                               None\n",
       "15             {'id': 'fox-news', 'name': 'Fox News'}  ...  Get all the latest news on coronavirus and mor...\n",
       "16             {'id': 'bbc-news', 'name': 'BBC News'}  ...  Image copyrightGetty ImagesImage caption\\r\\n P...\n",
       "17       {'id': 'google-news', 'name': 'Google News'}  ...  President Donald Trump announced Tuesday he wi...\n",
       "18  {'id': 'google-news-in', 'name': 'Google News ...  ...  President Donald Trump said on April 21 his ne...\n",
       "19  {'id': 'der-tagesspiegel', 'name': 'Der Tagess...  ...  Es klingt martialisch, und darum geht es wohl ...\n",
       "\n",
       "[20 rows x 8 columns]"
      ]
     },
     "execution_count": 62,
     "metadata": {
      "tags": []
     },
     "output_type": "execute_result"
    }
   ],
   "source": [
    "df5 =  pd.DataFrame(trumpheadlines)\n",
    "df5"
   ]
  },
  {
   "cell_type": "code",
   "execution_count": 0,
   "metadata": {
    "colab": {},
    "colab_type": "code",
    "id": "fTaw1xsIfuBg"
   },
   "outputs": [],
   "source": [
    "# Top 20 Headlines in US"
   ]
  },
  {
   "cell_type": "code",
   "execution_count": 0,
   "metadata": {
    "colab": {},
    "colab_type": "code",
    "id": "w2nZKMlhfuBj"
   },
   "outputs": [],
   "source": [
    "url7 = ('http://newsapi.org/v2/top-headlines?country=us&apiKey=b92f31e6a03f4cf8a1fb120e90ef5451')"
   ]
  },
  {
   "cell_type": "code",
   "execution_count": 65,
   "metadata": {
    "colab": {
     "base_uri": "https://localhost:8080/",
     "height": 35
    },
    "colab_type": "code",
    "executionInfo": {
     "elapsed": 49886,
     "status": "ok",
     "timestamp": 1587520772283,
     "user": {
      "displayName": "Derrick Han",
      "photoUrl": "https://lh3.googleusercontent.com/a-/AOh14GihuHb1iZnV9d5knFgkndYAYfv99H6JQMnFyvya=s64",
      "userId": "18016424407593226624"
     },
     "user_tz": -480
    },
    "id": "9_KVpE5RfuBp",
    "outputId": "e5ec3158-1bb3-40c5-b0a2-99332c2a36e4"
   },
   "outputs": [
    {
     "data": {
      "text/plain": [
       "200"
      ]
     },
     "execution_count": 65,
     "metadata": {
      "tags": []
     },
     "output_type": "execute_result"
    }
   ],
   "source": [
    "res = requests.get(url7,headers = headers)\n",
    "res.status_code"
   ]
  },
  {
   "cell_type": "code",
   "execution_count": 0,
   "metadata": {
    "colab": {},
    "colab_type": "code",
    "id": "3to-Qa8EfuBr"
   },
   "outputs": [],
   "source": [
    "usheadlines=res.json()\n",
    "sorted(usheadlines.keys())\n",
    "usheadlines = usheadlines['articles']"
   ]
  },
  {
   "cell_type": "code",
   "execution_count": 67,
   "metadata": {
    "colab": {
     "base_uri": "https://localhost:8080/",
     "height": 1000
    },
    "colab_type": "code",
    "executionInfo": {
     "elapsed": 49843,
     "status": "ok",
     "timestamp": 1587520772285,
     "user": {
      "displayName": "Derrick Han",
      "photoUrl": "https://lh3.googleusercontent.com/a-/AOh14GihuHb1iZnV9d5knFgkndYAYfv99H6JQMnFyvya=s64",
      "userId": "18016424407593226624"
     },
     "user_tz": -480
    },
    "id": "EbGnmnSbfuBu",
    "outputId": "21a22c21-7c06-407f-88e5-051c79037e9d"
   },
   "outputs": [
    {
     "data": {
      "text/html": [
       "<div>\n",
       "<style scoped>\n",
       "    .dataframe tbody tr th:only-of-type {\n",
       "        vertical-align: middle;\n",
       "    }\n",
       "\n",
       "    .dataframe tbody tr th {\n",
       "        vertical-align: top;\n",
       "    }\n",
       "\n",
       "    .dataframe thead th {\n",
       "        text-align: right;\n",
       "    }\n",
       "</style>\n",
       "<table border=\"1\" class=\"dataframe\">\n",
       "  <thead>\n",
       "    <tr style=\"text-align: right;\">\n",
       "      <th></th>\n",
       "      <th>source</th>\n",
       "      <th>author</th>\n",
       "      <th>title</th>\n",
       "      <th>description</th>\n",
       "      <th>url</th>\n",
       "      <th>urlToImage</th>\n",
       "      <th>publishedAt</th>\n",
       "      <th>content</th>\n",
       "    </tr>\n",
       "  </thead>\n",
       "  <tbody>\n",
       "    <tr>\n",
       "      <th>0</th>\n",
       "      <td>{'id': None, 'name': 'Nytimes.com'}</td>\n",
       "      <td>None</td>\n",
       "      <td>Coronavirus Live Updates: Trump Pauses Issuing...</td>\n",
       "      <td>A 60-day pause in immigration will not apply t...</td>\n",
       "      <td>https://www.nytimes.com/2020/04/21/us/coronavi...</td>\n",
       "      <td>https://www.nytimes.com/newsgraphics/2020/04/0...</td>\n",
       "      <td>2020-04-22T00:46:08Z</td>\n",
       "      <td>Heres what you need to know:\\r\\nVideo\\r\\nBack\\...</td>\n",
       "    </tr>\n",
       "    <tr>\n",
       "      <th>1</th>\n",
       "      <td>{'id': None, 'name': 'Cnet.com'}</td>\n",
       "      <td>Katie Conner</td>\n",
       "      <td>Face masks outside, in cars, in stores: Here's...</td>\n",
       "      <td>The wearing of face masks and face coverings i...</td>\n",
       "      <td>https://www.cnet.com/how-to/face-masks-outside...</td>\n",
       "      <td>https://cnet3.cbsistatic.com/img/1VG-b982tcCJe...</td>\n",
       "      <td>2020-04-22T00:22:43Z</td>\n",
       "      <td>Some states and counties now have mandates for...</td>\n",
       "    </tr>\n",
       "    <tr>\n",
       "      <th>2</th>\n",
       "      <td>{'id': 'cnn', 'name': 'CNN'}</td>\n",
       "      <td>Stella Chan and Theresa Waldrop, CNN</td>\n",
       "      <td>Chipotle Mexican Grill to pay $25 million fine...</td>\n",
       "      <td>Chipotle Mexican Grill has agreed to pay a rec...</td>\n",
       "      <td>https://www.cnn.com/2020/04/21/us/chipotle-fin...</td>\n",
       "      <td>https://cdn.cnn.com/cnnnext/dam/assets/2004211...</td>\n",
       "      <td>2020-04-21T23:43:00Z</td>\n",
       "      <td>None</td>\n",
       "    </tr>\n",
       "    <tr>\n",
       "      <th>3</th>\n",
       "      <td>{'id': 'cnbc', 'name': 'CNBC'}</td>\n",
       "      <td>The Associated Press</td>\n",
       "      <td>Trump immigration ban halts green cards, not t...</td>\n",
       "      <td>President Donald Trump announced Tuesday he wi...</td>\n",
       "      <td>https://www.cnbc.com/2020/04/21/trump-immigrat...</td>\n",
       "      <td>https://image.cnbcfm.com/api/v1/image/10649967...</td>\n",
       "      <td>2020-04-21T23:34:35Z</td>\n",
       "      <td>President Donald Trump announced Tuesday he wi...</td>\n",
       "    </tr>\n",
       "    <tr>\n",
       "      <th>4</th>\n",
       "      <td>{'id': 'cnbc', 'name': 'CNBC'}</td>\n",
       "      <td>Alex Sherman</td>\n",
       "      <td>Disney+ has a big fan: Netflix CEO Reed Hastin...</td>\n",
       "      <td>Netflix CEO Reed Hastings praises Disney's str...</td>\n",
       "      <td>https://www.cnbc.com/2020/04/21/netflix-ceo-re...</td>\n",
       "      <td>https://image.cnbcfm.com/api/v1/image/10648111...</td>\n",
       "      <td>2020-04-21T23:32:32Z</td>\n",
       "      <td>Netflix CEO Reed Hastings is a big fan of Disn...</td>\n",
       "    </tr>\n",
       "    <tr>\n",
       "      <th>5</th>\n",
       "      <td>{'id': None, 'name': 'Youtube.com'}</td>\n",
       "      <td>None</td>\n",
       "      <td>U.S. officials seeking answers about health of...</td>\n",
       "      <td>The U.S. is closely monitoring reports concern...</td>\n",
       "      <td>https://www.youtube.com/watch?v=uMDRdch8NMU</td>\n",
       "      <td>https://i.ytimg.com/vi/uMDRdch8NMU/maxresdefau...</td>\n",
       "      <td>2020-04-21T23:29:32Z</td>\n",
       "      <td>None</td>\n",
       "    </tr>\n",
       "    <tr>\n",
       "      <th>6</th>\n",
       "      <td>{'id': 'politico', 'name': 'Politico'}</td>\n",
       "      <td>BILL MAHONEY</td>\n",
       "      <td>Cuomo commits to reopening New York state regi...</td>\n",
       "      <td>The governor provided the first taste of how t...</td>\n",
       "      <td>https://www.politico.com/states/new-york/alban...</td>\n",
       "      <td>https://static.politico.com/a3/70/bdf7718347a4...</td>\n",
       "      <td>2020-04-21T23:27:55Z</td>\n",
       "      <td>Gov. Cuomo provides a coronavirus update durin...</td>\n",
       "    </tr>\n",
       "    <tr>\n",
       "      <th>7</th>\n",
       "      <td>{'id': 'fox-news', 'name': 'Fox News'}</td>\n",
       "      <td>Morgan Phillips</td>\n",
       "      <td>Trudeau calls for ban on 'assault-style weapon...</td>\n",
       "      <td>Canadian Prime Minister Justin Trudeau promise...</td>\n",
       "      <td>https://www.foxnews.com/world/trudeau-ban-on-a...</td>\n",
       "      <td>https://static.foxnews.com/foxnews.com/content...</td>\n",
       "      <td>2020-04-21T23:23:32Z</td>\n",
       "      <td>Canadian Prime Minister Justin Trudeau promise...</td>\n",
       "    </tr>\n",
       "    <tr>\n",
       "      <th>8</th>\n",
       "      <td>{'id': None, 'name': 'Espn.com'}</td>\n",
       "      <td>Bill Barnwell</td>\n",
       "      <td>Rob Gronkowski trade grades - Did the Bucs jus...</td>\n",
       "      <td>Rob Gronkowski is headed to Tampa Bay to join ...</td>\n",
       "      <td>https://www.espn.com/nfl/story/_/id/29078662/r...</td>\n",
       "      <td>https://a2.espncdn.com/combiner/i?img=%2Fphoto...</td>\n",
       "      <td>2020-04-21T23:02:09Z</td>\n",
       "      <td>The Buccaneers added one future Hall of Famer ...</td>\n",
       "    </tr>\n",
       "    <tr>\n",
       "      <th>9</th>\n",
       "      <td>{'id': None, 'name': 'Cheatsheet.com'}</td>\n",
       "      <td>Michelle Kapusta</td>\n",
       "      <td>Queen Elizabeth II's Birthday: Royal Pastry Ch...</td>\n",
       "      <td>Find out how you can make cupcakes just like Q...</td>\n",
       "      <td>https://www.cheatsheet.com/entertainment/queen...</td>\n",
       "      <td>https://www.cheatsheet.com/wp-content/uploads/...</td>\n",
       "      <td>2020-04-21T22:37:25Z</td>\n",
       "      <td>Queen Elizabeth II celebrated her birthday on ...</td>\n",
       "    </tr>\n",
       "    <tr>\n",
       "      <th>10</th>\n",
       "      <td>{'id': 'cnn', 'name': 'CNN'}</td>\n",
       "      <td>Caroline Kelly and Jen Christensen, CNN</td>\n",
       "      <td>CDC chief says there could be second, possibly...</td>\n",
       "      <td>A second coronavirus outbreak could emerge thi...</td>\n",
       "      <td>https://www.cnn.com/2020/04/21/politics/second...</td>\n",
       "      <td>https://cdn.cnn.com/cnnnext/dam/assets/2004191...</td>\n",
       "      <td>2020-04-21T22:34:04Z</td>\n",
       "      <td>(CNN)A second coronavirus outbreak could emerg...</td>\n",
       "    </tr>\n",
       "    <tr>\n",
       "      <th>11</th>\n",
       "      <td>{'id': 'cnn', 'name': 'CNN'}</td>\n",
       "      <td>Eric Bradner, CNN</td>\n",
       "      <td>Georgia Gov. Brian Kemp faces resistance over ...</td>\n",
       "      <td>Georgia Gov. Brian Kemp is running into resist...</td>\n",
       "      <td>https://www.cnn.com/2020/04/21/politics/georgi...</td>\n",
       "      <td>https://cdn.cnn.com/cnnnext/dam/assets/2004030...</td>\n",
       "      <td>2020-04-21T22:15:47Z</td>\n",
       "      <td>None</td>\n",
       "    </tr>\n",
       "    <tr>\n",
       "      <th>12</th>\n",
       "      <td>{'id': None, 'name': 'Al.com'}</td>\n",
       "      <td>Lee Roop | lroop@al.com</td>\n",
       "      <td>Here’s how to watch tonight’s Lyrid meteor sho...</td>\n",
       "      <td>The annual Lyrid meteor shower is tonight, and...</td>\n",
       "      <td>https://www.al.com/news/2020/04/heres-how-to-w...</td>\n",
       "      <td>https://www.al.com/resizer/4AKOfWKHKf5Jvxb-_It...</td>\n",
       "      <td>2020-04-21T22:07:49Z</td>\n",
       "      <td>The sky presents a good free show tonight when...</td>\n",
       "    </tr>\n",
       "    <tr>\n",
       "      <th>13</th>\n",
       "      <td>{'id': None, 'name': 'Mediaite.com'}</td>\n",
       "      <td>josh-feldman</td>\n",
       "      <td>CDC Director Warns Second Wave of Coronavirus ...</td>\n",
       "      <td>The head of the Centers for Disease Control an...</td>\n",
       "      <td>https://www.mediaite.com/news/cdc-director-war...</td>\n",
       "      <td>https://www.mediaite.com/wp-content/uploads/20...</td>\n",
       "      <td>2020-04-21T21:56:00Z</td>\n",
       "      <td>The head of the Centers for Disease Control an...</td>\n",
       "    </tr>\n",
       "    <tr>\n",
       "      <th>14</th>\n",
       "      <td>{'id': None, 'name': 'Bbc.com'}</td>\n",
       "      <td>https://www.facebook.com/bbcnews</td>\n",
       "      <td>Allergy impact from invasive weed 'underestima...</td>\n",
       "      <td>The impact on human health of an invasive ragw...</td>\n",
       "      <td>https://www.bbc.com/news/science-environment-5...</td>\n",
       "      <td>https://ichef.bbci.co.uk/news/1024/branded_new...</td>\n",
       "      <td>2020-04-21T21:55:07Z</td>\n",
       "      <td>Image copyrightProf Heinz Müller-Schärer\\r\\nSc...</td>\n",
       "    </tr>\n",
       "    <tr>\n",
       "      <th>15</th>\n",
       "      <td>{'id': 'cnn', 'name': 'CNN'}</td>\n",
       "      <td>Angela Dewan and Richard Roth, CNN</td>\n",
       "      <td>Driver killed in attack on WHO vehicle carryin...</td>\n",
       "      <td>A World Health Organization vehicle carrying c...</td>\n",
       "      <td>https://www.cnn.com/2020/04/21/asia/myanmar-wh...</td>\n",
       "      <td>https://cdn.cnn.com/cnnnext/dam/assets/2004211...</td>\n",
       "      <td>2020-04-21T21:45:47Z</td>\n",
       "      <td>None</td>\n",
       "    </tr>\n",
       "    <tr>\n",
       "      <th>16</th>\n",
       "      <td>{'id': 'cnn', 'name': 'CNN'}</td>\n",
       "      <td>Sandra Gonzalez, CNN</td>\n",
       "      <td>A new 'Hunger Games' movie is in the works - CNN</td>\n",
       "      <td>Prepare yourself for a return trip to Panem. A...</td>\n",
       "      <td>https://www.cnn.com/2020/04/21/entertainment/h...</td>\n",
       "      <td>https://cdn.cnn.com/cnnnext/dam/assets/1912181...</td>\n",
       "      <td>2020-04-21T21:43:00Z</td>\n",
       "      <td>None</td>\n",
       "    </tr>\n",
       "    <tr>\n",
       "      <th>17</th>\n",
       "      <td>{'id': 'reuters', 'name': 'Reuters'}</td>\n",
       "      <td>Amanda Becker</td>\n",
       "      <td>Seven confirmed COVID-19 cases linked to Wisco...</td>\n",
       "      <td>At least seven people contracted the coronavir...</td>\n",
       "      <td>https://www.reuters.com/article/us-health-coro...</td>\n",
       "      <td>https://s4.reutersmedia.net/resources/r/?m=02&amp;...</td>\n",
       "      <td>2020-04-21T21:39:00Z</td>\n",
       "      <td>(Reuters) - At least seven people contracted t...</td>\n",
       "    </tr>\n",
       "    <tr>\n",
       "      <th>18</th>\n",
       "      <td>{'id': None, 'name': 'Fool.com'}</td>\n",
       "      <td>Jason Hall</td>\n",
       "      <td>Should You Buy Oil Stocks Now? - Motley Fool</td>\n",
       "      <td>It could take years for the oil and gas indust...</td>\n",
       "      <td>https://www.fool.com/investing/2020/04/21/shou...</td>\n",
       "      <td>https://g.foolcdn.com/editorial/images/568492/...</td>\n",
       "      <td>2020-04-21T21:22:39Z</td>\n",
       "      <td>Futures for West Texas Intermediate crude oil ...</td>\n",
       "    </tr>\n",
       "    <tr>\n",
       "      <th>19</th>\n",
       "      <td>{'id': None, 'name': 'Marketwatch.com'}</td>\n",
       "      <td>Claudia Assis</td>\n",
       "      <td>United Airlines to tap equity markets amid cor...</td>\n",
       "      <td></td>\n",
       "      <td>http://www.marketwatch.com/story/united-airlin...</td>\n",
       "      <td>https://s.wsj.net/public/resources/MWimages/MW...</td>\n",
       "      <td>2020-04-21T21:16:00Z</td>\n",
       "      <td>United Airlines Holdings Inc.\\r\\n UAL, \\r\\n +0...</td>\n",
       "    </tr>\n",
       "  </tbody>\n",
       "</table>\n",
       "</div>"
      ],
      "text/plain": [
       "                                     source  ...                                            content\n",
       "0       {'id': None, 'name': 'Nytimes.com'}  ...  Heres what you need to know:\\r\\nVideo\\r\\nBack\\...\n",
       "1          {'id': None, 'name': 'Cnet.com'}  ...  Some states and counties now have mandates for...\n",
       "2              {'id': 'cnn', 'name': 'CNN'}  ...                                               None\n",
       "3            {'id': 'cnbc', 'name': 'CNBC'}  ...  President Donald Trump announced Tuesday he wi...\n",
       "4            {'id': 'cnbc', 'name': 'CNBC'}  ...  Netflix CEO Reed Hastings is a big fan of Disn...\n",
       "5       {'id': None, 'name': 'Youtube.com'}  ...                                               None\n",
       "6    {'id': 'politico', 'name': 'Politico'}  ...  Gov. Cuomo provides a coronavirus update durin...\n",
       "7    {'id': 'fox-news', 'name': 'Fox News'}  ...  Canadian Prime Minister Justin Trudeau promise...\n",
       "8          {'id': None, 'name': 'Espn.com'}  ...  The Buccaneers added one future Hall of Famer ...\n",
       "9    {'id': None, 'name': 'Cheatsheet.com'}  ...  Queen Elizabeth II celebrated her birthday on ...\n",
       "10             {'id': 'cnn', 'name': 'CNN'}  ...  (CNN)A second coronavirus outbreak could emerg...\n",
       "11             {'id': 'cnn', 'name': 'CNN'}  ...                                               None\n",
       "12           {'id': None, 'name': 'Al.com'}  ...  The sky presents a good free show tonight when...\n",
       "13     {'id': None, 'name': 'Mediaite.com'}  ...  The head of the Centers for Disease Control an...\n",
       "14          {'id': None, 'name': 'Bbc.com'}  ...  Image copyrightProf Heinz Müller-Schärer\\r\\nSc...\n",
       "15             {'id': 'cnn', 'name': 'CNN'}  ...                                               None\n",
       "16             {'id': 'cnn', 'name': 'CNN'}  ...                                               None\n",
       "17     {'id': 'reuters', 'name': 'Reuters'}  ...  (Reuters) - At least seven people contracted t...\n",
       "18         {'id': None, 'name': 'Fool.com'}  ...  Futures for West Texas Intermediate crude oil ...\n",
       "19  {'id': None, 'name': 'Marketwatch.com'}  ...  United Airlines Holdings Inc.\\r\\n UAL, \\r\\n +0...\n",
       "\n",
       "[20 rows x 8 columns]"
      ]
     },
     "execution_count": 67,
     "metadata": {
      "tags": []
     },
     "output_type": "execute_result"
    }
   ],
   "source": [
    "df6 =  pd.DataFrame(usheadlines)\n",
    "df6"
   ]
  },
  {
   "cell_type": "code",
   "execution_count": 0,
   "metadata": {
    "colab": {},
    "colab_type": "code",
    "id": "VFDbvKzxfuBx"
   },
   "outputs": [],
   "source": [
    "# we will combine all news headlines together\n",
    "finaldf= pd.concat([df,df2,df3,df4,df5,df6],sort=True).reset_index(drop=True)"
   ]
  },
  {
   "cell_type": "code",
   "execution_count": 70,
   "metadata": {
    "colab": {
     "base_uri": "https://localhost:8080/",
     "height": 141
    },
    "colab_type": "code",
    "executionInfo": {
     "elapsed": 49775,
     "status": "ok",
     "timestamp": 1587520772286,
     "user": {
      "displayName": "Derrick Han",
      "photoUrl": "https://lh3.googleusercontent.com/a-/AOh14GihuHb1iZnV9d5knFgkndYAYfv99H6JQMnFyvya=s64",
      "userId": "18016424407593226624"
     },
     "user_tz": -480
    },
    "id": "HtXBjaFrfuB1",
    "outputId": "70577d25-f1ce-4c43-9d94-6c7b6ddc3158"
   },
   "outputs": [
    {
     "data": {
      "text/html": [
       "<div>\n",
       "<style scoped>\n",
       "    .dataframe tbody tr th:only-of-type {\n",
       "        vertical-align: middle;\n",
       "    }\n",
       "\n",
       "    .dataframe tbody tr th {\n",
       "        vertical-align: top;\n",
       "    }\n",
       "\n",
       "    .dataframe thead th {\n",
       "        text-align: right;\n",
       "    }\n",
       "</style>\n",
       "<table border=\"1\" class=\"dataframe\">\n",
       "  <thead>\n",
       "    <tr style=\"text-align: right;\">\n",
       "      <th></th>\n",
       "      <th>headlines</th>\n",
       "    </tr>\n",
       "    <tr>\n",
       "      <th>publishedAt</th>\n",
       "      <th></th>\n",
       "    </tr>\n",
       "  </thead>\n",
       "  <tbody>\n",
       "    <tr>\n",
       "      <th>2020-04-21</th>\n",
       "      <td>Netflix sign-ups jump during coronavirus lockd...</td>\n",
       "    </tr>\n",
       "    <tr>\n",
       "      <th>2020-04-22</th>\n",
       "      <td>Coronavirus in Illinois updates: Here’s what’s...</td>\n",
       "    </tr>\n",
       "  </tbody>\n",
       "</table>\n",
       "</div>"
      ],
      "text/plain": [
       "                                                     headlines\n",
       "publishedAt                                                   \n",
       "2020-04-21   Netflix sign-ups jump during coronavirus lockd...\n",
       "2020-04-22   Coronavirus in Illinois updates: Here’s what’s..."
      ]
     },
     "execution_count": 70,
     "metadata": {
      "tags": []
     },
     "output_type": "execute_result"
    }
   ],
   "source": [
    "# create a new headlines to combine title and description together\n",
    "finaldf['headlines'] = finaldf[\"title\"] \n",
    "#Convert headlines into string first so that we can combine via the dates later.\n",
    "finaldf['headlines'] = finaldf['headlines'].astype(str)\n",
    "#to remove the columns that we do not need\n",
    "finaldf = finaldf.drop(['author', 'source','url','description','title','urlToImage','content'], axis=1)\n",
    "#change to date to datetime.\n",
    "finaldf['publishedAt'] = finaldf['publishedAt'].str[:10]\n",
    "finaldf['publishedAt'] = pd.to_datetime(finaldf['publishedAt'])\n",
    "#group the headlines according to dates.\n",
    "finaldf = (finaldf.groupby('publishedAt').agg({'headlines' : lambda x: ' '.join(x.unique())}))\n",
    "finaldf.head()"
   ]
  },
  {
   "cell_type": "code",
   "execution_count": 0,
   "metadata": {
    "colab": {},
    "colab_type": "code",
    "id": "qUsO8at9fuB7"
   },
   "outputs": [],
   "source": [
    "#redefine to new X for modelling purposes.\n",
    "newX = finaldf['headlines']"
   ]
  },
  {
   "cell_type": "markdown",
   "metadata": {
    "colab_type": "text",
    "id": "ZD_AaIANfuB8"
   },
   "source": [
    "# Run through our dataset on the first model "
   ]
  },
  {
   "cell_type": "code",
   "execution_count": 0,
   "metadata": {
    "colab": {},
    "colab_type": "code",
    "id": "elfUl56wfuB9"
   },
   "outputs": [],
   "source": [
    "#num_words - This will be the maximum number of words \n",
    "#from our resulting tokenized data vocabulary which are to be used, \n",
    "#truncated after the 10000 most common words in our case.\n",
    "tokenizer = Tokenizer(num_words=10000)\n",
    "# Tokenize our training data'trainheadlines'\n",
    "tokenizer.fit_on_texts(newX)\n",
    "# Encode training data sentences into sequences for both train and test data.\n",
    "sequences_train = tokenizer.texts_to_sequences(newX)"
   ]
  },
  {
   "cell_type": "code",
   "execution_count": 0,
   "metadata": {
    "colab": {},
    "colab_type": "code",
    "id": "G62hxImFfuB_"
   },
   "outputs": [],
   "source": [
    "#Features for model training\n",
    "#nb_classes - total number of classes.\n",
    "nb_classes = 2\n",
    "# maxlen is feature of maximum sequence length for padding our encoded sentences\n",
    "maxlen = 200\n",
    "\n",
    "# Pad the training sequences as we need our encoded sequences to be of the same length. \n",
    "# use that to pad all other sequences with extra '0's at the end ('post') and\n",
    "# will also truncate any sequences longer than maximum length from the end ('post') as well. \n",
    "newX = sequence.pad_sequences(sequences_train, maxlen=maxlen)"
   ]
  },
  {
   "cell_type": "code",
   "execution_count": 88,
   "metadata": {
    "colab": {
     "base_uri": "https://localhost:8080/",
     "height": 110
    },
    "colab_type": "code",
    "executionInfo": {
     "elapsed": 1317,
     "status": "ok",
     "timestamp": 1587521926800,
     "user": {
      "displayName": "Derrick Han",
      "photoUrl": "https://lh3.googleusercontent.com/a-/AOh14GihuHb1iZnV9d5knFgkndYAYfv99H6JQMnFyvya=s64",
      "userId": "18016424407593226624"
     },
     "user_tz": -480
    },
    "id": "YvJXNuBbfuCC",
    "outputId": "cd247f7b-bc61-401c-b0fe-67ed3b855253"
   },
   "outputs": [
    {
     "data": {
      "text/html": [
       "<div>\n",
       "<style scoped>\n",
       "    .dataframe tbody tr th:only-of-type {\n",
       "        vertical-align: middle;\n",
       "    }\n",
       "\n",
       "    .dataframe tbody tr th {\n",
       "        vertical-align: top;\n",
       "    }\n",
       "\n",
       "    .dataframe thead th {\n",
       "        text-align: right;\n",
       "    }\n",
       "</style>\n",
       "<table border=\"1\" class=\"dataframe\">\n",
       "  <thead>\n",
       "    <tr style=\"text-align: right;\">\n",
       "      <th></th>\n",
       "      <th>0</th>\n",
       "    </tr>\n",
       "  </thead>\n",
       "  <tbody>\n",
       "    <tr>\n",
       "      <th>0</th>\n",
       "      <td>0</td>\n",
       "    </tr>\n",
       "    <tr>\n",
       "      <th>1</th>\n",
       "      <td>1</td>\n",
       "    </tr>\n",
       "  </tbody>\n",
       "</table>\n",
       "</div>"
      ],
      "text/plain": [
       "   0\n",
       "0  0\n",
       "1  1"
      ]
     },
     "execution_count": 88,
     "metadata": {
      "tags": []
     },
     "output_type": "execute_result"
    }
   ],
   "source": [
    "#predict y value\n",
    "yhat = model.predict_classes(newX)\n",
    "#predict values \n",
    "yhat\n",
    "#time to convert into dataframe\n",
    "predicty =  pd.DataFrame(yhat)\n",
    "predicty"
   ]
  },
  {
   "cell_type": "code",
   "execution_count": 0,
   "metadata": {
    "colab": {},
    "colab_type": "code",
    "id": "qfNiCjUtfuCE"
   },
   "outputs": [],
   "source": [
    "# Run through our dataset on the 2nd model (sentiment analysis)"
   ]
  },
  {
   "cell_type": "code",
   "execution_count": 76,
   "metadata": {
    "colab": {
     "base_uri": "https://localhost:8080/",
     "height": 87
    },
    "colab_type": "code",
    "executionInfo": {
     "elapsed": 50315,
     "status": "ok",
     "timestamp": 1587520772927,
     "user": {
      "displayName": "Derrick Han",
      "photoUrl": "https://lh3.googleusercontent.com/a-/AOh14GihuHb1iZnV9d5knFgkndYAYfv99H6JQMnFyvya=s64",
      "userId": "18016424407593226624"
     },
     "user_tz": -480
    },
    "id": "e3IKBRkmfuCI",
    "outputId": "48d66753-d914-47e0-c590-0d5cdeff39ac"
   },
   "outputs": [
    {
     "data": {
      "text/plain": [
       "publishedAt\n",
       "2020-04-21   -0.012601\n",
       "2020-04-22    0.149675\n",
       "Name: headlines, dtype: float64"
      ]
     },
     "execution_count": 76,
     "metadata": {
      "tags": []
     },
     "output_type": "execute_result"
    }
   ],
   "source": [
    "pol = lambda x : TextBlob(x).sentiment.polarity\n",
    "sentiment = finaldf['headlines'].apply(pol)\n",
    "sentiment"
   ]
  },
  {
   "cell_type": "code",
   "execution_count": 92,
   "metadata": {
    "colab": {
     "base_uri": "https://localhost:8080/",
     "height": 141
    },
    "colab_type": "code",
    "executionInfo": {
     "elapsed": 2023,
     "status": "ok",
     "timestamp": 1587522493066,
     "user": {
      "displayName": "Derrick Han",
      "photoUrl": "https://lh3.googleusercontent.com/a-/AOh14GihuHb1iZnV9d5knFgkndYAYfv99H6JQMnFyvya=s64",
      "userId": "18016424407593226624"
     },
     "user_tz": -480
    },
    "id": "flniWKV_rpPI",
    "outputId": "81e12fe7-c944-443d-b3b1-527b9d7ea1f3"
   },
   "outputs": [
    {
     "data": {
      "text/html": [
       "<div>\n",
       "<style scoped>\n",
       "    .dataframe tbody tr th:only-of-type {\n",
       "        vertical-align: middle;\n",
       "    }\n",
       "\n",
       "    .dataframe tbody tr th {\n",
       "        vertical-align: top;\n",
       "    }\n",
       "\n",
       "    .dataframe thead th {\n",
       "        text-align: right;\n",
       "    }\n",
       "</style>\n",
       "<table border=\"1\" class=\"dataframe\">\n",
       "  <thead>\n",
       "    <tr style=\"text-align: right;\">\n",
       "      <th></th>\n",
       "      <th>headlines</th>\n",
       "    </tr>\n",
       "    <tr>\n",
       "      <th>publishedAt</th>\n",
       "      <th></th>\n",
       "    </tr>\n",
       "  </thead>\n",
       "  <tbody>\n",
       "    <tr>\n",
       "      <th>2020-04-21</th>\n",
       "      <td>-0.012601</td>\n",
       "    </tr>\n",
       "    <tr>\n",
       "      <th>2020-04-22</th>\n",
       "      <td>0.149675</td>\n",
       "    </tr>\n",
       "  </tbody>\n",
       "</table>\n",
       "</div>"
      ],
      "text/plain": [
       "             headlines\n",
       "publishedAt           \n",
       "2020-04-21   -0.012601\n",
       "2020-04-22    0.149675"
      ]
     },
     "execution_count": 92,
     "metadata": {
      "tags": []
     },
     "output_type": "execute_result"
    }
   ],
   "source": [
    "#time to convert this into datafarme\n",
    "predictions  = pd.DataFrame(sentiment)\n",
    "predictions"
   ]
  },
  {
   "cell_type": "markdown",
   "metadata": {
    "colab_type": "text",
    "id": "wp0SqZL7fuCN"
   },
   "source": [
    "# Our machine predicted that for Vix  : \n",
    "- Vix to rise on 20 April with a negative sentiment of 0.20 \n",
    "- Vix to fall on 21 April with a positive sentiment of 0.08\n"
   ]
  },
  {
   "cell_type": "code",
   "execution_count": 0,
   "metadata": {
    "colab": {},
    "colab_type": "code",
    "id": "oY9aFglmfuCP"
   },
   "outputs": [],
   "source": [
    "#we want to save our news headlines and our predictions as well"
   ]
  },
  {
   "cell_type": "code",
   "execution_count": 83,
   "metadata": {
    "colab": {
     "base_uri": "https://localhost:8080/",
     "height": 35
    },
    "colab_type": "code",
    "executionInfo": {
     "elapsed": 2290,
     "status": "ok",
     "timestamp": 1587521762955,
     "user": {
      "displayName": "Derrick Han",
      "photoUrl": "https://lh3.googleusercontent.com/a-/AOh14GihuHb1iZnV9d5knFgkndYAYfv99H6JQMnFyvya=s64",
      "userId": "18016424407593226624"
     },
     "user_tz": -480
    },
    "id": "9A3YSdjcfuCT",
    "outputId": "34a754a3-5760-4c84-88f7-5f8327a7abdf"
   },
   "outputs": [
    {
     "name": "stdout",
     "output_type": "stream",
     "text": [
      "Mounted at /drive\n"
     ]
    }
   ],
   "source": [
    "from google.colab import drive\n",
    "drive.mount('/drive')"
   ]
  },
  {
   "cell_type": "code",
   "execution_count": 0,
   "metadata": {
    "colab": {},
    "colab_type": "code",
    "id": "DB5_ryWKp0uf"
   },
   "outputs": [],
   "source": [
    "#savings our news headlines to google drive folder\n",
    "finaldf.to_csv('/drive/My Drive/Colab Notebooks/newsheadlines.csv')"
   ]
  },
  {
   "cell_type": "code",
   "execution_count": 109,
   "metadata": {
    "colab": {
     "base_uri": "https://localhost:8080/",
     "height": 171
    },
    "colab_type": "code",
    "executionInfo": {
     "elapsed": 1202,
     "status": "ok",
     "timestamp": 1587524624224,
     "user": {
      "displayName": "Derrick Han",
      "photoUrl": "https://lh3.googleusercontent.com/a-/AOh14GihuHb1iZnV9d5knFgkndYAYfv99H6JQMnFyvya=s64",
      "userId": "18016424407593226624"
     },
     "user_tz": -480
    },
    "id": "CD_VGqLituNx",
    "outputId": "2877097f-3156-4cea-c4c9-60011e61e6f3"
   },
   "outputs": [
    {
     "data": {
      "text/html": [
       "<div>\n",
       "<style scoped>\n",
       "    .dataframe tbody tr th:only-of-type {\n",
       "        vertical-align: middle;\n",
       "    }\n",
       "\n",
       "    .dataframe tbody tr th {\n",
       "        vertical-align: top;\n",
       "    }\n",
       "\n",
       "    .dataframe thead th {\n",
       "        text-align: right;\n",
       "    }\n",
       "</style>\n",
       "<table border=\"1\" class=\"dataframe\">\n",
       "  <thead>\n",
       "    <tr style=\"text-align: right;\">\n",
       "      <th></th>\n",
       "      <th>headlines</th>\n",
       "      <th>0</th>\n",
       "    </tr>\n",
       "  </thead>\n",
       "  <tbody>\n",
       "    <tr>\n",
       "      <th>2020-04-21 00:00:00</th>\n",
       "      <td>-0.012601</td>\n",
       "      <td>NaN</td>\n",
       "    </tr>\n",
       "    <tr>\n",
       "      <th>2020-04-22 00:00:00</th>\n",
       "      <td>0.149675</td>\n",
       "      <td>NaN</td>\n",
       "    </tr>\n",
       "    <tr>\n",
       "      <th>0</th>\n",
       "      <td>NaN</td>\n",
       "      <td>0.0</td>\n",
       "    </tr>\n",
       "    <tr>\n",
       "      <th>1</th>\n",
       "      <td>NaN</td>\n",
       "      <td>1.0</td>\n",
       "    </tr>\n",
       "  </tbody>\n",
       "</table>\n",
       "</div>"
      ],
      "text/plain": [
       "                     headlines    0\n",
       "2020-04-21 00:00:00  -0.012601  NaN\n",
       "2020-04-22 00:00:00   0.149675  NaN\n",
       "0                          NaN  0.0\n",
       "1                          NaN  1.0"
      ]
     },
     "execution_count": 109,
     "metadata": {
      "tags": []
     },
     "output_type": "execute_result"
    }
   ],
   "source": [
    "#savings our predictions from model to google drive folder\n",
    "merged_df = pd.concat([predictions, predicty])\n",
    "merged_df"
   ]
  },
  {
   "cell_type": "code",
   "execution_count": 0,
   "metadata": {
    "colab": {},
    "colab_type": "code",
    "id": "Tqc5D_j3qhFv"
   },
   "outputs": [],
   "source": [
    "merged_df.to_csv('/drive/My Drive/Colab Notebooks/predictions.csv')"
   ]
  }
 ],
 "metadata": {
  "colab": {
   "name": "Validation dataset part 5.ipynb",
   "provenance": []
  },
  "kernelspec": {
   "display_name": "Python 3",
   "language": "python",
   "name": "python3"
  },
  "language_info": {
   "codemirror_mode": {
    "name": "ipython",
    "version": 3
   },
   "file_extension": ".py",
   "mimetype": "text/x-python",
   "name": "python",
   "nbconvert_exporter": "python",
   "pygments_lexer": "ipython3",
   "version": "3.7.6"
  }
 },
 "nbformat": 4,
 "nbformat_minor": 1
}
