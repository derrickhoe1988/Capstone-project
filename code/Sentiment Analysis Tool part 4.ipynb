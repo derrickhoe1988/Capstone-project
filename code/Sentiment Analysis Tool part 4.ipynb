{
 "cells": [
  {
   "cell_type": "markdown",
   "metadata": {},
   "source": [
    "# Project 4: Predicting Volatility Index price with Sentiment Analysis on News headlines"
   ]
  },
  {
   "cell_type": "markdown",
   "metadata": {},
   "source": [
    "### Notebook 4 : Sentiment Analysis Tool - Extent of the Direction  \n",
    "\n",
    "This portion of the notebook will be using sentiment analysis tool to predict the extent(how positive or negative) of the direction of the Volatility Price Index : \n",
    "\n",
    "1. Vader\n",
    "2. Textblob"
   ]
  },
  {
   "cell_type": "code",
   "execution_count": 1,
   "metadata": {},
   "outputs": [
    {
     "name": "stderr",
     "output_type": "stream",
     "text": [
      "C:\\Users\\PC\\anaconda3\\lib\\site-packages\\pandas_datareader\\compat\\__init__.py:7: FutureWarning: pandas.util.testing is deprecated. Use the functions in the public API at pandas.testing instead.\n",
      "  from pandas.util.testing import assert_frame_equal\n",
      "Using TensorFlow backend.\n"
     ]
    }
   ],
   "source": [
    "# get some libraries that will be useful\n",
    "\n",
    "import re\n",
    "import numpy as np # linear algebra\n",
    "import pandas as pd\n",
    "import seaborn as sns\n",
    "import string\n",
    "import matplotlib.pyplot as plt\n",
    "import pandas_datareader as dr\n",
    "#To remove weekends from dataset\n",
    "from pandas.tseries.offsets import BDay\n",
    "\n",
    "# necessary libraries for wordcloud\n",
    "from wordcloud import WordCloud\n",
    "from wordcloud import STOPWORDS\n",
    "from PIL import Image\n",
    "\n",
    "# the Naive Bayes model\n",
    "from sklearn.naive_bayes import MultinomialNB\n",
    "# function to split the data for cross-validation\n",
    "from sklearn.model_selection import train_test_split\n",
    "# function for transforming documents into counts\n",
    "#words\n",
    "from nltk.corpus import stopwords\n",
    "from nltk.stem import PorterStemmer\n",
    "from sklearn.feature_extraction.text import CountVectorizer, HashingVectorizer, TfidfVectorizer\n",
    "from sklearn.pipeline import Pipeline\n",
    "\n",
    "# function for encoding categories\n",
    "from sklearn.preprocessing import LabelEncoder\n",
    "\n",
    "from sklearn.metrics import accuracy_score, classification_report, confusion_matrix\n",
    "from sklearn.model_selection import train_test_split, GridSearchCV\n",
    "\n",
    "from sklearn.feature_extraction.text import TfidfVectorizer,CountVectorizer\n",
    "from sklearn.ensemble import RandomForestClassifier, GradientBoostingClassifier\n",
    "from sklearn.linear_model import SGDClassifier, SGDRegressor,LogisticRegression\n",
    "#keras modeling\n",
    "from keras.preprocessing import sequence\n",
    "from keras.utils import np_utils\n",
    "from keras.layers.embeddings import Embedding\n",
    "from keras.layers.recurrent import LSTM, SimpleRNN, GRU\n",
    "from keras.layers.convolutional import Convolution1D\n",
    "from keras import backend as K\n",
    "from keras.preprocessing.text import Tokenizer\n",
    "from keras.models import Sequential\n",
    "from keras.layers import Dense, Dropout, Activation\n",
    "from keras.layers.convolutional import Conv1D\n",
    "from keras.layers.convolutional import MaxPooling1D\n",
    "#evaluation\n",
    "from sklearn.metrics import f1_score\n",
    "\n",
    "\n",
    "\n",
    "#Sentiment modelling\n",
    "from nltk.sentiment.vader import SentimentIntensityAnalyzer as SIA\n",
    "from textblob import TextBlob\n",
    "\n",
    "\n",
    "%matplotlib inline"
   ]
  },
  {
   "cell_type": "markdown",
   "metadata": {},
   "source": [
    "Source : \n",
    "https://medium.com/@Intellica.AI/vader-ibm-watson-or-textblob-which-is-better-for-unsupervised-sentiment-analysis-db4143a39445"
   ]
  },
  {
   "cell_type": "code",
   "execution_count": 2,
   "metadata": {},
   "outputs": [],
   "source": [
    "# grab the data #we will first grab the news data set first\n",
    "combined_news = pd.read_csv(\"../data/final_dataframe.csv\")"
   ]
  },
  {
   "cell_type": "code",
   "execution_count": 3,
   "metadata": {},
   "outputs": [
    {
     "data": {
      "text/html": [
       "<div>\n",
       "<style scoped>\n",
       "    .dataframe tbody tr th:only-of-type {\n",
       "        vertical-align: middle;\n",
       "    }\n",
       "\n",
       "    .dataframe tbody tr th {\n",
       "        vertical-align: top;\n",
       "    }\n",
       "\n",
       "    .dataframe thead th {\n",
       "        text-align: right;\n",
       "    }\n",
       "</style>\n",
       "<table border=\"1\" class=\"dataframe\">\n",
       "  <thead>\n",
       "    <tr style=\"text-align: right;\">\n",
       "      <th></th>\n",
       "      <th>Date</th>\n",
       "      <th>all25</th>\n",
       "      <th>upordown</th>\n",
       "    </tr>\n",
       "  </thead>\n",
       "  <tbody>\n",
       "    <tr>\n",
       "      <th>0</th>\n",
       "      <td>2008-08-08</td>\n",
       "      <td>0,b\"georgia 'downs two russian warplanes' as c...</td>\n",
       "      <td>0.0</td>\n",
       "    </tr>\n",
       "    <tr>\n",
       "      <th>1</th>\n",
       "      <td>2008-08-11</td>\n",
       "      <td>1,b'why wont america and nato help us? if they...</td>\n",
       "      <td>0.0</td>\n",
       "    </tr>\n",
       "    <tr>\n",
       "      <th>2</th>\n",
       "      <td>2008-08-12</td>\n",
       "      <td>0,b'remember that adorable 9-year-old who sang...</td>\n",
       "      <td>1.0</td>\n",
       "    </tr>\n",
       "    <tr>\n",
       "      <th>3</th>\n",
       "      <td>2008-08-13</td>\n",
       "      <td>0,b' u.s. refuses israel weapons to attack ira...</td>\n",
       "      <td>0.0</td>\n",
       "    </tr>\n",
       "    <tr>\n",
       "      <th>4</th>\n",
       "      <td>2008-08-14</td>\n",
       "      <td>1,b'all the experts admit that we should legal...</td>\n",
       "      <td>0.0</td>\n",
       "    </tr>\n",
       "  </tbody>\n",
       "</table>\n",
       "</div>"
      ],
      "text/plain": [
       "         Date                                              all25  upordown\n",
       "0  2008-08-08  0,b\"georgia 'downs two russian warplanes' as c...       0.0\n",
       "1  2008-08-11  1,b'why wont america and nato help us? if they...       0.0\n",
       "2  2008-08-12  0,b'remember that adorable 9-year-old who sang...       1.0\n",
       "3  2008-08-13  0,b' u.s. refuses israel weapons to attack ira...       0.0\n",
       "4  2008-08-14  1,b'all the experts admit that we should legal...       0.0"
      ]
     },
     "execution_count": 3,
     "metadata": {},
     "output_type": "execute_result"
    }
   ],
   "source": [
    "combined_news.head()"
   ]
  },
  {
   "cell_type": "markdown",
   "metadata": {},
   "source": [
    "## Define a new dataframe that only include the columns that we want for sentiment analysis."
   ]
  },
  {
   "cell_type": "code",
   "execution_count": 4,
   "metadata": {},
   "outputs": [],
   "source": [
    "df = combined_news[['Date','upordown','all25']]"
   ]
  },
  {
   "cell_type": "markdown",
   "metadata": {},
   "source": [
    "# VADER Sentiment Analysis"
   ]
  },
  {
   "cell_type": "markdown",
   "metadata": {},
   "source": [
    "Vader is a lexicon and rule-based sentiment analysis tool that is specifically attuned to sentiments expressed in social media. \n",
    "\n",
    "VADER uses a combination of A sentiment lexicon is a list of lexical features (e.g., words) which are generally labeled according to their semantic orientation as either positive or negative. \n",
    "\n",
    "VADER not only tells about the Positivity and Negativity score but also tells us about how positive or negative a sentiment is."
   ]
  },
  {
   "cell_type": "code",
   "execution_count": 5,
   "metadata": {
    "scrolled": false
   },
   "outputs": [],
   "source": [
    "#Create a function to run through vader analysis on all 25 headlines.\n",
    "results = []\n",
    "\n",
    "for headline in df['all25']:\n",
    "    pol_score = SIA().polarity_scores(headline) # run analysis\n",
    "    pol_score['headline'] = df['all25'] # add headlines for viewing\n",
    "    results.append(pol_score)"
   ]
  },
  {
   "cell_type": "code",
   "execution_count": 7,
   "metadata": {},
   "outputs": [
    {
     "name": "stderr",
     "output_type": "stream",
     "text": [
      "C:\\Users\\PC\\anaconda3\\lib\\site-packages\\ipykernel_launcher.py:1: SettingWithCopyWarning: \n",
      "A value is trying to be set on a copy of a slice from a DataFrame.\n",
      "Try using .loc[row_indexer,col_indexer] = value instead\n",
      "\n",
      "See the caveats in the documentation: https://pandas.pydata.org/pandas-docs/stable/user_guide/indexing.html#returning-a-view-versus-a-copy\n",
      "  \"\"\"Entry point for launching an IPython kernel.\n"
     ]
    }
   ],
   "source": [
    "df['VaderScore'] = pd.DataFrame(results)['compound']"
   ]
  },
  {
   "cell_type": "markdown",
   "metadata": {},
   "source": [
    "## Negative VaderScore indicates overall negative sentiment on that day while Positive VaderScore indcates overall positive sentiment on that day."
   ]
  },
  {
   "cell_type": "code",
   "execution_count": 8,
   "metadata": {},
   "outputs": [
    {
     "data": {
      "text/html": [
       "<div>\n",
       "<style scoped>\n",
       "    .dataframe tbody tr th:only-of-type {\n",
       "        vertical-align: middle;\n",
       "    }\n",
       "\n",
       "    .dataframe tbody tr th {\n",
       "        vertical-align: top;\n",
       "    }\n",
       "\n",
       "    .dataframe thead th {\n",
       "        text-align: right;\n",
       "    }\n",
       "</style>\n",
       "<table border=\"1\" class=\"dataframe\">\n",
       "  <thead>\n",
       "    <tr style=\"text-align: right;\">\n",
       "      <th></th>\n",
       "      <th>Date</th>\n",
       "      <th>upordown</th>\n",
       "      <th>all25</th>\n",
       "      <th>VaderScore</th>\n",
       "    </tr>\n",
       "  </thead>\n",
       "  <tbody>\n",
       "    <tr>\n",
       "      <th>0</th>\n",
       "      <td>2008-08-08</td>\n",
       "      <td>0.0</td>\n",
       "      <td>0,b\"georgia 'downs two russian warplanes' as c...</td>\n",
       "      <td>-0.9966</td>\n",
       "    </tr>\n",
       "    <tr>\n",
       "      <th>1</th>\n",
       "      <td>2008-08-11</td>\n",
       "      <td>0.0</td>\n",
       "      <td>1,b'why wont america and nato help us? if they...</td>\n",
       "      <td>-0.9075</td>\n",
       "    </tr>\n",
       "    <tr>\n",
       "      <th>2</th>\n",
       "      <td>2008-08-12</td>\n",
       "      <td>1.0</td>\n",
       "      <td>0,b'remember that adorable 9-year-old who sang...</td>\n",
       "      <td>-0.9739</td>\n",
       "    </tr>\n",
       "    <tr>\n",
       "      <th>3</th>\n",
       "      <td>2008-08-13</td>\n",
       "      <td>0.0</td>\n",
       "      <td>0,b' u.s. refuses israel weapons to attack ira...</td>\n",
       "      <td>-0.9842</td>\n",
       "    </tr>\n",
       "    <tr>\n",
       "      <th>4</th>\n",
       "      <td>2008-08-14</td>\n",
       "      <td>0.0</td>\n",
       "      <td>1,b'all the experts admit that we should legal...</td>\n",
       "      <td>-0.9774</td>\n",
       "    </tr>\n",
       "  </tbody>\n",
       "</table>\n",
       "</div>"
      ],
      "text/plain": [
       "         Date  upordown                                              all25  \\\n",
       "0  2008-08-08       0.0  0,b\"georgia 'downs two russian warplanes' as c...   \n",
       "1  2008-08-11       0.0  1,b'why wont america and nato help us? if they...   \n",
       "2  2008-08-12       1.0  0,b'remember that adorable 9-year-old who sang...   \n",
       "3  2008-08-13       0.0  0,b' u.s. refuses israel weapons to attack ira...   \n",
       "4  2008-08-14       0.0  1,b'all the experts admit that we should legal...   \n",
       "\n",
       "   VaderScore  \n",
       "0     -0.9966  \n",
       "1     -0.9075  \n",
       "2     -0.9739  \n",
       "3     -0.9842  \n",
       "4     -0.9774  "
      ]
     },
     "execution_count": 8,
     "metadata": {},
     "output_type": "execute_result"
    }
   ],
   "source": [
    "df.head() "
   ]
  },
  {
   "cell_type": "markdown",
   "metadata": {},
   "source": [
    "### Create another column Vader Sentiment and compare to 'upordown' column"
   ]
  },
  {
   "cell_type": "code",
   "execution_count": 9,
   "metadata": {},
   "outputs": [
    {
     "name": "stderr",
     "output_type": "stream",
     "text": [
      "C:\\Users\\PC\\anaconda3\\lib\\site-packages\\ipykernel_launcher.py:1: SettingWithCopyWarning: \n",
      "A value is trying to be set on a copy of a slice from a DataFrame.\n",
      "Try using .loc[row_indexer,col_indexer] = value instead\n",
      "\n",
      "See the caveats in the documentation: https://pandas.pydata.org/pandas-docs/stable/user_guide/indexing.html#returning-a-view-versus-a-copy\n",
      "  \"\"\"Entry point for launching an IPython kernel.\n",
      "C:\\Users\\PC\\anaconda3\\lib\\site-packages\\ipykernel_launcher.py:3: SettingWithCopyWarning: \n",
      "A value is trying to be set on a copy of a slice from a DataFrame.\n",
      "Try using .loc[row_indexer,col_indexer] = value instead\n",
      "\n",
      "See the caveats in the documentation: https://pandas.pydata.org/pandas-docs/stable/user_guide/indexing.html#returning-a-view-versus-a-copy\n",
      "  This is separate from the ipykernel package so we can avoid doing imports until\n",
      "C:\\Users\\PC\\anaconda3\\lib\\site-packages\\ipykernel_launcher.py:5: SettingWithCopyWarning: \n",
      "A value is trying to be set on a copy of a slice from a DataFrame.\n",
      "Try using .loc[row_indexer,col_indexer] = value instead\n",
      "\n",
      "See the caveats in the documentation: https://pandas.pydata.org/pandas-docs/stable/user_guide/indexing.html#returning-a-view-versus-a-copy\n",
      "  \"\"\"\n",
      "C:\\Users\\PC\\anaconda3\\lib\\site-packages\\ipykernel_launcher.py:7: SettingWithCopyWarning: \n",
      "A value is trying to be set on a copy of a slice from a DataFrame.\n",
      "Try using .loc[row_indexer,col_indexer] = value instead\n",
      "\n",
      "See the caveats in the documentation: https://pandas.pydata.org/pandas-docs/stable/user_guide/indexing.html#returning-a-view-versus-a-copy\n",
      "  import sys\n"
     ]
    }
   ],
   "source": [
    "df['Vadersentimentscore'] = df['VaderScore']\n",
    "#Assign value 0 if Vader Score is more than 1 \n",
    "df['Vadersentimentscore'] = np.where(df['VaderScore'] > 0,0, df['Vadersentimentscore'])\n",
    "#Assign value 1 if Vader Score is equal to 0.\n",
    "df['Vadersentimentscore'] = np.where(df['VaderScore'] == 0 ,1, df['Vadersentimentscore'])\n",
    "#Assign value 1 if Vader Score is less than 0.\n",
    "df['Vadersentimentscore'] = np.where(df['VaderScore'] < 0,1, df['Vadersentimentscore'])"
   ]
  },
  {
   "cell_type": "code",
   "execution_count": 10,
   "metadata": {},
   "outputs": [
    {
     "data": {
      "text/html": [
       "<div>\n",
       "<style scoped>\n",
       "    .dataframe tbody tr th:only-of-type {\n",
       "        vertical-align: middle;\n",
       "    }\n",
       "\n",
       "    .dataframe tbody tr th {\n",
       "        vertical-align: top;\n",
       "    }\n",
       "\n",
       "    .dataframe thead th {\n",
       "        text-align: right;\n",
       "    }\n",
       "</style>\n",
       "<table border=\"1\" class=\"dataframe\">\n",
       "  <thead>\n",
       "    <tr style=\"text-align: right;\">\n",
       "      <th></th>\n",
       "      <th>Date</th>\n",
       "      <th>upordown</th>\n",
       "      <th>all25</th>\n",
       "      <th>VaderScore</th>\n",
       "      <th>Vadersentimentscore</th>\n",
       "    </tr>\n",
       "  </thead>\n",
       "  <tbody>\n",
       "    <tr>\n",
       "      <th>0</th>\n",
       "      <td>2008-08-08</td>\n",
       "      <td>0.0</td>\n",
       "      <td>0,b\"georgia 'downs two russian warplanes' as c...</td>\n",
       "      <td>-0.9966</td>\n",
       "      <td>1.0</td>\n",
       "    </tr>\n",
       "    <tr>\n",
       "      <th>1</th>\n",
       "      <td>2008-08-11</td>\n",
       "      <td>0.0</td>\n",
       "      <td>1,b'why wont america and nato help us? if they...</td>\n",
       "      <td>-0.9075</td>\n",
       "      <td>1.0</td>\n",
       "    </tr>\n",
       "    <tr>\n",
       "      <th>2</th>\n",
       "      <td>2008-08-12</td>\n",
       "      <td>1.0</td>\n",
       "      <td>0,b'remember that adorable 9-year-old who sang...</td>\n",
       "      <td>-0.9739</td>\n",
       "      <td>1.0</td>\n",
       "    </tr>\n",
       "    <tr>\n",
       "      <th>3</th>\n",
       "      <td>2008-08-13</td>\n",
       "      <td>0.0</td>\n",
       "      <td>0,b' u.s. refuses israel weapons to attack ira...</td>\n",
       "      <td>-0.9842</td>\n",
       "      <td>1.0</td>\n",
       "    </tr>\n",
       "    <tr>\n",
       "      <th>4</th>\n",
       "      <td>2008-08-14</td>\n",
       "      <td>0.0</td>\n",
       "      <td>1,b'all the experts admit that we should legal...</td>\n",
       "      <td>-0.9774</td>\n",
       "      <td>1.0</td>\n",
       "    </tr>\n",
       "  </tbody>\n",
       "</table>\n",
       "</div>"
      ],
      "text/plain": [
       "         Date  upordown                                              all25  \\\n",
       "0  2008-08-08       0.0  0,b\"georgia 'downs two russian warplanes' as c...   \n",
       "1  2008-08-11       0.0  1,b'why wont america and nato help us? if they...   \n",
       "2  2008-08-12       1.0  0,b'remember that adorable 9-year-old who sang...   \n",
       "3  2008-08-13       0.0  0,b' u.s. refuses israel weapons to attack ira...   \n",
       "4  2008-08-14       0.0  1,b'all the experts admit that we should legal...   \n",
       "\n",
       "   VaderScore  Vadersentimentscore  \n",
       "0     -0.9966                  1.0  \n",
       "1     -0.9075                  1.0  \n",
       "2     -0.9739                  1.0  \n",
       "3     -0.9842                  1.0  \n",
       "4     -0.9774                  1.0  "
      ]
     },
     "execution_count": 10,
     "metadata": {},
     "output_type": "execute_result"
    }
   ],
   "source": [
    "df.head()"
   ]
  },
  {
   "cell_type": "markdown",
   "metadata": {},
   "source": [
    "## ACCURACY SCORE FOR VADER SENTIMENT ANLAYSIS"
   ]
  },
  {
   "cell_type": "code",
   "execution_count": 11,
   "metadata": {},
   "outputs": [
    {
     "data": {
      "text/plain": [
       "0.39819004524886875"
      ]
     },
     "execution_count": 11,
     "metadata": {},
     "output_type": "execute_result"
    }
   ],
   "source": [
    "vaderacc = accuracy_score(df['upordown'], df['Vadersentimentscore'])\n",
    "vaderacc #39% accuracy for Vader "
   ]
  },
  {
   "cell_type": "code",
   "execution_count": 12,
   "metadata": {},
   "outputs": [
    {
     "data": {
      "text/plain": [
       "0.24350903253953143"
      ]
     },
     "execution_count": 12,
     "metadata": {},
     "output_type": "execute_result"
    }
   ],
   "source": [
    "# F1 score for vader sentiment analysis \n",
    "vaderf1 = f1_score(df['upordown'], df['Vadersentimentscore'], average='weighted')\n",
    "vaderf1"
   ]
  },
  {
   "cell_type": "markdown",
   "metadata": {},
   "source": [
    "# TextBlob"
   ]
  },
  {
   "cell_type": "markdown",
   "metadata": {},
   "source": [
    "For TextBlob : \n",
    "\n",
    "TextBlob is a python library that is built on top of NLTK. It is easy to use and offers a simple API to access its methods and perform basic NLP tasks such as rules-based sentiment scores.\n",
    "\n",
    "\n",
    "\n",
    "Polarity    indicates  positive sentiment (+1)       or negative sentiment (-1)  "
   ]
  },
  {
   "cell_type": "code",
   "execution_count": 13,
   "metadata": {},
   "outputs": [
    {
     "name": "stderr",
     "output_type": "stream",
     "text": [
      "C:\\Users\\PC\\anaconda3\\lib\\site-packages\\ipykernel_launcher.py:2: SettingWithCopyWarning: \n",
      "A value is trying to be set on a copy of a slice from a DataFrame.\n",
      "Try using .loc[row_indexer,col_indexer] = value instead\n",
      "\n",
      "See the caveats in the documentation: https://pandas.pydata.org/pandas-docs/stable/user_guide/indexing.html#returning-a-view-versus-a-copy\n",
      "  \n"
     ]
    }
   ],
   "source": [
    "pol = lambda x : TextBlob(x).sentiment.polarity\n",
    "df['textblobpol']  = df['all25'].apply(pol)"
   ]
  },
  {
   "cell_type": "code",
   "execution_count": 14,
   "metadata": {},
   "outputs": [
    {
     "data": {
      "text/html": [
       "<div>\n",
       "<style scoped>\n",
       "    .dataframe tbody tr th:only-of-type {\n",
       "        vertical-align: middle;\n",
       "    }\n",
       "\n",
       "    .dataframe tbody tr th {\n",
       "        vertical-align: top;\n",
       "    }\n",
       "\n",
       "    .dataframe thead th {\n",
       "        text-align: right;\n",
       "    }\n",
       "</style>\n",
       "<table border=\"1\" class=\"dataframe\">\n",
       "  <thead>\n",
       "    <tr style=\"text-align: right;\">\n",
       "      <th></th>\n",
       "      <th>Date</th>\n",
       "      <th>upordown</th>\n",
       "      <th>all25</th>\n",
       "      <th>VaderScore</th>\n",
       "      <th>Vadersentimentscore</th>\n",
       "      <th>textblobpol</th>\n",
       "    </tr>\n",
       "  </thead>\n",
       "  <tbody>\n",
       "    <tr>\n",
       "      <th>0</th>\n",
       "      <td>2008-08-08</td>\n",
       "      <td>0.0</td>\n",
       "      <td>0,b\"georgia 'downs two russian warplanes' as c...</td>\n",
       "      <td>-0.9966</td>\n",
       "      <td>1.0</td>\n",
       "      <td>-0.048568</td>\n",
       "    </tr>\n",
       "    <tr>\n",
       "      <th>1</th>\n",
       "      <td>2008-08-11</td>\n",
       "      <td>0.0</td>\n",
       "      <td>1,b'why wont america and nato help us? if they...</td>\n",
       "      <td>-0.9075</td>\n",
       "      <td>1.0</td>\n",
       "      <td>0.121956</td>\n",
       "    </tr>\n",
       "    <tr>\n",
       "      <th>2</th>\n",
       "      <td>2008-08-12</td>\n",
       "      <td>1.0</td>\n",
       "      <td>0,b'remember that adorable 9-year-old who sang...</td>\n",
       "      <td>-0.9739</td>\n",
       "      <td>1.0</td>\n",
       "      <td>-0.046530</td>\n",
       "    </tr>\n",
       "    <tr>\n",
       "      <th>3</th>\n",
       "      <td>2008-08-13</td>\n",
       "      <td>0.0</td>\n",
       "      <td>0,b' u.s. refuses israel weapons to attack ira...</td>\n",
       "      <td>-0.9842</td>\n",
       "      <td>1.0</td>\n",
       "      <td>0.011398</td>\n",
       "    </tr>\n",
       "    <tr>\n",
       "      <th>4</th>\n",
       "      <td>2008-08-14</td>\n",
       "      <td>0.0</td>\n",
       "      <td>1,b'all the experts admit that we should legal...</td>\n",
       "      <td>-0.9774</td>\n",
       "      <td>1.0</td>\n",
       "      <td>0.040677</td>\n",
       "    </tr>\n",
       "  </tbody>\n",
       "</table>\n",
       "</div>"
      ],
      "text/plain": [
       "         Date  upordown                                              all25  \\\n",
       "0  2008-08-08       0.0  0,b\"georgia 'downs two russian warplanes' as c...   \n",
       "1  2008-08-11       0.0  1,b'why wont america and nato help us? if they...   \n",
       "2  2008-08-12       1.0  0,b'remember that adorable 9-year-old who sang...   \n",
       "3  2008-08-13       0.0  0,b' u.s. refuses israel weapons to attack ira...   \n",
       "4  2008-08-14       0.0  1,b'all the experts admit that we should legal...   \n",
       "\n",
       "   VaderScore  Vadersentimentscore  textblobpol  \n",
       "0     -0.9966                  1.0    -0.048568  \n",
       "1     -0.9075                  1.0     0.121956  \n",
       "2     -0.9739                  1.0    -0.046530  \n",
       "3     -0.9842                  1.0     0.011398  \n",
       "4     -0.9774                  1.0     0.040677  "
      ]
     },
     "execution_count": 14,
     "metadata": {},
     "output_type": "execute_result"
    }
   ],
   "source": [
    "df.head()"
   ]
  },
  {
   "cell_type": "code",
   "execution_count": 15,
   "metadata": {},
   "outputs": [
    {
     "name": "stderr",
     "output_type": "stream",
     "text": [
      "C:\\Users\\PC\\anaconda3\\lib\\site-packages\\ipykernel_launcher.py:2: SettingWithCopyWarning: \n",
      "A value is trying to be set on a copy of a slice from a DataFrame.\n",
      "Try using .loc[row_indexer,col_indexer] = value instead\n",
      "\n",
      "See the caveats in the documentation: https://pandas.pydata.org/pandas-docs/stable/user_guide/indexing.html#returning-a-view-versus-a-copy\n",
      "  \n",
      "C:\\Users\\PC\\anaconda3\\lib\\site-packages\\ipykernel_launcher.py:4: SettingWithCopyWarning: \n",
      "A value is trying to be set on a copy of a slice from a DataFrame.\n",
      "Try using .loc[row_indexer,col_indexer] = value instead\n",
      "\n",
      "See the caveats in the documentation: https://pandas.pydata.org/pandas-docs/stable/user_guide/indexing.html#returning-a-view-versus-a-copy\n",
      "  after removing the cwd from sys.path.\n",
      "C:\\Users\\PC\\anaconda3\\lib\\site-packages\\ipykernel_launcher.py:6: SettingWithCopyWarning: \n",
      "A value is trying to be set on a copy of a slice from a DataFrame.\n",
      "Try using .loc[row_indexer,col_indexer] = value instead\n",
      "\n",
      "See the caveats in the documentation: https://pandas.pydata.org/pandas-docs/stable/user_guide/indexing.html#returning-a-view-versus-a-copy\n",
      "  \n",
      "C:\\Users\\PC\\anaconda3\\lib\\site-packages\\ipykernel_launcher.py:8: SettingWithCopyWarning: \n",
      "A value is trying to be set on a copy of a slice from a DataFrame.\n",
      "Try using .loc[row_indexer,col_indexer] = value instead\n",
      "\n",
      "See the caveats in the documentation: https://pandas.pydata.org/pandas-docs/stable/user_guide/indexing.html#returning-a-view-versus-a-copy\n",
      "  \n"
     ]
    }
   ],
   "source": [
    "#Create new column textblobpolscore to compare against upordown\n",
    "df['textblobpolscore'] = df['textblobpol']\n",
    "#Assign value 0 if Vader Score is more than 1 \n",
    "df['textblobpolscore'] = np.where(df['textblobpol'] > 0,0, df['textblobpolscore'])\n",
    "#Assign value 1 if Vader Score is equal to 0.\n",
    "df['textblobpolscore'] = np.where(df['textblobpol'] == 0 ,1, df['textblobpolscore'])\n",
    "#Assign value 1 if Vader Score is less than 0.\n",
    "df['textblobpolscore'] = np.where(df['textblobpol'] < 0,1, df['textblobpolscore'])"
   ]
  },
  {
   "cell_type": "code",
   "execution_count": 16,
   "metadata": {},
   "outputs": [
    {
     "data": {
      "text/html": [
       "<div>\n",
       "<style scoped>\n",
       "    .dataframe tbody tr th:only-of-type {\n",
       "        vertical-align: middle;\n",
       "    }\n",
       "\n",
       "    .dataframe tbody tr th {\n",
       "        vertical-align: top;\n",
       "    }\n",
       "\n",
       "    .dataframe thead th {\n",
       "        text-align: right;\n",
       "    }\n",
       "</style>\n",
       "<table border=\"1\" class=\"dataframe\">\n",
       "  <thead>\n",
       "    <tr style=\"text-align: right;\">\n",
       "      <th></th>\n",
       "      <th>Date</th>\n",
       "      <th>upordown</th>\n",
       "      <th>all25</th>\n",
       "      <th>VaderScore</th>\n",
       "      <th>Vadersentimentscore</th>\n",
       "      <th>textblobpol</th>\n",
       "      <th>textblobpolscore</th>\n",
       "    </tr>\n",
       "  </thead>\n",
       "  <tbody>\n",
       "    <tr>\n",
       "      <th>0</th>\n",
       "      <td>2008-08-08</td>\n",
       "      <td>0.0</td>\n",
       "      <td>0,b\"georgia 'downs two russian warplanes' as c...</td>\n",
       "      <td>-0.9966</td>\n",
       "      <td>1.0</td>\n",
       "      <td>-0.048568</td>\n",
       "      <td>1.0</td>\n",
       "    </tr>\n",
       "    <tr>\n",
       "      <th>1</th>\n",
       "      <td>2008-08-11</td>\n",
       "      <td>0.0</td>\n",
       "      <td>1,b'why wont america and nato help us? if they...</td>\n",
       "      <td>-0.9075</td>\n",
       "      <td>1.0</td>\n",
       "      <td>0.121956</td>\n",
       "      <td>0.0</td>\n",
       "    </tr>\n",
       "    <tr>\n",
       "      <th>2</th>\n",
       "      <td>2008-08-12</td>\n",
       "      <td>1.0</td>\n",
       "      <td>0,b'remember that adorable 9-year-old who sang...</td>\n",
       "      <td>-0.9739</td>\n",
       "      <td>1.0</td>\n",
       "      <td>-0.046530</td>\n",
       "      <td>1.0</td>\n",
       "    </tr>\n",
       "    <tr>\n",
       "      <th>3</th>\n",
       "      <td>2008-08-13</td>\n",
       "      <td>0.0</td>\n",
       "      <td>0,b' u.s. refuses israel weapons to attack ira...</td>\n",
       "      <td>-0.9842</td>\n",
       "      <td>1.0</td>\n",
       "      <td>0.011398</td>\n",
       "      <td>0.0</td>\n",
       "    </tr>\n",
       "    <tr>\n",
       "      <th>4</th>\n",
       "      <td>2008-08-14</td>\n",
       "      <td>0.0</td>\n",
       "      <td>1,b'all the experts admit that we should legal...</td>\n",
       "      <td>-0.9774</td>\n",
       "      <td>1.0</td>\n",
       "      <td>0.040677</td>\n",
       "      <td>0.0</td>\n",
       "    </tr>\n",
       "  </tbody>\n",
       "</table>\n",
       "</div>"
      ],
      "text/plain": [
       "         Date  upordown                                              all25  \\\n",
       "0  2008-08-08       0.0  0,b\"georgia 'downs two russian warplanes' as c...   \n",
       "1  2008-08-11       0.0  1,b'why wont america and nato help us? if they...   \n",
       "2  2008-08-12       1.0  0,b'remember that adorable 9-year-old who sang...   \n",
       "3  2008-08-13       0.0  0,b' u.s. refuses israel weapons to attack ira...   \n",
       "4  2008-08-14       0.0  1,b'all the experts admit that we should legal...   \n",
       "\n",
       "   VaderScore  Vadersentimentscore  textblobpol  textblobpolscore  \n",
       "0     -0.9966                  1.0    -0.048568               1.0  \n",
       "1     -0.9075                  1.0     0.121956               0.0  \n",
       "2     -0.9739                  1.0    -0.046530               1.0  \n",
       "3     -0.9842                  1.0     0.011398               0.0  \n",
       "4     -0.9774                  1.0     0.040677               0.0  "
      ]
     },
     "execution_count": 16,
     "metadata": {},
     "output_type": "execute_result"
    }
   ],
   "source": [
    "df.head()"
   ]
  },
  {
   "cell_type": "code",
   "execution_count": 17,
   "metadata": {},
   "outputs": [
    {
     "data": {
      "text/plain": [
       "0.5349421820010055"
      ]
     },
     "execution_count": 17,
     "metadata": {},
     "output_type": "execute_result"
    }
   ],
   "source": [
    "#compare the score between upordown to textblob\n",
    "#53% of textblobpolscore matches upordown.\n",
    "textblobacc = accuracy_score(df['upordown'], df['textblobpolscore'])\n",
    "textblobacc #53% accuracy for Textblob "
   ]
  },
  {
   "cell_type": "code",
   "execution_count": 18,
   "metadata": {},
   "outputs": [
    {
     "data": {
      "text/plain": [
       "0.5244319997460022"
      ]
     },
     "execution_count": 18,
     "metadata": {},
     "output_type": "execute_result"
    }
   ],
   "source": [
    "#to calculate f1 score for textblob\n",
    "textblobf1 = f1_score(df['upordown'], df['textblobpolscore'], average='weighted')\n",
    "textblobf1"
   ]
  },
  {
   "cell_type": "markdown",
   "metadata": {},
   "source": [
    "# Lets check on positive accuracy and negative accuracy for TextBlob and Vader"
   ]
  },
  {
   "cell_type": "code",
   "execution_count": 19,
   "metadata": {},
   "outputs": [
    {
     "name": "stdout",
     "output_type": "stream",
     "text": [
      "Total positive counts : 788\n",
      "Total negative counts : 1201\n"
     ]
    }
   ],
   "source": [
    "#Count the number of real positive and negatives counts on upordown column\n",
    "#total value 1.0 in upordown #positive counts\n",
    "totalpositivecounts = list(df['upordown']).count(1.0)\n",
    "print(\"Total positive counts :\",totalpositivecounts)\n",
    "#total value 1.0 in upordown #negative counts\n",
    "totalnegativecounts = list(df['upordown']).count(0.0)\n",
    "print(\"Total negative counts :\",totalnegativecounts)"
   ]
  },
  {
   "cell_type": "markdown",
   "metadata": {},
   "source": [
    "### Positive Accuracy and Negative Accuracy Counts for Vader"
   ]
  },
  {
   "cell_type": "code",
   "execution_count": 20,
   "metadata": {},
   "outputs": [
    {
     "data": {
      "text/plain": [
       "771"
      ]
     },
     "execution_count": 20,
     "metadata": {},
     "output_type": "execute_result"
    }
   ],
   "source": [
    "#count the number of predicted positive correct count for Vader\n",
    "vaderppc = df[(df.Vadersentimentscore == 1.0) & (df.upordown == 1.0)].count() #771 counts\n",
    "vaderppc['VaderScore']"
   ]
  },
  {
   "cell_type": "code",
   "execution_count": 21,
   "metadata": {},
   "outputs": [
    {
     "data": {
      "text/plain": [
       "0.9784263959390863"
      ]
     },
     "execution_count": 21,
     "metadata": {},
     "output_type": "execute_result"
    }
   ],
   "source": [
    "#Vader positive accuracy score (Sensitivity  - true positive rate)\n",
    "vaderpositiveaccuracy =  vaderppc['VaderScore']/totalpositivecounts #97%\n",
    "vaderpositiveaccuracy"
   ]
  },
  {
   "cell_type": "code",
   "execution_count": 22,
   "metadata": {},
   "outputs": [
    {
     "data": {
      "text/plain": [
       "21"
      ]
     },
     "execution_count": 22,
     "metadata": {},
     "output_type": "execute_result"
    }
   ],
   "source": [
    "#count the number of predicted negative correct count for Vader\n",
    "vaderpnc = df[(df.Vadersentimentscore == 0.0) & (df.upordown == 0.0)].count() #21 counts\n",
    "vaderpnc['VaderScore']"
   ]
  },
  {
   "cell_type": "code",
   "execution_count": 23,
   "metadata": {},
   "outputs": [
    {
     "data": {
      "text/plain": [
       "0.017485428809325562"
      ]
     },
     "execution_count": 23,
     "metadata": {},
     "output_type": "execute_result"
    }
   ],
   "source": [
    "#Vader negative accuracy score (Specificity - true negative rate)\n",
    "vadernegativeaccuracy = vaderpnc['VaderScore'] /totalnegativecounts #1.7%\n",
    "vadernegativeaccuracy"
   ]
  },
  {
   "cell_type": "markdown",
   "metadata": {},
   "source": [
    "### Positive Accuracy and Negative Accuracy Counts for TextBlob"
   ]
  },
  {
   "cell_type": "code",
   "execution_count": 24,
   "metadata": {},
   "outputs": [
    {
     "data": {
      "text/plain": [
       "252"
      ]
     },
     "execution_count": 24,
     "metadata": {},
     "output_type": "execute_result"
    }
   ],
   "source": [
    "#count the number of predicted positive correct count for textblob  \n",
    "textblobppc = df[(df.textblobpolscore == 1.0) & (df.upordown == 1.0)].count()\n",
    "textblobppc['textblobpolscore']"
   ]
  },
  {
   "cell_type": "code",
   "execution_count": 25,
   "metadata": {},
   "outputs": [
    {
     "data": {
      "text/plain": [
       "0.3197969543147208"
      ]
     },
     "execution_count": 25,
     "metadata": {},
     "output_type": "execute_result"
    }
   ],
   "source": [
    "#textblob positive accuracy score  (Sensitivity  - true positive rate)\n",
    "textblobpositiveaccuracy =  textblobppc['textblobpolscore']/totalpositivecounts \n",
    "textblobpositiveaccuracy #31% accuracy "
   ]
  },
  {
   "cell_type": "code",
   "execution_count": 26,
   "metadata": {},
   "outputs": [
    {
     "data": {
      "text/plain": [
       "812"
      ]
     },
     "execution_count": 26,
     "metadata": {},
     "output_type": "execute_result"
    }
   ],
   "source": [
    "#count the number of predicted negative correct count for textblob \n",
    "textblobpnc = df[(df.textblobpolscore == 0.0) & (df.upordown == 0.0)].count() #814 counts \n",
    "textblobpnc['textblobpolscore']"
   ]
  },
  {
   "cell_type": "code",
   "execution_count": 27,
   "metadata": {},
   "outputs": [
    {
     "data": {
      "text/plain": [
       "0.6761032472939217"
      ]
     },
     "execution_count": 27,
     "metadata": {},
     "output_type": "execute_result"
    }
   ],
   "source": [
    "#textblob negative accuracy score  (Specificity - true negative rate)\n",
    "textblobnegativeaccuracy =  textblobpnc['textblobpolscore']/totalnegativecounts \n",
    "textblobnegativeaccuracy #67% accuracy "
   ]
  },
  {
   "cell_type": "markdown",
   "metadata": {},
   "source": [
    "Summary of Accuracy"
   ]
  },
  {
   "cell_type": "code",
   "execution_count": 28,
   "metadata": {},
   "outputs": [],
   "source": [
    "#settings the parameters of the dataframe\n",
    "\n",
    "#Model type\n",
    "Model               = ['Vader','TextBlob']\n",
    "#Dataset Accuracy Scores\n",
    "Accuracy            = [vaderacc,textblobacc]\n",
    "#Positive Accuracy Scores\n",
    "Sensitivity_true_positive_rate = [vaderpositiveaccuracy,textblobpositiveaccuracy]\n",
    "#Negative Accuracy Scores\n",
    "Specificity_true_negative_rate  = [vadernegativeaccuracy,textblobnegativeaccuracy]\n",
    "#F1 scores \n",
    "F1scores = [vaderf1,textblobf1]"
   ]
  },
  {
   "cell_type": "code",
   "execution_count": 29,
   "metadata": {},
   "outputs": [
    {
     "name": "stderr",
     "output_type": "stream",
     "text": [
      "C:\\Users\\PC\\anaconda3\\lib\\site-packages\\ipykernel_launcher.py:8: FutureWarning: Passing a negative integer is deprecated in version 1.0 and will not be supported in future version. Instead, use None to not limit the column width.\n",
      "  \n"
     ]
    },
    {
     "data": {
      "text/html": [
       "<div>\n",
       "<style scoped>\n",
       "    .dataframe tbody tr th:only-of-type {\n",
       "        vertical-align: middle;\n",
       "    }\n",
       "\n",
       "    .dataframe tbody tr th {\n",
       "        vertical-align: top;\n",
       "    }\n",
       "\n",
       "    .dataframe thead th {\n",
       "        text-align: right;\n",
       "    }\n",
       "</style>\n",
       "<table border=\"1\" class=\"dataframe\">\n",
       "  <thead>\n",
       "    <tr style=\"text-align: right;\">\n",
       "      <th></th>\n",
       "      <th>Model</th>\n",
       "      <th>Dataset Accuracy Scores</th>\n",
       "      <th>Sensitivity_true_positive_rate</th>\n",
       "      <th>Specificity_true negative rate</th>\n",
       "      <th>F1 scores</th>\n",
       "    </tr>\n",
       "  </thead>\n",
       "  <tbody>\n",
       "    <tr>\n",
       "      <th>0</th>\n",
       "      <td>Vader</td>\n",
       "      <td>0.398190</td>\n",
       "      <td>0.978426</td>\n",
       "      <td>0.017485</td>\n",
       "      <td>0.243509</td>\n",
       "    </tr>\n",
       "    <tr>\n",
       "      <th>1</th>\n",
       "      <td>TextBlob</td>\n",
       "      <td>0.534942</td>\n",
       "      <td>0.319797</td>\n",
       "      <td>0.676103</td>\n",
       "      <td>0.524432</td>\n",
       "    </tr>\n",
       "  </tbody>\n",
       "</table>\n",
       "</div>"
      ],
      "text/plain": [
       "      Model  Dataset Accuracy Scores  Sensitivity_true_positive_rate  \\\n",
       "0  Vader     0.398190                 0.978426                         \n",
       "1  TextBlob  0.534942                 0.319797                         \n",
       "\n",
       "   Specificity_true negative rate  F1 scores  \n",
       "0  0.017485                        0.243509   \n",
       "1  0.676103                        0.524432   "
      ]
     },
     "execution_count": 29,
     "metadata": {},
     "output_type": "execute_result"
    }
   ],
   "source": [
    "summary = pd.DataFrame(\n",
    "    {'Model'                           :  Model,\n",
    "     'Dataset Accuracy Scores'         :  Accuracy,\n",
    "     'Sensitivity_true_positive_rate'  :  Sensitivity_true_positive_rate,\n",
    "     'Specificity_true negative rate'  :  Specificity_true_negative_rate,\n",
    "     'F1 scores'                       :  F1scores})\n",
    "  \n",
    "pd.set_option('display.max_colwidth', -1)\n",
    "summary.sort_values('Dataset Accuracy Scores', ascending=False).reset_index(drop=True)\n",
    "summary"
   ]
  },
  {
   "cell_type": "markdown",
   "metadata": {},
   "source": [
    "# Conclusion "
   ]
  },
  {
   "cell_type": "markdown",
   "metadata": {},
   "source": [
    "Based on our findings,  we can see that vader score a accuracy of 39% overall and predicted 97% correctly when Vix prices goes up(value 1) and only able to predict 1.7% correctly when Vix goes down(value 0).\n",
    "\n",
    "On the other hand, we can see that Textblob predicted 31% correctly in the when VIX prices goes up and predicted 67% correctly when VIX goes down.\n",
    "\n",
    "By comparing F1 scores, we have decided to chose TextBlob as out model and that fact that it achieves a higher accuracy scores as well. "
   ]
  }
 ],
 "metadata": {
  "kernelspec": {
   "display_name": "Python 3",
   "language": "python",
   "name": "python3"
  },
  "language_info": {
   "codemirror_mode": {
    "name": "ipython",
    "version": 3
   },
   "file_extension": ".py",
   "mimetype": "text/x-python",
   "name": "python",
   "nbconvert_exporter": "python",
   "pygments_lexer": "ipython3",
   "version": "3.7.6"
  }
 },
 "nbformat": 4,
 "nbformat_minor": 4
}
