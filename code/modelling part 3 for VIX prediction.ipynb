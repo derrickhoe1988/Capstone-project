{
 "cells": [
  {
   "cell_type": "markdown",
   "metadata": {},
   "source": [
    "This portion of the notebook will be feature engineering."
   ]
  },
  {
   "cell_type": "code",
   "execution_count": 1,
   "metadata": {},
   "outputs": [
    {
     "name": "stderr",
     "output_type": "stream",
     "text": [
      "C:\\Users\\PC\\anaconda3\\lib\\site-packages\\pandas_datareader\\compat\\__init__.py:7: FutureWarning: pandas.util.testing is deprecated. Use the functions in the public API at pandas.testing instead.\n",
      "  from pandas.util.testing import assert_frame_equal\n",
      "Using TensorFlow backend.\n"
     ]
    }
   ],
   "source": [
    "# get some libraries that will be useful\n",
    "\n",
    "import re\n",
    "import numpy as np # linear algebra\n",
    "import pandas as pd\n",
    "import seaborn as sns\n",
    "import string\n",
    "import matplotlib.pyplot as plt\n",
    "import pandas_datareader as dr\n",
    "#To remove weekends from dataset\n",
    "from pandas.tseries.offsets import BDay\n",
    "\n",
    "# necessary libraries for wordcloud\n",
    "from wordcloud import WordCloud\n",
    "from wordcloud import STOPWORDS\n",
    "from PIL import Image\n",
    "\n",
    "# the Naive Bayes model\n",
    "from sklearn.naive_bayes import MultinomialNB\n",
    "# function to split the data for cross-validation\n",
    "from sklearn.model_selection import train_test_split\n",
    "# function for transforming documents into counts\n",
    "#words\n",
    "from nltk.corpus import stopwords\n",
    "from nltk.stem import PorterStemmer\n",
    "from sklearn.feature_extraction.text import CountVectorizer, HashingVectorizer, TfidfVectorizer\n",
    "from sklearn.pipeline import Pipeline\n",
    "\n",
    "# function for encoding categories\n",
    "from sklearn.preprocessing import LabelEncoder\n",
    "\n",
    "from sklearn.metrics import accuracy_score, classification_report, confusion_matrix\n",
    "from sklearn.model_selection import train_test_split, GridSearchCV\n",
    "\n",
    "from sklearn.feature_extraction.text import TfidfVectorizer,CountVectorizer\n",
    "from sklearn.ensemble import RandomForestClassifier, GradientBoostingClassifier\n",
    "from sklearn.linear_model import SGDClassifier, SGDRegressor,LogisticRegression\n",
    "#keras modeling\n",
    "from keras.preprocessing import sequence\n",
    "from keras.utils import np_utils\n",
    "from keras.layers.embeddings import Embedding\n",
    "from keras.layers.recurrent import LSTM, SimpleRNN, GRU\n",
    "from keras.layers.convolutional import Convolution1D\n",
    "from keras import backend as K\n",
    "from keras.preprocessing.text import Tokenizer\n",
    "from keras.models import Sequential\n",
    "from keras.layers import Dense, Dropout, Activation\n",
    "from keras.layers.convolutional import Conv1D\n",
    "from keras.layers.convolutional import MaxPooling1D\n",
    "from sklearn.metrics import confusion_matrix, classification_report, roc_curve, auc, roc_auc_score, accuracy_score\n",
    "\n",
    "%matplotlib inline"
   ]
  },
  {
   "cell_type": "code",
   "execution_count": 2,
   "metadata": {},
   "outputs": [],
   "source": [
    "# grab the data #we will first grab the news data set first\n",
    "combined_news = pd.read_csv(\"../data/final_dataframe.csv\")"
   ]
  },
  {
   "cell_type": "code",
   "execution_count": 3,
   "metadata": {},
   "outputs": [
    {
     "data": {
      "text/html": [
       "<div>\n",
       "<style scoped>\n",
       "    .dataframe tbody tr th:only-of-type {\n",
       "        vertical-align: middle;\n",
       "    }\n",
       "\n",
       "    .dataframe tbody tr th {\n",
       "        vertical-align: top;\n",
       "    }\n",
       "\n",
       "    .dataframe thead th {\n",
       "        text-align: right;\n",
       "    }\n",
       "</style>\n",
       "<table border=\"1\" class=\"dataframe\">\n",
       "  <thead>\n",
       "    <tr style=\"text-align: right;\">\n",
       "      <th></th>\n",
       "      <th>Date</th>\n",
       "      <th>Top1</th>\n",
       "      <th>Top2</th>\n",
       "      <th>Top3</th>\n",
       "      <th>Top4</th>\n",
       "      <th>Top5</th>\n",
       "      <th>Top6</th>\n",
       "      <th>Top7</th>\n",
       "      <th>Top8</th>\n",
       "      <th>Top9</th>\n",
       "      <th>...</th>\n",
       "      <th>Top17</th>\n",
       "      <th>Top18</th>\n",
       "      <th>Top19</th>\n",
       "      <th>Top20</th>\n",
       "      <th>Top21</th>\n",
       "      <th>Top22</th>\n",
       "      <th>Top23</th>\n",
       "      <th>Top24</th>\n",
       "      <th>Top25</th>\n",
       "      <th>upordown</th>\n",
       "    </tr>\n",
       "  </thead>\n",
       "  <tbody>\n",
       "    <tr>\n",
       "      <th>0</th>\n",
       "      <td>2008-08-08</td>\n",
       "      <td>b\"Georgia 'downs two Russian warplanes' as cou...</td>\n",
       "      <td>b'BREAKING: Musharraf to be impeached.'</td>\n",
       "      <td>b'Russia Today: Columns of troops roll into So...</td>\n",
       "      <td>b'Russian tanks are moving towards the capital...</td>\n",
       "      <td>b\"Afghan children raped with 'impunity,' U.N. ...</td>\n",
       "      <td>b'150 Russian tanks have entered South Ossetia...</td>\n",
       "      <td>b\"Breaking: Georgia invades South Ossetia, Rus...</td>\n",
       "      <td>b\"The 'enemy combatent' trials are nothing but...</td>\n",
       "      <td>b'Georgian troops retreat from S. Osettain cap...</td>\n",
       "      <td>...</td>\n",
       "      <td>b'Al-Qaeda Faces Islamist Backlash'</td>\n",
       "      <td>b'Condoleezza Rice: \"The US would not act to p...</td>\n",
       "      <td>b'This is a busy day:  The European Union has ...</td>\n",
       "      <td>b\"Georgia will withdraw 1,000 soldiers from Ir...</td>\n",
       "      <td>b'Why the Pentagon Thinks Attacking Iran is a ...</td>\n",
       "      <td>b'Caucasus in crisis: Georgia invades South Os...</td>\n",
       "      <td>b'Indian shoe manufactory  - And again in a se...</td>\n",
       "      <td>b'Visitors Suffering from Mental Illnesses Ban...</td>\n",
       "      <td>b\"No Help for Mexico's Kidnapping Surge\"</td>\n",
       "      <td>0.0</td>\n",
       "    </tr>\n",
       "    <tr>\n",
       "      <th>1</th>\n",
       "      <td>2008-08-11</td>\n",
       "      <td>b'Why wont America and Nato help us? If they w...</td>\n",
       "      <td>b'Bush puts foot down on Georgian conflict'</td>\n",
       "      <td>b\"Jewish Georgian minister: Thanks to Israeli ...</td>\n",
       "      <td>b'Georgian army flees in disarray as Russians ...</td>\n",
       "      <td>b\"Olympic opening ceremony fireworks 'faked'\"</td>\n",
       "      <td>b'What were the Mossad with fraudulent New Zea...</td>\n",
       "      <td>b'Russia angered by Israeli military sale to G...</td>\n",
       "      <td>b'An American citizen living in S.Ossetia blam...</td>\n",
       "      <td>b'Welcome To World War IV! Now In High Definit...</td>\n",
       "      <td>...</td>\n",
       "      <td>b'\"Do not believe TV, neither Russian nor Geor...</td>\n",
       "      <td>b'Riots are still going on in Montreal (Canada...</td>\n",
       "      <td>b'China to overtake US as largest manufacturer'</td>\n",
       "      <td>b'War in South Ossetia [PICS]'</td>\n",
       "      <td>b'Israeli Physicians Group Condemns State Tort...</td>\n",
       "      <td>b' Russia has just beaten the United States ov...</td>\n",
       "      <td>b'Perhaps *the* question about the Georgia - R...</td>\n",
       "      <td>b'Russia is so much better at war'</td>\n",
       "      <td>b\"So this is what it's come to: trading sex fo...</td>\n",
       "      <td>0.0</td>\n",
       "    </tr>\n",
       "    <tr>\n",
       "      <th>2</th>\n",
       "      <td>2008-08-12</td>\n",
       "      <td>b'Remember that adorable 9-year-old who sang a...</td>\n",
       "      <td>b\"Russia 'ends Georgia operation'\"</td>\n",
       "      <td>b'\"If we had no sexual harassment we would hav...</td>\n",
       "      <td>b\"Al-Qa'eda is losing support in Iraq because ...</td>\n",
       "      <td>b'Ceasefire in Georgia: Putin Outmaneuvers the...</td>\n",
       "      <td>b'Why Microsoft and Intel tried to kill the XO...</td>\n",
       "      <td>b'Stratfor: The Russo-Georgian War and the Bal...</td>\n",
       "      <td>b\"I'm Trying to Get a Sense of This Whole Geor...</td>\n",
       "      <td>b\"The US military was surprised by the timing ...</td>\n",
       "      <td>...</td>\n",
       "      <td>b'Why Russias response to Georgia was right'</td>\n",
       "      <td>b'Gorbachev accuses U.S. of making a \"serious ...</td>\n",
       "      <td>b'Russia, Georgia, and NATO: Cold War Two'</td>\n",
       "      <td>b'Remember that adorable 62-year-old who led y...</td>\n",
       "      <td>b'War in Georgia: The Israeli connection'</td>\n",
       "      <td>b'All signs point to the US encouraging Georgi...</td>\n",
       "      <td>b'Christopher King argues that the US and NATO...</td>\n",
       "      <td>b'America: The New Mexico?'</td>\n",
       "      <td>b\"BBC NEWS | Asia-Pacific | Extinction 'by man...</td>\n",
       "      <td>1.0</td>\n",
       "    </tr>\n",
       "    <tr>\n",
       "      <th>3</th>\n",
       "      <td>2008-08-13</td>\n",
       "      <td>b' U.S. refuses Israel weapons to attack Iran:...</td>\n",
       "      <td>b\"When the president ordered to attack Tskhinv...</td>\n",
       "      <td>b' Israel clears troops who killed Reuters cam...</td>\n",
       "      <td>b'Britain\\'s policy of being tough on drugs is...</td>\n",
       "      <td>b'Body of 14 year old found in trunk; Latest (...</td>\n",
       "      <td>b'China has moved 10 *million* quake survivors...</td>\n",
       "      <td>b\"Bush announces Operation Get All Up In Russi...</td>\n",
       "      <td>b'Russian forces sink Georgian ships '</td>\n",
       "      <td>b\"The commander of a Navy air reconnaissance s...</td>\n",
       "      <td>...</td>\n",
       "      <td>b'US humanitarian missions soon in Georgia - i...</td>\n",
       "      <td>b\"Georgia's DDOS came from US sources\"</td>\n",
       "      <td>b'Russian convoy heads into Georgia, violating...</td>\n",
       "      <td>b'Israeli defence minister: US against strike ...</td>\n",
       "      <td>b'Gorbachev: We Had No Choice'</td>\n",
       "      <td>b'Witness: Russian forces head towards Tbilisi...</td>\n",
       "      <td>b' Quarter of Russians blame U.S. for conflict...</td>\n",
       "      <td>b'Georgian president  says US military will ta...</td>\n",
       "      <td>b'2006: Nobel laureate Aleksander Solzhenitsyn...</td>\n",
       "      <td>0.0</td>\n",
       "    </tr>\n",
       "    <tr>\n",
       "      <th>4</th>\n",
       "      <td>2008-08-14</td>\n",
       "      <td>b'All the experts admit that we should legalis...</td>\n",
       "      <td>b'War in South Osetia - 89 pictures made by a ...</td>\n",
       "      <td>b'Swedish wrestler Ara Abrahamian throws away ...</td>\n",
       "      <td>b'Russia exaggerated the death toll in South O...</td>\n",
       "      <td>b'Missile That Killed 9 Inside Pakistan May Ha...</td>\n",
       "      <td>b\"Rushdie Condemns Random House's Refusal to P...</td>\n",
       "      <td>b'Poland and US agree to missle defense deal. ...</td>\n",
       "      <td>b'Will the Russians conquer Tblisi? Bet on it,...</td>\n",
       "      <td>b'Russia exaggerating South Ossetian death tol...</td>\n",
       "      <td>...</td>\n",
       "      <td>b\"Georgia confict could set back Russia's US r...</td>\n",
       "      <td>b'War in the Caucasus is as much the product o...</td>\n",
       "      <td>b'\"Non-media\" photos of South Ossetia/Georgia ...</td>\n",
       "      <td>b'Georgian TV reporter shot by Russian sniper ...</td>\n",
       "      <td>b'Saudi Arabia: Mother moves to block child ma...</td>\n",
       "      <td>b'Taliban wages war on humanitarian aid workers'</td>\n",
       "      <td>b'Russia: World  \"can forget about\" Georgia\\'s...</td>\n",
       "      <td>b'Darfur rebels accuse Sudan of mounting major...</td>\n",
       "      <td>b'Philippines : Peace Advocate say Muslims nee...</td>\n",
       "      <td>0.0</td>\n",
       "    </tr>\n",
       "  </tbody>\n",
       "</table>\n",
       "<p>5 rows × 27 columns</p>\n",
       "</div>"
      ],
      "text/plain": [
       "         Date                                               Top1  \\\n",
       "0  2008-08-08  b\"Georgia 'downs two Russian warplanes' as cou...   \n",
       "1  2008-08-11  b'Why wont America and Nato help us? If they w...   \n",
       "2  2008-08-12  b'Remember that adorable 9-year-old who sang a...   \n",
       "3  2008-08-13  b' U.S. refuses Israel weapons to attack Iran:...   \n",
       "4  2008-08-14  b'All the experts admit that we should legalis...   \n",
       "\n",
       "                                                Top2  \\\n",
       "0            b'BREAKING: Musharraf to be impeached.'   \n",
       "1        b'Bush puts foot down on Georgian conflict'   \n",
       "2                 b\"Russia 'ends Georgia operation'\"   \n",
       "3  b\"When the president ordered to attack Tskhinv...   \n",
       "4  b'War in South Osetia - 89 pictures made by a ...   \n",
       "\n",
       "                                                Top3  \\\n",
       "0  b'Russia Today: Columns of troops roll into So...   \n",
       "1  b\"Jewish Georgian minister: Thanks to Israeli ...   \n",
       "2  b'\"If we had no sexual harassment we would hav...   \n",
       "3  b' Israel clears troops who killed Reuters cam...   \n",
       "4  b'Swedish wrestler Ara Abrahamian throws away ...   \n",
       "\n",
       "                                                Top4  \\\n",
       "0  b'Russian tanks are moving towards the capital...   \n",
       "1  b'Georgian army flees in disarray as Russians ...   \n",
       "2  b\"Al-Qa'eda is losing support in Iraq because ...   \n",
       "3  b'Britain\\'s policy of being tough on drugs is...   \n",
       "4  b'Russia exaggerated the death toll in South O...   \n",
       "\n",
       "                                                Top5  \\\n",
       "0  b\"Afghan children raped with 'impunity,' U.N. ...   \n",
       "1      b\"Olympic opening ceremony fireworks 'faked'\"   \n",
       "2  b'Ceasefire in Georgia: Putin Outmaneuvers the...   \n",
       "3  b'Body of 14 year old found in trunk; Latest (...   \n",
       "4  b'Missile That Killed 9 Inside Pakistan May Ha...   \n",
       "\n",
       "                                                Top6  \\\n",
       "0  b'150 Russian tanks have entered South Ossetia...   \n",
       "1  b'What were the Mossad with fraudulent New Zea...   \n",
       "2  b'Why Microsoft and Intel tried to kill the XO...   \n",
       "3  b'China has moved 10 *million* quake survivors...   \n",
       "4  b\"Rushdie Condemns Random House's Refusal to P...   \n",
       "\n",
       "                                                Top7  \\\n",
       "0  b\"Breaking: Georgia invades South Ossetia, Rus...   \n",
       "1  b'Russia angered by Israeli military sale to G...   \n",
       "2  b'Stratfor: The Russo-Georgian War and the Bal...   \n",
       "3  b\"Bush announces Operation Get All Up In Russi...   \n",
       "4  b'Poland and US agree to missle defense deal. ...   \n",
       "\n",
       "                                                Top8  \\\n",
       "0  b\"The 'enemy combatent' trials are nothing but...   \n",
       "1  b'An American citizen living in S.Ossetia blam...   \n",
       "2  b\"I'm Trying to Get a Sense of This Whole Geor...   \n",
       "3             b'Russian forces sink Georgian ships '   \n",
       "4  b'Will the Russians conquer Tblisi? Bet on it,...   \n",
       "\n",
       "                                                Top9  ...  \\\n",
       "0  b'Georgian troops retreat from S. Osettain cap...  ...   \n",
       "1  b'Welcome To World War IV! Now In High Definit...  ...   \n",
       "2  b\"The US military was surprised by the timing ...  ...   \n",
       "3  b\"The commander of a Navy air reconnaissance s...  ...   \n",
       "4  b'Russia exaggerating South Ossetian death tol...  ...   \n",
       "\n",
       "                                               Top17  \\\n",
       "0                b'Al-Qaeda Faces Islamist Backlash'   \n",
       "1  b'\"Do not believe TV, neither Russian nor Geor...   \n",
       "2       b'Why Russias response to Georgia was right'   \n",
       "3  b'US humanitarian missions soon in Georgia - i...   \n",
       "4  b\"Georgia confict could set back Russia's US r...   \n",
       "\n",
       "                                               Top18  \\\n",
       "0  b'Condoleezza Rice: \"The US would not act to p...   \n",
       "1  b'Riots are still going on in Montreal (Canada...   \n",
       "2  b'Gorbachev accuses U.S. of making a \"serious ...   \n",
       "3             b\"Georgia's DDOS came from US sources\"   \n",
       "4  b'War in the Caucasus is as much the product o...   \n",
       "\n",
       "                                               Top19  \\\n",
       "0  b'This is a busy day:  The European Union has ...   \n",
       "1    b'China to overtake US as largest manufacturer'   \n",
       "2         b'Russia, Georgia, and NATO: Cold War Two'   \n",
       "3  b'Russian convoy heads into Georgia, violating...   \n",
       "4  b'\"Non-media\" photos of South Ossetia/Georgia ...   \n",
       "\n",
       "                                               Top20  \\\n",
       "0  b\"Georgia will withdraw 1,000 soldiers from Ir...   \n",
       "1                     b'War in South Ossetia [PICS]'   \n",
       "2  b'Remember that adorable 62-year-old who led y...   \n",
       "3  b'Israeli defence minister: US against strike ...   \n",
       "4  b'Georgian TV reporter shot by Russian sniper ...   \n",
       "\n",
       "                                               Top21  \\\n",
       "0  b'Why the Pentagon Thinks Attacking Iran is a ...   \n",
       "1  b'Israeli Physicians Group Condemns State Tort...   \n",
       "2          b'War in Georgia: The Israeli connection'   \n",
       "3                     b'Gorbachev: We Had No Choice'   \n",
       "4  b'Saudi Arabia: Mother moves to block child ma...   \n",
       "\n",
       "                                               Top22  \\\n",
       "0  b'Caucasus in crisis: Georgia invades South Os...   \n",
       "1  b' Russia has just beaten the United States ov...   \n",
       "2  b'All signs point to the US encouraging Georgi...   \n",
       "3  b'Witness: Russian forces head towards Tbilisi...   \n",
       "4   b'Taliban wages war on humanitarian aid workers'   \n",
       "\n",
       "                                               Top23  \\\n",
       "0  b'Indian shoe manufactory  - And again in a se...   \n",
       "1  b'Perhaps *the* question about the Georgia - R...   \n",
       "2  b'Christopher King argues that the US and NATO...   \n",
       "3  b' Quarter of Russians blame U.S. for conflict...   \n",
       "4  b'Russia: World  \"can forget about\" Georgia\\'s...   \n",
       "\n",
       "                                               Top24  \\\n",
       "0  b'Visitors Suffering from Mental Illnesses Ban...   \n",
       "1                 b'Russia is so much better at war'   \n",
       "2                        b'America: The New Mexico?'   \n",
       "3  b'Georgian president  says US military will ta...   \n",
       "4  b'Darfur rebels accuse Sudan of mounting major...   \n",
       "\n",
       "                                               Top25 upordown  \n",
       "0           b\"No Help for Mexico's Kidnapping Surge\"      0.0  \n",
       "1  b\"So this is what it's come to: trading sex fo...      0.0  \n",
       "2  b\"BBC NEWS | Asia-Pacific | Extinction 'by man...      1.0  \n",
       "3  b'2006: Nobel laureate Aleksander Solzhenitsyn...      0.0  \n",
       "4  b'Philippines : Peace Advocate say Muslims nee...      0.0  \n",
       "\n",
       "[5 rows x 27 columns]"
      ]
     },
     "execution_count": 3,
     "metadata": {},
     "output_type": "execute_result"
    }
   ],
   "source": [
    "combined_news.head()"
   ]
  },
  {
   "cell_type": "code",
   "execution_count": 4,
   "metadata": {},
   "outputs": [
    {
     "data": {
      "text/plain": [
       "0.0    0.603821\n",
       "1.0    0.396179\n",
       "Name: upordown, dtype: float64"
      ]
     },
     "execution_count": 4,
     "metadata": {},
     "output_type": "execute_result"
    }
   ],
   "source": [
    "#this is our Y variable.\n",
    "combined_news['upordown'].value_counts(normalize= True)"
   ]
  },
  {
   "cell_type": "markdown",
   "metadata": {},
   "source": [
    "### Baseline Accuracy\n",
    "Our baseline accuracy is 60%."
   ]
  },
  {
   "cell_type": "markdown",
   "metadata": {},
   "source": [
    "## Preprocessor function to clean the text \n",
    "\n",
    "The final iteration of cleaner(text) does the following:\n",
    "\n",
    "1. Grouping into stems\n",
    "2. Excluding stopwords\n",
    "3. Removing punctuation\n",
    "4. Removing digits\n",
    "5. Removing spaces\n",
    "\n",
    "### This function will be used as preprocessor on both CountVectorizer and TfidfVectorizer\n",
    "\n",
    "Some words share the same stem and can be combined in the next round of CountVectorize: file/files, game/games, http/https, imgur/imgur com, run/running, start/started, thing/things, tried/try/trying, use/used/using, windows/windows 10, work/working/works.\n",
    "\n",
    "We will use porter stemmer to clean the words "
   ]
  },
  {
   "cell_type": "code",
   "execution_count": 5,
   "metadata": {},
   "outputs": [],
   "source": [
    "def cleaner(text):\n",
    "    stemmer = PorterStemmer()                                          # groups words having the same stems\n",
    "    stop = stopwords.words('english')                                  # excludes stop words\n",
    "    text = text.replace('ps4', ' ')\n",
    "    text = text.replace('ps', ' ')\n",
    "    text = text.replace('game', ' ')\n",
    "    text = text.replace('xbox', ' ')\n",
    "    text = text.replace('xbox one', ' ')\n",
    "    text = text.translate(str.maketrans('', '', string.punctuation))   # removes punctuation\n",
    "    text = text.translate(str.maketrans('', '', string.digits))        # removes digits\n",
    "    text = text.lower().strip()                                        # removes spaces\n",
    "    final_text = []\n",
    "    for w in text.split():\n",
    "        if w not in stop:\n",
    "            final_text.append(stemmer.stem(w.strip()))\n",
    "    return ' '.join(final_text)"
   ]
  },
  {
   "cell_type": "code",
   "execution_count": 6,
   "metadata": {},
   "outputs": [],
   "source": [
    "#Lets split our dataframe first into training and test dataset.\n",
    "#train = combined_news[combined_news['Date'] < '2014-01-01'] #train data will consist from 2008 to 2014 (~4 years)\n",
    "#y_train =  train[\"upordown\"]\n",
    "#test = combined_news[combined_news['Date'] > '2013-12-31'] #test date will consist from 2013 to 2016 (~3years)\n",
    "#y_test =  train[\"upordown\"]\n",
    "\n",
    "X = combined_news\n",
    "y = combined_news['upordown']\n",
    "\n",
    "X_train, X_val, y_train, y_val = train_test_split(X, y, test_size=0.33,stratify = y, random_state=42)"
   ]
  },
  {
   "cell_type": "code",
   "execution_count": 7,
   "metadata": {},
   "outputs": [],
   "source": [
    "#to form a string for all top 25 of news headlines for X_train\n",
    "trainheadlines = []\n",
    "for row in range(0,len(X_train.index)):\n",
    "    trainheadlines.append(' '.join(str(x) for x in X_train.iloc[row,2:27]))"
   ]
  },
  {
   "cell_type": "markdown",
   "metadata": {},
   "source": [
    "# Let try Countvectorizer with Logistic Regression"
   ]
  },
  {
   "cell_type": "code",
   "execution_count": 68,
   "metadata": {},
   "outputs": [
    {
     "data": {
      "text/plain": [
       "<1332x104 sparse matrix of type '<class 'numpy.int64'>'\n",
       "\twith 7681 stored elements in Compressed Sparse Row format>"
      ]
     },
     "execution_count": 68,
     "metadata": {},
     "output_type": "execute_result"
    }
   ],
   "source": [
    "basicvectorizer = CountVectorizer(preprocessor=cleaner,  \n",
    "                                  min_df=0.03, \n",
    "                                  max_df=0.97, \n",
    "                                  max_features = 200000, \n",
    "                                  ngram_range = (2, 2))\n",
    "\n",
    "basictrain = basicvectorizer.fit_transform(trainheadlines)\n",
    "basictrain"
   ]
  },
  {
   "cell_type": "code",
   "execution_count": 9,
   "metadata": {},
   "outputs": [],
   "source": [
    "#Fitting the model\n",
    "basicmodel = LogisticRegression()\n",
    "basicmodel = basicmodel.fit(basictrain, y_train)"
   ]
  },
  {
   "cell_type": "code",
   "execution_count": 10,
   "metadata": {},
   "outputs": [
    {
     "name": "stdout",
     "output_type": "stream",
     "text": [
      "Training Accuracy Score:  0.6223723723723724\n"
     ]
    }
   ],
   "source": [
    "#Training Accuracy Score\n",
    "trainingacc1 = basicmodel.score(basictrain, y_train)\n",
    "print('Training Accuracy Score: ',trainingacc1 )"
   ]
  },
  {
   "cell_type": "code",
   "execution_count": 11,
   "metadata": {},
   "outputs": [
    {
     "data": {
      "text/plain": [
       "(657,)"
      ]
     },
     "execution_count": 11,
     "metadata": {},
     "output_type": "execute_result"
    }
   ],
   "source": [
    "#Create test headlines\n",
    "testheadlines = []\n",
    "\n",
    "for row in range(0,len(X_val.index)):\n",
    "    \n",
    "    testheadlines.append(' '.join(str(x) for x in X_val.iloc[row,2:27]))\n",
    "basictest = basicvectorizer.transform(testheadlines)\n",
    "preds1 = basicmodel.predict(basictest)\n",
    "preds1.shape"
   ]
  },
  {
   "cell_type": "code",
   "execution_count": 12,
   "metadata": {},
   "outputs": [
    {
     "name": "stdout",
     "output_type": "stream",
     "text": [
      "Logic Regression 1 accuracy:  0.563165905631659\n"
     ]
    }
   ],
   "source": [
    "#test accuracy score\n",
    "acc1=accuracy_score(y_val, preds1)\n",
    "print('Logic Regression 1 accuracy: ',acc1 )\n",
    "#our accuracy for test score is only 56%"
   ]
  },
  {
   "cell_type": "code",
   "execution_count": 13,
   "metadata": {},
   "outputs": [
    {
     "name": "stdout",
     "output_type": "stream",
     "text": [
      "ROC-AUC-score1 : 0.4971856229412904\n"
     ]
    }
   ],
   "source": [
    "# predict ROC-AUC score for testing data\n",
    "y_pred_test1 = basicmodel.predict(basictest)\n",
    "rocauc1 = roc_auc_score(y_val,y_pred_test1)\n",
    "print(\"ROC-AUC-score1 :\", rocauc1)"
   ]
  },
  {
   "cell_type": "code",
   "execution_count": 14,
   "metadata": {},
   "outputs": [
    {
     "data": {
      "text/html": [
       "<div>\n",
       "<style scoped>\n",
       "    .dataframe tbody tr th:only-of-type {\n",
       "        vertical-align: middle;\n",
       "    }\n",
       "\n",
       "    .dataframe tbody tr th {\n",
       "        vertical-align: top;\n",
       "    }\n",
       "\n",
       "    .dataframe thead th {\n",
       "        text-align: right;\n",
       "    }\n",
       "</style>\n",
       "<table border=\"1\" class=\"dataframe\">\n",
       "  <thead>\n",
       "    <tr style=\"text-align: right;\">\n",
       "      <th></th>\n",
       "      <th>Word</th>\n",
       "      <th>Coefficient</th>\n",
       "    </tr>\n",
       "  </thead>\n",
       "  <tbody>\n",
       "    <tr>\n",
       "      <th>3</th>\n",
       "      <td>around world</td>\n",
       "      <td>0.618227</td>\n",
       "    </tr>\n",
       "    <tr>\n",
       "      <th>39</th>\n",
       "      <td>least peopl</td>\n",
       "      <td>0.612526</td>\n",
       "    </tr>\n",
       "    <tr>\n",
       "      <th>69</th>\n",
       "      <td>sex abus</td>\n",
       "      <td>0.531059</td>\n",
       "    </tr>\n",
       "    <tr>\n",
       "      <th>42</th>\n",
       "      <td>new law</td>\n",
       "      <td>0.524573</td>\n",
       "    </tr>\n",
       "    <tr>\n",
       "      <th>51</th>\n",
       "      <td>offici said</td>\n",
       "      <td>0.450549</td>\n",
       "    </tr>\n",
       "  </tbody>\n",
       "</table>\n",
       "</div>"
      ],
      "text/plain": [
       "            Word  Coefficient\n",
       "3   around world     0.618227\n",
       "39   least peopl     0.612526\n",
       "69      sex abus     0.531059\n",
       "42       new law     0.524573\n",
       "51   offici said     0.450549"
      ]
     },
     "execution_count": 14,
     "metadata": {},
     "output_type": "execute_result"
    }
   ],
   "source": [
    "basicwords = basicvectorizer.get_feature_names()\n",
    "\n",
    "basiccoeffs = basicmodel.coef_.tolist()[0]\n",
    "\n",
    "coeffdf = pd.DataFrame({'Word' : basicwords, \n",
    "                        'Coefficient' : basiccoeffs})\n",
    "\n",
    "coeffdf = coeffdf.sort_values(['Coefficient', 'Word'], ascending=[0, 1])\n",
    "\n",
    "coeffdf.head(5) #these are words that contributes to the rise of VIX."
   ]
  },
  {
   "cell_type": "code",
   "execution_count": 15,
   "metadata": {},
   "outputs": [
    {
     "data": {
      "text/html": [
       "<div>\n",
       "<style scoped>\n",
       "    .dataframe tbody tr th:only-of-type {\n",
       "        vertical-align: middle;\n",
       "    }\n",
       "\n",
       "    .dataframe tbody tr th {\n",
       "        vertical-align: top;\n",
       "    }\n",
       "\n",
       "    .dataframe thead th {\n",
       "        text-align: right;\n",
       "    }\n",
       "</style>\n",
       "<table border=\"1\" class=\"dataframe\">\n",
       "  <thead>\n",
       "    <tr style=\"text-align: right;\">\n",
       "      <th></th>\n",
       "      <th>Word</th>\n",
       "      <th>Coefficient</th>\n",
       "    </tr>\n",
       "  </thead>\n",
       "  <tbody>\n",
       "    <tr>\n",
       "      <th>12</th>\n",
       "      <td>court rule</td>\n",
       "      <td>-0.402620</td>\n",
       "    </tr>\n",
       "    <tr>\n",
       "      <th>52</th>\n",
       "      <td>offici say</td>\n",
       "      <td>-0.405361</td>\n",
       "    </tr>\n",
       "    <tr>\n",
       "      <th>17</th>\n",
       "      <td>drug cartel</td>\n",
       "      <td>-0.583001</td>\n",
       "    </tr>\n",
       "    <tr>\n",
       "      <th>84</th>\n",
       "      <td>uk govern</td>\n",
       "      <td>-0.640962</td>\n",
       "    </tr>\n",
       "    <tr>\n",
       "      <th>30</th>\n",
       "      <td>intellig agenc</td>\n",
       "      <td>-0.726090</td>\n",
       "    </tr>\n",
       "  </tbody>\n",
       "</table>\n",
       "</div>"
      ],
      "text/plain": [
       "              Word  Coefficient\n",
       "12      court rule    -0.402620\n",
       "52      offici say    -0.405361\n",
       "17     drug cartel    -0.583001\n",
       "84       uk govern    -0.640962\n",
       "30  intellig agenc    -0.726090"
      ]
     },
     "execution_count": 15,
     "metadata": {},
     "output_type": "execute_result"
    }
   ],
   "source": [
    "coeffdf.tail(5) #these are words that contributes to the fall of VIX"
   ]
  },
  {
   "cell_type": "markdown",
   "metadata": {},
   "source": [
    "# Lets us try TFID with logistic Regression"
   ]
  },
  {
   "cell_type": "code",
   "execution_count": 16,
   "metadata": {},
   "outputs": [],
   "source": [
    "advancedvectorizer = TfidfVectorizer(preprocessor=cleaner, \n",
    "                                     min_df=0.03, \n",
    "                                     max_df=0.97, \n",
    "                                     max_features = 200000, \n",
    "                                     ngram_range = (1, 2))\n",
    "\n",
    "advancedtrain = advancedvectorizer.fit_transform(trainheadlines)"
   ]
  },
  {
   "cell_type": "code",
   "execution_count": 17,
   "metadata": {},
   "outputs": [],
   "source": [
    "advancedmodel = LogisticRegression()\n",
    "advancedmodel = advancedmodel.fit(advancedtrain, y_train)"
   ]
  },
  {
   "cell_type": "code",
   "execution_count": 18,
   "metadata": {},
   "outputs": [
    {
     "name": "stdout",
     "output_type": "stream",
     "text": [
      "Training Accuracy Score:  0.7545045045045045\n"
     ]
    }
   ],
   "source": [
    "#Training Accuracy Score\n",
    "trainingacc2 = advancedmodel.score(advancedtrain, y_train)\n",
    "print('Training Accuracy Score: ',trainingacc2)"
   ]
  },
  {
   "cell_type": "code",
   "execution_count": 19,
   "metadata": {},
   "outputs": [],
   "source": [
    "testheadlines = []\n",
    "for row in range(0,len(X_val.index)):\n",
    "    testheadlines.append(' '.join(str(x) for x in X_val.iloc[row,2:27]))\n",
    "advancedtest = advancedvectorizer.transform(testheadlines)\n",
    "preds2 = advancedmodel.predict(advancedtest)\n",
    "#Testing accuracy score\n",
    "acc2=accuracy_score(y_val, preds2)"
   ]
  },
  {
   "cell_type": "code",
   "execution_count": 20,
   "metadata": {},
   "outputs": [
    {
     "name": "stdout",
     "output_type": "stream",
     "text": [
      "Logic Regression 2 accuracy:  0.604261796042618\n"
     ]
    }
   ],
   "source": [
    "print('Logic Regression 2 accuracy: ', acc2) #60% accuracy"
   ]
  },
  {
   "cell_type": "code",
   "execution_count": 21,
   "metadata": {},
   "outputs": [
    {
     "data": {
      "text/html": [
       "<div>\n",
       "<style scoped>\n",
       "    .dataframe tbody tr th:only-of-type {\n",
       "        vertical-align: middle;\n",
       "    }\n",
       "\n",
       "    .dataframe tbody tr th {\n",
       "        vertical-align: top;\n",
       "    }\n",
       "\n",
       "    .dataframe thead th {\n",
       "        text-align: right;\n",
       "    }\n",
       "</style>\n",
       "<table border=\"1\" class=\"dataframe\">\n",
       "  <thead>\n",
       "    <tr style=\"text-align: right;\">\n",
       "      <th></th>\n",
       "      <th>Words</th>\n",
       "      <th>Coefficient</th>\n",
       "    </tr>\n",
       "  </thead>\n",
       "  <tbody>\n",
       "    <tr>\n",
       "      <th>69</th>\n",
       "      <td>amp</td>\n",
       "      <td>1.110758</td>\n",
       "    </tr>\n",
       "    <tr>\n",
       "      <th>1077</th>\n",
       "      <td>norway</td>\n",
       "      <td>1.100748</td>\n",
       "    </tr>\n",
       "    <tr>\n",
       "      <th>295</th>\n",
       "      <td>citizen</td>\n",
       "      <td>1.011830</td>\n",
       "    </tr>\n",
       "    <tr>\n",
       "      <th>1618</th>\n",
       "      <td>train</td>\n",
       "      <td>1.003494</td>\n",
       "    </tr>\n",
       "    <tr>\n",
       "      <th>972</th>\n",
       "      <td>marijuana</td>\n",
       "      <td>1.000381</td>\n",
       "    </tr>\n",
       "  </tbody>\n",
       "</table>\n",
       "</div>"
      ],
      "text/plain": [
       "          Words  Coefficient\n",
       "69          amp     1.110758\n",
       "1077     norway     1.100748\n",
       "295     citizen     1.011830\n",
       "1618      train     1.003494\n",
       "972   marijuana     1.000381"
      ]
     },
     "execution_count": 21,
     "metadata": {},
     "output_type": "execute_result"
    }
   ],
   "source": [
    "advwords = advancedvectorizer.get_feature_names()\n",
    "advcoeffs = advancedmodel.coef_.tolist()[0]\n",
    "advcoeffdf = pd.DataFrame({'Words' : advwords, \n",
    "                        'Coefficient' : advcoeffs})\n",
    "advcoeffdf = advcoeffdf.sort_values(['Coefficient', 'Words'], ascending=[0, 1])\n",
    "advcoeffdf.head(5)#these are words that contributes to the rise of VIX."
   ]
  },
  {
   "cell_type": "code",
   "execution_count": 22,
   "metadata": {},
   "outputs": [
    {
     "data": {
      "text/html": [
       "<div>\n",
       "<style scoped>\n",
       "    .dataframe tbody tr th:only-of-type {\n",
       "        vertical-align: middle;\n",
       "    }\n",
       "\n",
       "    .dataframe tbody tr th {\n",
       "        vertical-align: top;\n",
       "    }\n",
       "\n",
       "    .dataframe thead th {\n",
       "        text-align: right;\n",
       "    }\n",
       "</style>\n",
       "<table border=\"1\" class=\"dataframe\">\n",
       "  <thead>\n",
       "    <tr style=\"text-align: right;\">\n",
       "      <th></th>\n",
       "      <th>Words</th>\n",
       "      <th>Coefficient</th>\n",
       "    </tr>\n",
       "  </thead>\n",
       "  <tbody>\n",
       "    <tr>\n",
       "      <th>1087</th>\n",
       "      <td>obama</td>\n",
       "      <td>-0.876816</td>\n",
       "    </tr>\n",
       "    <tr>\n",
       "      <th>508</th>\n",
       "      <td>egyptian</td>\n",
       "      <td>-0.877877</td>\n",
       "    </tr>\n",
       "    <tr>\n",
       "      <th>1479</th>\n",
       "      <td>squar</td>\n",
       "      <td>-0.912582</td>\n",
       "    </tr>\n",
       "    <tr>\n",
       "      <th>627</th>\n",
       "      <td>flood</td>\n",
       "      <td>-1.004526</td>\n",
       "    </tr>\n",
       "    <tr>\n",
       "      <th>997</th>\n",
       "      <td>mexico</td>\n",
       "      <td>-1.025604</td>\n",
       "    </tr>\n",
       "  </tbody>\n",
       "</table>\n",
       "</div>"
      ],
      "text/plain": [
       "         Words  Coefficient\n",
       "1087     obama    -0.876816\n",
       "508   egyptian    -0.877877\n",
       "1479     squar    -0.912582\n",
       "627      flood    -1.004526\n",
       "997     mexico    -1.025604"
      ]
     },
     "execution_count": 22,
     "metadata": {},
     "output_type": "execute_result"
    }
   ],
   "source": [
    "advcoeffdf.tail(5)#these are words that contributes to the fall of VIX."
   ]
  },
  {
   "cell_type": "code",
   "execution_count": 23,
   "metadata": {},
   "outputs": [
    {
     "name": "stdout",
     "output_type": "stream",
     "text": [
      "ROC-AUC-score1 : 0.5179180391397017\n"
     ]
    }
   ],
   "source": [
    "# predict ROC-AUC score for testing data\n",
    "y_pred_test2 = advancedmodel.predict(advancedtest)\n",
    "rocauc2 = roc_auc_score(y_val,y_pred_test2)\n",
    "print(\"ROC-AUC-score1 :\", rocauc2)"
   ]
  },
  {
   "cell_type": "markdown",
   "metadata": {},
   "source": [
    "# Let us try with Naive Bayes + TFID"
   ]
  },
  {
   "cell_type": "code",
   "execution_count": 24,
   "metadata": {},
   "outputs": [],
   "source": [
    "advancedvectorizer = TfidfVectorizer(preprocessor=cleaner, \n",
    "                                     min_df=0.03, \n",
    "                                     max_df=0.97, \n",
    "                                     max_features = 200000, \n",
    "                                     ngram_range = (2, 2))\n",
    "advancednb = advancedvectorizer.fit_transform(trainheadlines)"
   ]
  },
  {
   "cell_type": "code",
   "execution_count": 25,
   "metadata": {},
   "outputs": [
    {
     "name": "stdout",
     "output_type": "stream",
     "text": [
      "(1332, 104)\n"
     ]
    }
   ],
   "source": [
    "print(advancednb.shape)"
   ]
  },
  {
   "cell_type": "code",
   "execution_count": 26,
   "metadata": {},
   "outputs": [
    {
     "name": "stdout",
     "output_type": "stream",
     "text": [
      "Training Accuracy Score:  0.6178678678678678\n"
     ]
    }
   ],
   "source": [
    "advancedmodel = MultinomialNB(alpha=0.01)\n",
    "advancedmodel = advancedmodel.fit(advancednb, y_train)\n",
    "\n",
    "#Training Accuracy Score\n",
    "trainingacc3 = basicmodel.score(advancednb, y_train)\n",
    "print('Training Accuracy Score: ',trainingacc3)"
   ]
  },
  {
   "cell_type": "code",
   "execution_count": 27,
   "metadata": {},
   "outputs": [],
   "source": [
    "#Creating Test headlines\n",
    "testheadlines = []\n",
    "for row in range(0,len(X_val.index)):\n",
    "    testheadlines.append(' '.join(str(x) for x in X_val.iloc[row,2:27]))\n",
    "advancedtest = advancedvectorizer.transform(testheadlines)\n",
    "preds3 = advancedmodel.predict(advancedtest)\n",
    "acc3=accuracy_score(y_val, preds3)"
   ]
  },
  {
   "cell_type": "code",
   "execution_count": 28,
   "metadata": {},
   "outputs": [
    {
     "name": "stdout",
     "output_type": "stream",
     "text": [
      "NBayes 1 accuracy:  0.6057838660578386\n"
     ]
    }
   ],
   "source": [
    "print('NBayes 1 accuracy: ', acc3) # accuracy 60% "
   ]
  },
  {
   "cell_type": "code",
   "execution_count": 29,
   "metadata": {},
   "outputs": [
    {
     "name": "stdout",
     "output_type": "stream",
     "text": [
      "ROC-AUC-score1 : 0.5092230187948072\n"
     ]
    }
   ],
   "source": [
    "# predict ROC-AUC score for testing data\n",
    "y_pred_test3 = advancedmodel.predict(advancedtest)\n",
    "rocauc3 = roc_auc_score(y_val,y_pred_test3)\n",
    "print(\"ROC-AUC-score1 :\", rocauc3)"
   ]
  },
  {
   "cell_type": "code",
   "execution_count": 30,
   "metadata": {},
   "outputs": [
    {
     "data": {
      "text/html": [
       "<div>\n",
       "<style scoped>\n",
       "    .dataframe tbody tr th:only-of-type {\n",
       "        vertical-align: middle;\n",
       "    }\n",
       "\n",
       "    .dataframe tbody tr th {\n",
       "        vertical-align: top;\n",
       "    }\n",
       "\n",
       "    .dataframe thead th {\n",
       "        text-align: right;\n",
       "    }\n",
       "</style>\n",
       "<table border=\"1\" class=\"dataframe\">\n",
       "  <thead>\n",
       "    <tr style=\"text-align: right;\">\n",
       "      <th></th>\n",
       "      <th>Words</th>\n",
       "      <th>Coefficient</th>\n",
       "    </tr>\n",
       "  </thead>\n",
       "  <tbody>\n",
       "    <tr>\n",
       "      <th>69</th>\n",
       "      <td>amp</td>\n",
       "      <td>1.110758</td>\n",
       "    </tr>\n",
       "    <tr>\n",
       "      <th>1077</th>\n",
       "      <td>norway</td>\n",
       "      <td>1.100748</td>\n",
       "    </tr>\n",
       "    <tr>\n",
       "      <th>295</th>\n",
       "      <td>citizen</td>\n",
       "      <td>1.011830</td>\n",
       "    </tr>\n",
       "    <tr>\n",
       "      <th>1618</th>\n",
       "      <td>train</td>\n",
       "      <td>1.003494</td>\n",
       "    </tr>\n",
       "    <tr>\n",
       "      <th>972</th>\n",
       "      <td>marijuana</td>\n",
       "      <td>1.000381</td>\n",
       "    </tr>\n",
       "  </tbody>\n",
       "</table>\n",
       "</div>"
      ],
      "text/plain": [
       "          Words  Coefficient\n",
       "69          amp     1.110758\n",
       "1077     norway     1.100748\n",
       "295     citizen     1.011830\n",
       "1618      train     1.003494\n",
       "972   marijuana     1.000381"
      ]
     },
     "execution_count": 30,
     "metadata": {},
     "output_type": "execute_result"
    }
   ],
   "source": [
    "nbwords = advancedvectorizer.get_feature_names()\n",
    "nbcoeffs = advancedmodel.coef_.tolist()[0]\n",
    "nbcoeffdf = pd.DataFrame({'Words' : nbwords, \n",
    "                        'Coefficient' : nbcoeffs})\n",
    "nbcoeffdf = advcoeffdf.sort_values(['Coefficient', 'Words'], ascending=[0, 1])\n",
    "nbcoeffdf.head(5)"
   ]
  },
  {
   "cell_type": "code",
   "execution_count": 31,
   "metadata": {},
   "outputs": [
    {
     "data": {
      "text/html": [
       "<div>\n",
       "<style scoped>\n",
       "    .dataframe tbody tr th:only-of-type {\n",
       "        vertical-align: middle;\n",
       "    }\n",
       "\n",
       "    .dataframe tbody tr th {\n",
       "        vertical-align: top;\n",
       "    }\n",
       "\n",
       "    .dataframe thead th {\n",
       "        text-align: right;\n",
       "    }\n",
       "</style>\n",
       "<table border=\"1\" class=\"dataframe\">\n",
       "  <thead>\n",
       "    <tr style=\"text-align: right;\">\n",
       "      <th></th>\n",
       "      <th>Words</th>\n",
       "      <th>Coefficient</th>\n",
       "    </tr>\n",
       "  </thead>\n",
       "  <tbody>\n",
       "    <tr>\n",
       "      <th>1087</th>\n",
       "      <td>obama</td>\n",
       "      <td>-0.876816</td>\n",
       "    </tr>\n",
       "    <tr>\n",
       "      <th>508</th>\n",
       "      <td>egyptian</td>\n",
       "      <td>-0.877877</td>\n",
       "    </tr>\n",
       "    <tr>\n",
       "      <th>1479</th>\n",
       "      <td>squar</td>\n",
       "      <td>-0.912582</td>\n",
       "    </tr>\n",
       "    <tr>\n",
       "      <th>627</th>\n",
       "      <td>flood</td>\n",
       "      <td>-1.004526</td>\n",
       "    </tr>\n",
       "    <tr>\n",
       "      <th>997</th>\n",
       "      <td>mexico</td>\n",
       "      <td>-1.025604</td>\n",
       "    </tr>\n",
       "  </tbody>\n",
       "</table>\n",
       "</div>"
      ],
      "text/plain": [
       "         Words  Coefficient\n",
       "1087     obama    -0.876816\n",
       "508   egyptian    -0.877877\n",
       "1479     squar    -0.912582\n",
       "627      flood    -1.004526\n",
       "997     mexico    -1.025604"
      ]
     },
     "execution_count": 31,
     "metadata": {},
     "output_type": "execute_result"
    }
   ],
   "source": [
    "nbcoeffdf.tail(5)"
   ]
  },
  {
   "cell_type": "markdown",
   "metadata": {},
   "source": [
    "# Random Forest  with TDIF"
   ]
  },
  {
   "cell_type": "code",
   "execution_count": 32,
   "metadata": {},
   "outputs": [],
   "source": [
    "advancedvectorizer = TfidfVectorizer(preprocessor=cleaner, \n",
    "                                     min_df=0.03, \n",
    "                                     max_df=0.97, \n",
    "                                     max_features = 200000, \n",
    "                                     ngram_range = (2, 2))\n",
    "advancedrf = advancedvectorizer.fit_transform(trainheadlines)"
   ]
  },
  {
   "cell_type": "code",
   "execution_count": 33,
   "metadata": {},
   "outputs": [
    {
     "data": {
      "text/plain": [
       "<1332x104 sparse matrix of type '<class 'numpy.float64'>'\n",
       "\twith 7681 stored elements in Compressed Sparse Row format>"
      ]
     },
     "execution_count": 33,
     "metadata": {},
     "output_type": "execute_result"
    }
   ],
   "source": [
    "advancedrf"
   ]
  },
  {
   "cell_type": "code",
   "execution_count": 34,
   "metadata": {},
   "outputs": [
    {
     "name": "stdout",
     "output_type": "stream",
     "text": [
      "(1332, 104)\n"
     ]
    }
   ],
   "source": [
    "print(advancedrf.shape)"
   ]
  },
  {
   "cell_type": "code",
   "execution_count": 35,
   "metadata": {},
   "outputs": [
    {
     "name": "stdout",
     "output_type": "stream",
     "text": [
      "Training Accuracy Score:  0.9947447447447447\n"
     ]
    }
   ],
   "source": [
    "advancedmodel = RandomForestClassifier()\n",
    "advancedmodel = advancedmodel.fit(advancedrf, y_train)\n",
    "\n",
    "#Training Accuracy Score\n",
    "trainingacc4 = advancedmodel.score(advancedrf, y_train)\n",
    "print('Training Accuracy Score: ',trainingacc4)"
   ]
  },
  {
   "cell_type": "code",
   "execution_count": 36,
   "metadata": {},
   "outputs": [],
   "source": [
    "testheadlines = []\n",
    "for row in range(0,len(X_val.index)):\n",
    "    testheadlines.append(' '.join(str(x) for x in X_val.iloc[row,2:27]))\n",
    "advancedtest = advancedvectorizer.transform(testheadlines)\n",
    "preds4 = advancedmodel.predict(advancedtest)\n",
    "acc4 = accuracy_score(y_val, preds4)"
   ]
  },
  {
   "cell_type": "code",
   "execution_count": 37,
   "metadata": {},
   "outputs": [
    {
     "name": "stdout",
     "output_type": "stream",
     "text": [
      "RF 2 accuracy:  0.5525114155251142\n"
     ]
    }
   ],
   "source": [
    "print('RF 2 accuracy: ', acc4)"
   ]
  },
  {
   "cell_type": "code",
   "execution_count": 38,
   "metadata": {},
   "outputs": [
    {
     "data": {
      "text/html": [
       "<div>\n",
       "<style scoped>\n",
       "    .dataframe tbody tr th:only-of-type {\n",
       "        vertical-align: middle;\n",
       "    }\n",
       "\n",
       "    .dataframe tbody tr th {\n",
       "        vertical-align: top;\n",
       "    }\n",
       "\n",
       "    .dataframe thead th {\n",
       "        text-align: right;\n",
       "    }\n",
       "</style>\n",
       "<table border=\"1\" class=\"dataframe\">\n",
       "  <thead>\n",
       "    <tr style=\"text-align: right;\">\n",
       "      <th></th>\n",
       "      <th>Words</th>\n",
       "      <th>Coefficient</th>\n",
       "    </tr>\n",
       "  </thead>\n",
       "  <tbody>\n",
       "    <tr>\n",
       "      <th>0</th>\n",
       "      <td>air strike</td>\n",
       "      <td>0.010303</td>\n",
       "    </tr>\n",
       "    <tr>\n",
       "      <th>1</th>\n",
       "      <td>al jazeera</td>\n",
       "      <td>0.010303</td>\n",
       "    </tr>\n",
       "    <tr>\n",
       "      <th>2</th>\n",
       "      <td>al qaeda</td>\n",
       "      <td>0.010303</td>\n",
       "    </tr>\n",
       "    <tr>\n",
       "      <th>3</th>\n",
       "      <td>around world</td>\n",
       "      <td>0.010303</td>\n",
       "    </tr>\n",
       "    <tr>\n",
       "      <th>4</th>\n",
       "      <td>barack obama</td>\n",
       "      <td>0.010303</td>\n",
       "    </tr>\n",
       "  </tbody>\n",
       "</table>\n",
       "</div>"
      ],
      "text/plain": [
       "          Words  Coefficient\n",
       "0    air strike     0.010303\n",
       "1    al jazeera     0.010303\n",
       "2      al qaeda     0.010303\n",
       "3  around world     0.010303\n",
       "4  barack obama     0.010303"
      ]
     },
     "execution_count": 38,
     "metadata": {},
     "output_type": "execute_result"
    }
   ],
   "source": [
    "rfwords = advancedvectorizer.get_feature_names()\n",
    "rfcoeffs = advancedmodel.feature_importances_.tolist()[0]\n",
    "rfcoeffdf = pd.DataFrame({'Words' : rfwords, \n",
    "                        'Coefficient' : rfcoeffs})\n",
    "rfcoeffdf = rfcoeffdf.sort_values(['Coefficient', 'Words'], ascending=[0, 1])\n",
    "rfcoeffdf.head(5)"
   ]
  },
  {
   "cell_type": "code",
   "execution_count": 39,
   "metadata": {},
   "outputs": [
    {
     "data": {
      "text/html": [
       "<div>\n",
       "<style scoped>\n",
       "    .dataframe tbody tr th:only-of-type {\n",
       "        vertical-align: middle;\n",
       "    }\n",
       "\n",
       "    .dataframe tbody tr th {\n",
       "        vertical-align: top;\n",
       "    }\n",
       "\n",
       "    .dataframe thead th {\n",
       "        text-align: right;\n",
       "    }\n",
       "</style>\n",
       "<table border=\"1\" class=\"dataframe\">\n",
       "  <thead>\n",
       "    <tr style=\"text-align: right;\">\n",
       "      <th></th>\n",
       "      <th>Words</th>\n",
       "      <th>Coefficient</th>\n",
       "    </tr>\n",
       "  </thead>\n",
       "  <tbody>\n",
       "    <tr>\n",
       "      <th>99</th>\n",
       "      <td>world largest</td>\n",
       "      <td>0.010303</td>\n",
       "    </tr>\n",
       "    <tr>\n",
       "      <th>100</th>\n",
       "      <td>world war</td>\n",
       "      <td>0.010303</td>\n",
       "    </tr>\n",
       "    <tr>\n",
       "      <th>101</th>\n",
       "      <td>year ago</td>\n",
       "      <td>0.010303</td>\n",
       "    </tr>\n",
       "    <tr>\n",
       "      <th>102</th>\n",
       "      <td>year old</td>\n",
       "      <td>0.010303</td>\n",
       "    </tr>\n",
       "    <tr>\n",
       "      <th>103</th>\n",
       "      <td>year prison</td>\n",
       "      <td>0.010303</td>\n",
       "    </tr>\n",
       "  </tbody>\n",
       "</table>\n",
       "</div>"
      ],
      "text/plain": [
       "             Words  Coefficient\n",
       "99   world largest     0.010303\n",
       "100      world war     0.010303\n",
       "101       year ago     0.010303\n",
       "102       year old     0.010303\n",
       "103    year prison     0.010303"
      ]
     },
     "execution_count": 39,
     "metadata": {},
     "output_type": "execute_result"
    }
   ],
   "source": [
    "rfcoeffdf.tail(5)"
   ]
  },
  {
   "cell_type": "code",
   "execution_count": 40,
   "metadata": {},
   "outputs": [
    {
     "name": "stdout",
     "output_type": "stream",
     "text": [
      "ROC-AUC-score4 : 0.9949966078697422\n"
     ]
    }
   ],
   "source": [
    "# predict ROC-AUC score \n",
    "y_pred_train4 = advancedmodel.predict(advancedrf)\n",
    "rocauc4 = roc_auc_score(y_train,y_pred_train4)\n",
    "print(\"ROC-AUC-score4 :\", rocauc4)"
   ]
  },
  {
   "cell_type": "markdown",
   "metadata": {},
   "source": [
    "# MACHINE LEARNING"
   ]
  },
  {
   "cell_type": "markdown",
   "metadata": {},
   "source": [
    "## LSTM + tokenizer"
   ]
  },
  {
   "cell_type": "code",
   "execution_count": 41,
   "metadata": {},
   "outputs": [],
   "source": [
    "# We will redefine again before we head into the machine learning."
   ]
  },
  {
   "cell_type": "code",
   "execution_count": 42,
   "metadata": {},
   "outputs": [],
   "source": [
    "X = combined_news\n",
    "y = combined_news['upordown']\n",
    "\n",
    "X_train, X_val, y_train, y_val = train_test_split(X, y, test_size=0.33,stratify = y, random_state=42)"
   ]
  },
  {
   "cell_type": "code",
   "execution_count": 43,
   "metadata": {},
   "outputs": [],
   "source": [
    "#to form a string for all top 25 of news headlines for X_train\n",
    "trainheadlines = []\n",
    "for row in range(0,len(X_train.index)):\n",
    "    trainheadlines.append(' '.join(str(x) for x in X_train.iloc[row,2:27]))"
   ]
  },
  {
   "cell_type": "code",
   "execution_count": 44,
   "metadata": {},
   "outputs": [],
   "source": [
    "#Create test headlines again\n",
    "testheadlines = []\n",
    "for row in range(0,len(X_val.index)):\n",
    "    testheadlines.append(' '.join(str(x) for x in X_val.iloc[row,2:27]))\n",
    "basictest = basicvectorizer.transform(testheadlines)"
   ]
  },
  {
   "cell_type": "markdown",
   "metadata": {},
   "source": [
    "### Next we will vectorize the text samples into a 2D integer tensor for processing"
   ]
  },
  {
   "cell_type": "code",
   "execution_count": 45,
   "metadata": {},
   "outputs": [],
   "source": [
    "#num_words - This will be the maximum number of words \n",
    "#from our resulting tokenized data vocabulary which are to be used, \n",
    "#truncated after the 10000 most common words in our case.\n",
    "tokenizer = Tokenizer(num_words=10000)\n",
    "# Tokenize our training data'trainheadlines'\n",
    "tokenizer.fit_on_texts(trainheadlines)\n",
    "# Encode training data sentences into sequences for both train and test data.\n",
    "sequences_train = tokenizer.texts_to_sequences(trainheadlines)\n",
    "sequences_test = tokenizer.texts_to_sequences(testheadlines)"
   ]
  },
  {
   "cell_type": "code",
   "execution_count": 46,
   "metadata": {},
   "outputs": [
    {
     "name": "stdout",
     "output_type": "stream",
     "text": [
      "Pad sequences (samples x time)\n",
      "X_train shape: (1332, 200)\n",
      "X_val shape: (657, 200)\n",
      "y_train shape: (1332, 2)\n",
      "y_val shape: (657, 2)\n"
     ]
    }
   ],
   "source": [
    "print('Pad sequences (samples x time)')\n",
    "\n",
    "#Features for model training\n",
    "#nb_classes - total number of classes.\n",
    "nb_classes = 2\n",
    "# maxlen is feature of maximum sequence length for padding our encoded sentences\n",
    "maxlen = 200\n",
    "\n",
    "# Pad the training sequences as we need our encoded sequences to be of the same length. \n",
    "# use that to pad all other sequences with extra '0's at the end ('post') and\n",
    "# will also truncate any sequences longer than maximum length from the end ('post') as well. \n",
    "X_train = sequence.pad_sequences(sequences_train, maxlen=maxlen)\n",
    "X_val = sequence.pad_sequences(sequences_test, maxlen=maxlen)\n",
    "\n",
    "#convert them into array before we put them into model\n",
    "y_train = np.array(y_train)\n",
    "y_val = np.array(y_val)\n",
    "\n",
    "# np_utils.to_categorical to convert array of labeled data(from 0 to nb_classes-1) to one-hot vector.\n",
    "Y_train = np_utils.to_categorical(y_train, 2)\n",
    "Y_val = np_utils.to_categorical(y_val, 2)\n",
    "\n",
    "#print out X_train and X_test shape.\n",
    "print('X_train shape:', X_train.shape)\n",
    "print('X_val shape:', X_val.shape)\n",
    "print('y_train shape:', Y_train.shape)\n",
    "print('y_val shape:', Y_val.shape)"
   ]
  },
  {
   "cell_type": "markdown",
   "metadata": {},
   "source": [
    "# 3 layers of Stacked LSTM for sequence classification"
   ]
  },
  {
   "cell_type": "markdown",
   "metadata": {},
   "source": [
    "Sequence classification is a predictive modeling problem where you have some sequence of inputs over space or time and the task is to predict a category for the sequence which may apply in this case."
   ]
  },
  {
   "cell_type": "markdown",
   "metadata": {},
   "source": [
    "In this model, we stack 3 LSTM layers on top of each other, making the model capable of learning higher-level temporal representations.\n",
    "\n",
    "The first two LSTMs return their full output sequences, but the last one only returns the last step in its output sequence, thus dropping the temporal dimension (i.e. converting the input sequence into a single vector)."
   ]
  },
  {
   "cell_type": "code",
   "execution_count": 47,
   "metadata": {
    "scrolled": false
   },
   "outputs": [
    {
     "name": "stdout",
     "output_type": "stream",
     "text": [
      "Build LSTM model...\n",
      "WARNING:tensorflow:From C:\\Users\\PC\\anaconda3\\lib\\site-packages\\tensorflow_core\\python\\ops\\resource_variable_ops.py:1630: calling BaseResourceVariable.__init__ (from tensorflow.python.ops.resource_variable_ops) with constraint is deprecated and will be removed in a future version.\n",
      "Instructions for updating:\n",
      "If using Keras pass *_constraint arguments to layers.\n",
      "Model: \"sequential_1\"\n",
      "_________________________________________________________________\n",
      "Layer (type)                 Output Shape              Param #   \n",
      "=================================================================\n",
      "embedding_1 (Embedding)      (None, None, 128)         1280000   \n",
      "_________________________________________________________________\n",
      "lstm_1 (LSTM)                (None, None, 32)          20608     \n",
      "_________________________________________________________________\n",
      "lstm_2 (LSTM)                (None, None, 32)          8320      \n",
      "_________________________________________________________________\n",
      "lstm_3 (LSTM)                (None, 32)                8320      \n",
      "_________________________________________________________________\n",
      "dense_1 (Dense)              (None, 2)                 66        \n",
      "_________________________________________________________________\n",
      "activation_1 (Activation)    (None, 2)                 0         \n",
      "=================================================================\n",
      "Total params: 1,317,314\n",
      "Trainable params: 1,317,314\n",
      "Non-trainable params: 0\n",
      "_________________________________________________________________\n",
      "None\n"
     ]
    }
   ],
   "source": [
    "print('Build LSTM model...')\n",
    "# expected input data shape: (batch_size, timesteps, data_dim)\n",
    "data_dim = 16\n",
    "timesteps = 8\n",
    "max_features = 10000\n",
    "#intialize model\n",
    "model = Sequential()\n",
    "#Embedding with 128\n",
    "model.add(Embedding(max_features, 128))\n",
    "# returns 16 sequences of vectors of dimension 32\n",
    "model.add(LSTM(32, return_sequences=True,input_shape=(timesteps, 16)))  \n",
    "# returns a sequence of vectors of dimension 32\n",
    "model.add(LSTM(32, return_sequences=True)) \n",
    "# return a single vector of dimension 32\n",
    "model.add(LSTM(32))  \n",
    "model.add(Dense(nb_classes))\n",
    "model.add(Activation('softmax'))\n",
    "#Compile model\n",
    "model.compile(loss='binary_crossentropy',\n",
    "              optimizer='adam',\n",
    "              metrics=['accuracy'])\n",
    "print(model.summary())"
   ]
  },
  {
   "cell_type": "code",
   "execution_count": 48,
   "metadata": {},
   "outputs": [
    {
     "name": "stdout",
     "output_type": "stream",
     "text": [
      "WARNING:tensorflow:From C:\\Users\\PC\\anaconda3\\lib\\site-packages\\tensorflow_core\\python\\ops\\math_grad.py:1424: where (from tensorflow.python.ops.array_ops) is deprecated and will be removed in a future version.\n",
      "Instructions for updating:\n",
      "Use tf.where in 2.0, which has the same broadcast rule as np.where\n",
      "WARNING:tensorflow:From C:\\Users\\PC\\anaconda3\\lib\\site-packages\\keras\\backend\\tensorflow_backend.py:422: The name tf.global_variables is deprecated. Please use tf.compat.v1.global_variables instead.\n",
      "\n",
      "Train on 1332 samples, validate on 657 samples\n",
      "Epoch 1/3\n",
      "1332/1332 [==============================] - 14s 10ms/step - loss: 0.6730 - accuracy: 0.6021 - val_loss: 0.6596 - val_accuracy: 0.6043\n",
      "Epoch 2/3\n",
      "1332/1332 [==============================] - 16s 12ms/step - loss: 0.5759 - accuracy: 0.6404 - val_loss: 0.5747 - val_accuracy: 0.7245\n",
      "Epoch 3/3\n",
      "1332/1332 [==============================] - 12s 9ms/step - loss: 0.1748 - accuracy: 0.9722 - val_loss: 0.6479 - val_accuracy: 0.7093\n"
     ]
    }
   ],
   "source": [
    "# Final evaluation of the model\n",
    "history = model.fit(X_train, Y_train,\n",
    "          batch_size=64, epochs=3,\n",
    "          validation_data=(X_val, Y_val))"
   ]
  },
  {
   "cell_type": "code",
   "execution_count": 49,
   "metadata": {},
   "outputs": [
    {
     "name": "stdout",
     "output_type": "stream",
     "text": [
      "Generating training accuracy...\n",
      "Training Accuracy Score:  0.73823816\n",
      "Training Validation Score:  0.6793505748112997\n"
     ]
    }
   ],
   "source": [
    "print(\"Generating training accuracy...\")\n",
    "#We take an average of the training accuracy score\n",
    "trainingacc5 = np.mean(history.history['accuracy'])\n",
    "print('Training Accuracy Score: ',trainingacc5)\n",
    "trainingvalacc5 = np.mean(history.history['val_accuracy'])\n",
    "print('Training Validation Score: ',trainingvalacc5)"
   ]
  },
  {
   "cell_type": "code",
   "execution_count": 50,
   "metadata": {},
   "outputs": [
    {
     "name": "stdout",
     "output_type": "stream",
     "text": [
      "Generating test predictions...\n",
      "657/657 [==============================] - 1s 2ms/step\n",
      "Prediction accuracy:  0.7092846270928462\n"
     ]
    }
   ],
   "source": [
    "print(\"Generating test predictions...\")\n",
    "score, acc = model.evaluate(X_val, Y_val,batch_size=64)\n",
    "preds5 = model.predict_classes(X_val, verbose=0)\n",
    "acc5 = accuracy_score(y_val, preds5)\n",
    "print('Prediction accuracy: ', acc5)"
   ]
  },
  {
   "cell_type": "code",
   "execution_count": 51,
   "metadata": {},
   "outputs": [
    {
     "name": "stdout",
     "output_type": "stream",
     "text": [
      "ROC-AUC-score5 : 0.772049990311955\n"
     ]
    }
   ],
   "source": [
    "# predict ROC-AUC score \n",
    "predictions = model.predict_proba(X_val)\n",
    "rocauc5 = str(roc_auc_score(Y_val, predictions))\n",
    "print(\"ROC-AUC-score5 :\", rocauc5)"
   ]
  },
  {
   "cell_type": "markdown",
   "metadata": {},
   "source": [
    "#### Visualizing model training"
   ]
  },
  {
   "cell_type": "code",
   "execution_count": 52,
   "metadata": {},
   "outputs": [
    {
     "data": {
      "image/png": "[encoded data removed]",
      "text/plain": [
       "<Figure size 432x288 with 1 Axes>"
      ]
     },
     "metadata": {
      "needs_background": "light"
     },
     "output_type": "display_data"
    }
   ],
   "source": [
    "plt.plot(history.history['accuracy'], label= 'Training_accuracy')\n",
    "plt.plot(history.history['val_accuracy'], label= 'Validation_accuracy')\n",
    "plt.legend();"
   ]
  },
  {
   "cell_type": "code",
   "execution_count": 53,
   "metadata": {},
   "outputs": [
    {
     "data": {
      "image/png": "[encoded data removed]",
      "text/plain": [
       "<Figure size 432x288 with 1 Axes>"
      ]
     },
     "metadata": {
      "needs_background": "light"
     },
     "output_type": "display_data"
    }
   ],
   "source": [
    "plt.plot(history.history['loss'], label='Training_loss')\n",
    "plt.plot(history.history['val_loss'], label='Validation_loss')\n",
    "plt.legend();"
   ]
  },
  {
   "cell_type": "markdown",
   "metadata": {},
   "source": [
    "Using the history object, plot the model's accuracy (for both train and test)."
   ]
  },
  {
   "cell_type": "markdown",
   "metadata": {},
   "source": [
    "# LSTM and Convolutional Neural Network For Sequence Classification"
   ]
  },
  {
   "cell_type": "markdown",
   "metadata": {},
   "source": [
    "Convolutional neural networks excel at learning the spatial structure in input data. Our dataset does have a one-dimensional spatial structure in the sequence of words in reviews and the CNN may be able to pick out invariant features for good and bad sentiment. This learned spatial features may then be learned as sequences by an LSTM layer."
   ]
  },
  {
   "cell_type": "code",
   "execution_count": 54,
   "metadata": {},
   "outputs": [],
   "source": [
    "#num_words - This will be the maximum number of words \n",
    "#from our resulting tokenized data vocabulary which are to be used, \n",
    "#truncated after the 10000 most common words in our case.\n",
    "tokenizer = Tokenizer(num_words=10000)\n",
    "# Tokenize our training data'trainheadlines'\n",
    "tokenizer.fit_on_texts(trainheadlines)\n",
    "\n",
    "sequences_train = tokenizer.texts_to_sequences(trainheadlines)\n",
    "sequences_test = tokenizer.texts_to_sequences(testheadlines)"
   ]
  },
  {
   "cell_type": "code",
   "execution_count": 55,
   "metadata": {},
   "outputs": [],
   "source": [
    "# maxlen is feature of maximum sequence length for padding our encoded sentences\n",
    "\n",
    "maxlen = 200\n",
    "\n",
    "# truncate and pad input sequences, redefine X_train and X_val \n",
    "X_train = sequence.pad_sequences(sequences_train, maxlen=maxlen)\n",
    "X_val = sequence.pad_sequences(sequences_test, maxlen=maxlen)\n",
    "\n",
    "# convert y_train and y_val into array\n",
    "y_train = np.array(y_train)\n",
    "y_val = np.array(y_val)\n",
    "\n",
    "# np_utils.to_categorical to convert array of labeled data(from 0 to nb_classes-1) to one-hot vector.\n",
    "Y_train = np_utils.to_categorical(y_train, 2)\n",
    "Y_val = np_utils.to_categorical(y_val, 2)"
   ]
  },
  {
   "cell_type": "markdown",
   "metadata": {},
   "source": [
    "We can now define our convolutional neural network model. This time, after the Embedding input layer, we insert a Conv1D layer. This convolutional layer has 32 feature maps and reads embedded word representations 3 vector elements of the word embedding at a time.\n",
    "\n",
    "The convolutional layer is followed by a 1D max pooling layer with a length and stride of 2 that halves the size of the feature maps from the convolutional layer."
   ]
  },
  {
   "cell_type": "code",
   "execution_count": 56,
   "metadata": {},
   "outputs": [
    {
     "name": "stdout",
     "output_type": "stream",
     "text": [
      "WARNING:tensorflow:From C:\\Users\\PC\\anaconda3\\lib\\site-packages\\keras\\backend\\tensorflow_backend.py:4070: The name tf.nn.max_pool is deprecated. Please use tf.nn.max_pool2d instead.\n",
      "\n",
      "Model: \"sequential_2\"\n",
      "_________________________________________________________________\n",
      "Layer (type)                 Output Shape              Param #   \n",
      "=================================================================\n",
      "embedding_2 (Embedding)      (None, None, 128)         1280000   \n",
      "_________________________________________________________________\n",
      "conv1d_1 (Conv1D)            (None, None, 32)          12320     \n",
      "_________________________________________________________________\n",
      "max_pooling1d_1 (MaxPooling1 (None, None, 32)          0         \n",
      "_________________________________________________________________\n",
      "lstm_4 (LSTM)                (None, 100)               53200     \n",
      "_________________________________________________________________\n",
      "dense_2 (Dense)              (None, 2)                 202       \n",
      "=================================================================\n",
      "Total params: 1,345,722\n",
      "Trainable params: 1,345,722\n",
      "Non-trainable params: 0\n",
      "_________________________________________________________________\n",
      "None\n"
     ]
    }
   ],
   "source": [
    "# create the model\n",
    "model = Sequential()\n",
    "#Embedding\n",
    "model.add(Embedding(max_features, 128))\n",
    "#Convolutional 1D layer \n",
    "model.add(Conv1D(filters=32, kernel_size=3, padding='same', activation='relu'))\n",
    "#Maxpool \n",
    "model.add(MaxPooling1D(pool_size=2))\n",
    "#LSTM\n",
    "model.add(LSTM(100))\n",
    "#Dense\n",
    "model.add(Dense(2, activation='sigmoid'))\n",
    "#Compile\n",
    "model.compile(loss='binary_crossentropy', optimizer='adam', metrics=['accuracy'])\n",
    "\n",
    "print(model.summary())"
   ]
  },
  {
   "cell_type": "code",
   "execution_count": 57,
   "metadata": {},
   "outputs": [
    {
     "name": "stdout",
     "output_type": "stream",
     "text": [
      "Train on 1332 samples, validate on 657 samples\n",
      "Epoch 1/5\n",
      "1332/1332 [==============================] - 7s 5ms/step - loss: 0.6649 - accuracy: 0.5976 - val_loss: 0.6227 - val_accuracy: 0.6043\n",
      "Epoch 2/5\n",
      "1332/1332 [==============================] - 10s 7ms/step - loss: 0.4740 - accuracy: 0.6933 - val_loss: 0.2632 - val_accuracy: 1.0000\n",
      "Epoch 3/5\n",
      "1332/1332 [==============================] - 8s 6ms/step - loss: 0.0797 - accuracy: 1.0000 - val_loss: 0.0336 - val_accuracy: 0.9970\n",
      "Epoch 4/5\n",
      "1332/1332 [==============================] - 8s 6ms/step - loss: 0.0028 - accuracy: 1.0000 - val_loss: 0.0057 - val_accuracy: 0.9985\n",
      "Epoch 5/5\n",
      "1332/1332 [==============================] - 8s 6ms/step - loss: 7.4436e-04 - accuracy: 1.0000 - val_loss: 0.0060 - val_accuracy: 0.9985\n"
     ]
    }
   ],
   "source": [
    "# Final evaluation of the model\n",
    "history = model.fit(X_train, Y_train,\n",
    "                    batch_size=64, \n",
    "                    epochs=5,\n",
    "                    validation_data=(X_val, Y_val))"
   ]
  },
  {
   "cell_type": "code",
   "execution_count": 58,
   "metadata": {},
   "outputs": [
    {
     "name": "stdout",
     "output_type": "stream",
     "text": [
      "Generating training accuracy...\n",
      "Training Accuracy Score:  0.8581832\n"
     ]
    }
   ],
   "source": [
    "#Training Accuracy Score on training dataset\n",
    "print(\"Generating training accuracy...\")\n",
    "#We take an average of the training accuracy score\n",
    "trainingacc6 = np.mean(history.history['accuracy'])\n",
    "print('Training Accuracy Score: ',trainingacc6)"
   ]
  },
  {
   "cell_type": "code",
   "execution_count": 59,
   "metadata": {},
   "outputs": [
    {
     "name": "stdout",
     "output_type": "stream",
     "text": [
      "Generating test predictions...\n",
      "657/657 [==============================] - 1s 1ms/step\n",
      "Prediction accuracy:  0.9984779299847792\n"
     ]
    }
   ],
   "source": [
    "print(\"Generating test predictions...\")\n",
    "score, acc = model.evaluate(X_val, Y_val,batch_size=64)\n",
    "preds6 = model.predict_classes(X_val, verbose=0)\n",
    "acc6 = accuracy_score(y_val, preds6)\n",
    "print('Prediction accuracy: ', acc6)"
   ]
  },
  {
   "cell_type": "code",
   "execution_count": 60,
   "metadata": {},
   "outputs": [
    {
     "name": "stdout",
     "output_type": "stream",
     "text": [
      "ROC-AUC-score5 : 1.0\n"
     ]
    }
   ],
   "source": [
    "# predict ROC-AUC score \n",
    "predictions = model.predict_proba(X_val)\n",
    "rocauc6 = str(roc_auc_score(Y_val, predictions))\n",
    "print(\"ROC-AUC-score5 :\", rocauc6)"
   ]
  },
  {
   "cell_type": "markdown",
   "metadata": {},
   "source": [
    "#### Visualizing model training"
   ]
  },
  {
   "cell_type": "code",
   "execution_count": 61,
   "metadata": {},
   "outputs": [
    {
     "data": {
      "image/png": "[encoded data removed]",
      "text/plain": [
       "<Figure size 432x288 with 1 Axes>"
      ]
     },
     "metadata": {
      "needs_background": "light"
     },
     "output_type": "display_data"
    }
   ],
   "source": [
    "plt.plot(history.history['loss'], label='Training_loss')\n",
    "plt.plot(history.history['val_loss'], label='Validation_loss')\n",
    "plt.legend();"
   ]
  },
  {
   "cell_type": "markdown",
   "metadata": {},
   "source": [
    "### Using the history object, plot the model's accuracy (for both train and test)."
   ]
  },
  {
   "cell_type": "code",
   "execution_count": 62,
   "metadata": {},
   "outputs": [
    {
     "data": {
      "image/png": "[encoded data removed]",
      "text/plain": [
       "<Figure size 432x288 with 1 Axes>"
      ]
     },
     "metadata": {
      "needs_background": "light"
     },
     "output_type": "display_data"
    }
   ],
   "source": [
    "plt.plot(history.history['accuracy'], label= 'Training_accuracy')\n",
    "plt.plot(history.history['val_accuracy'], label= 'Validation_accuracy')\n",
    "plt.legend();"
   ]
  },
  {
   "cell_type": "markdown",
   "metadata": {},
   "source": [
    "A combination of LSTM and Convolutional Neural Network seem to produce the best results."
   ]
  },
  {
   "cell_type": "markdown",
   "metadata": {},
   "source": [
    "# LETS COMPARE THE SCORE OF THE MODELS"
   ]
  },
  {
   "cell_type": "code",
   "execution_count": 63,
   "metadata": {},
   "outputs": [],
   "source": [
    "#settings the parameters of the dataframe\n",
    "\n",
    "#Model type\n",
    "Model               = ['Countvectandlogreg',\n",
    "                       'TDIFandlogreg',\n",
    "                       'NaivesbayesandTDIF',\n",
    "                       'randomforestandTDIF',\n",
    "                       'LSTM3layers',\n",
    "                       'LSTMandCNN']\n",
    "#Training Dataset Accuracy Scores\n",
    "Training_Accuracy   = [trainingacc1,\n",
    "                       trainingacc2,\n",
    "                       trainingacc3,\n",
    "                       trainingacc4,\n",
    "                       trainingacc5,\n",
    "                       trainingacc6]\n",
    "\n",
    "#Prediction Dataset Accuracy Scores\n",
    "Prediction_Accuracy = [acc1,\n",
    "                       acc2,\n",
    "                       acc3,\n",
    "                       acc4,\n",
    "                       acc5,\n",
    "                       acc6]\n",
    "\n",
    "#ROC_AUC_scores\n",
    "Roc_Auc_score       = [rocauc1,\n",
    "                       rocauc2,\n",
    "                       rocauc3,\n",
    "                       rocauc4,\n",
    "                       rocauc5,\n",
    "                       rocauc6]"
   ]
  },
  {
   "cell_type": "code",
   "execution_count": 64,
   "metadata": {},
   "outputs": [
    {
     "name": "stderr",
     "output_type": "stream",
     "text": [
      "C:\\Users\\PC\\anaconda3\\lib\\site-packages\\ipykernel_launcher.py:13: FutureWarning: Passing a negative integer is deprecated in version 1.0 and will not be supported in future version. Instead, use None to not limit the column width.\n",
      "  del sys.path[0]\n"
     ]
    },
    {
     "data": {
      "text/html": [
       "<div>\n",
       "<style scoped>\n",
       "    .dataframe tbody tr th:only-of-type {\n",
       "        vertical-align: middle;\n",
       "    }\n",
       "\n",
       "    .dataframe tbody tr th {\n",
       "        vertical-align: top;\n",
       "    }\n",
       "\n",
       "    .dataframe thead th {\n",
       "        text-align: right;\n",
       "    }\n",
       "</style>\n",
       "<table border=\"1\" class=\"dataframe\">\n",
       "  <thead>\n",
       "    <tr style=\"text-align: right;\">\n",
       "      <th></th>\n",
       "      <th>Model</th>\n",
       "      <th>Training dataset accuracy</th>\n",
       "      <th>Validation dataset accuracy</th>\n",
       "      <th>Validation dataset AUC score</th>\n",
       "    </tr>\n",
       "  </thead>\n",
       "  <tbody>\n",
       "    <tr>\n",
       "      <th>0</th>\n",
       "      <td>Countvectandlogreg</td>\n",
       "      <td>0.622372</td>\n",
       "      <td>0.563166</td>\n",
       "      <td>0.497186</td>\n",
       "    </tr>\n",
       "    <tr>\n",
       "      <th>1</th>\n",
       "      <td>TDIFandlogreg</td>\n",
       "      <td>0.754505</td>\n",
       "      <td>0.604262</td>\n",
       "      <td>0.517918</td>\n",
       "    </tr>\n",
       "    <tr>\n",
       "      <th>2</th>\n",
       "      <td>NaivesbayesandTDIF</td>\n",
       "      <td>0.617868</td>\n",
       "      <td>0.605784</td>\n",
       "      <td>0.509223</td>\n",
       "    </tr>\n",
       "    <tr>\n",
       "      <th>3</th>\n",
       "      <td>randomforestandTDIF</td>\n",
       "      <td>0.994745</td>\n",
       "      <td>0.552511</td>\n",
       "      <td>0.994997</td>\n",
       "    </tr>\n",
       "    <tr>\n",
       "      <th>4</th>\n",
       "      <td>LSTM3layers</td>\n",
       "      <td>0.738238</td>\n",
       "      <td>0.709285</td>\n",
       "      <td>0.772049990311955</td>\n",
       "    </tr>\n",
       "    <tr>\n",
       "      <th>5</th>\n",
       "      <td>LSTMandCNN</td>\n",
       "      <td>0.858183</td>\n",
       "      <td>0.998478</td>\n",
       "      <td>1.0</td>\n",
       "    </tr>\n",
       "  </tbody>\n",
       "</table>\n",
       "</div>"
      ],
      "text/plain": [
       "                 Model  Training dataset accuracy  \\\n",
       "0  Countvectandlogreg   0.622372                    \n",
       "1  TDIFandlogreg        0.754505                    \n",
       "2  NaivesbayesandTDIF   0.617868                    \n",
       "3  randomforestandTDIF  0.994745                    \n",
       "4  LSTM3layers          0.738238                    \n",
       "5  LSTMandCNN           0.858183                    \n",
       "\n",
       "   Validation dataset accuracy Validation dataset AUC score  \n",
       "0  0.563166                     0.497186                     \n",
       "1  0.604262                     0.517918                     \n",
       "2  0.605784                     0.509223                     \n",
       "3  0.552511                     0.994997                     \n",
       "4  0.709285                     0.772049990311955            \n",
       "5  0.998478                     1.0                          "
      ]
     },
     "execution_count": 64,
     "metadata": {},
     "output_type": "execute_result"
    }
   ],
   "source": [
    "# Produce a summary table of the tuned classifiers\n",
    "summary = pd.DataFrame(\n",
    "    {'Model':Model,\n",
    "     'Training dataset accuracy':Training_Accuracy,\n",
    "     'Validation dataset accuracy': Prediction_Accuracy,\n",
    "     'Validation dataset AUC score':Roc_Auc_score})\n",
    "    #'Training dataset accuracy': train_accuracy,\n",
    "    #'Validation dataset accuracy': val_accuracy,\n",
    "    #'Training dataset AUC score': train_roc_auc,\n",
    "    #'Validation dataset AUC score': val_roc_auc,\n",
    "    #'Validation dataset sensitivity': sensitivity\n",
    "  \n",
    "pd.set_option('display.max_colwidth', -1)\n",
    "summary.sort_values('Validation dataset accuracy', ascending=False).reset_index(drop=True)\n",
    "summary"
   ]
  },
  {
   "cell_type": "markdown",
   "metadata": {},
   "source": [
    "The table above shows the performance of the various models and the different metrics used to evaluate the models, namely Accuracy, AUC scores and sensitivity. The classifiers are sorted based on descending order of the sensitivity score on the validation dataset.\n",
    "\n",
    "We choose the LSTM3layers as our best classifier, given that it has the highest AUC score on the validation dataset (0.66) and an accuracy of 63% (slightly beter than the baseline accuracy at 60%).\n",
    "\n",
    "Although it did not achieve an accuracy (i.e. 68.2%) higher than the baseline accuracy of 94.8% (extremely high due to imbalanced data), this is still a much better model because the baseline model will also never predict that a location has West Nile Virus, which may lead to outbreaks of the disease. Besides, we observe minimal overfitting of the model when comparing both the accuracy and AUC scores of the training and validation datasets.\n",
    "\n",
    "Besides having the highest ROC-AUC score, the Logistic Regression model has the highest sensitivity (0.651), which is an important metric in this case. False negatives need to be reduced so that mosquito control measures can be done at all areas which have the virus."
   ]
  },
  {
   "cell_type": "markdown",
   "metadata": {},
   "source": [
    "## ROC_AUC for the final model chosen"
   ]
  },
  {
   "cell_type": "code",
   "execution_count": 65,
   "metadata": {},
   "outputs": [],
   "source": [
    "df = pd.DataFrame(preds1)"
   ]
  },
  {
   "cell_type": "code",
   "execution_count": 66,
   "metadata": {},
   "outputs": [],
   "source": [
    "# Create a dataframe called pred_df that contains:\n",
    "# 1. The list of true values of our validation set.\n",
    "# 2. The list of predicted probabilities based on our model.\n",
    "\n",
    "true_y = [i[1] for i in Y_val]\n",
    "\n",
    "pred_proba = [i[1] for i in model.predict_proba(X_val)]\n",
    "\n",
    "pred_df = pd.DataFrame({'true_values': true_y,'pred_probs':pred_proba})"
   ]
  },
  {
   "cell_type": "code",
   "execution_count": 67,
   "metadata": {},
   "outputs": [
    {
     "data": {
      "image/png": "[encoded data removed]",
      "text/plain": [
       "<Figure size 720x504 with 1 Axes>"
      ]
     },
     "metadata": {
      "needs_background": "light"
     },
     "output_type": "display_data"
    }
   ],
   "source": [
    "# Plot ROC_AUC Curve\n",
    "\n",
    "#Create figure.\n",
    "plt.figure(figsize = (10,7))\n",
    "\n",
    "# Create threshold values.\n",
    "thresholds = np.linspace(0, 1, 200)\n",
    "\n",
    "# Define function to calculate sensitivity. (True positive rate.)\n",
    "def TPR(df, true_col, pred_prob_col, threshold):\n",
    "    true_positive = df[(df[true_col] == 1) & (df[pred_prob_col] >= threshold)].shape[0]\n",
    "    false_negative = df[(df[true_col] == 1) & (df[pred_prob_col] < threshold)].shape[0]\n",
    "    return true_positive / (true_positive + false_negative)\n",
    "    \n",
    "\n",
    "# Define function to calculate 1 - specificity. (False positive rate.)\n",
    "def FPR(df, true_col, pred_prob_col, threshold):\n",
    "    true_negative = df[(df[true_col] == 0) & (df[pred_prob_col] <= threshold)].shape[0]\n",
    "    false_positive = df[(df[true_col] == 0) & (df[pred_prob_col] > threshold)].shape[0]\n",
    "    return 1 - (true_negative / (true_negative + false_positive))\n",
    "    \n",
    "# Calculate sensitivity & 1-specificity for each threshold between 0 and 1.\n",
    "tpr_values = [TPR(pred_df, 'true_values', 'pred_probs', prob) for prob in thresholds]\n",
    "fpr_values = [FPR(pred_df, 'true_values', 'pred_probs', prob) for prob in thresholds]\n",
    "\n",
    "# Plot ROC curve.\n",
    "plt.plot(fpr_values, # False Positive Rate on X-axis\n",
    "         tpr_values, # True Positive Rate on Y-axis\n",
    "         label='ROC Curve')\n",
    "\n",
    "# Plot baseline. (Perfect overlap between the two populations.)\n",
    "plt.plot(np.linspace(0, 1, 200),\n",
    "         np.linspace(0, 1, 200),\n",
    "         label='baseline',\n",
    "         linestyle='--')\n",
    "\n",
    "# Label axes.\n",
    "plt.title('Receiver Operating Characteristic Curve', fontsize=22)\n",
    "plt.ylabel('Sensitivity', fontsize=18)\n",
    "plt.xlabel('1 - Specificity', fontsize=18)\n",
    "\n",
    "# Create legend.\n",
    "plt.legend(fontsize=16);"
   ]
  },
  {
   "cell_type": "code",
   "execution_count": null,
   "metadata": {},
   "outputs": [],
   "source": []
  },
  {
   "cell_type": "code",
   "execution_count": null,
   "metadata": {},
   "outputs": [],
   "source": []
  }
 ],
 "metadata": {
  "kernelspec": {
   "display_name": "Python 3",
   "language": "python",
   "name": "python3"
  },
  "language_info": {
   "codemirror_mode": {
    "name": "ipython",
    "version": 3
   },
   "file_extension": ".py",
   "mimetype": "text/x-python",
   "name": "python",
   "nbconvert_exporter": "python",
   "pygments_lexer": "ipython3",
   "version": "3.7.6"
  }
 },
 "nbformat": 4,
 "nbformat_minor": 2
}
